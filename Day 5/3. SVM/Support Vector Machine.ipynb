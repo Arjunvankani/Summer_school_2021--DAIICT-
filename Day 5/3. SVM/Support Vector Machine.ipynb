{
 "cells": [
  {
   "cell_type": "markdown",
   "metadata": {
    "colab_type": "text",
    "id": "NbvjEcDB02Gu"
   },
   "source": [
    "# Implementation of SVM on GOT data"
   ]
  },
  {
   "cell_type": "markdown",
   "metadata": {
    "colab_type": "text",
    "id": "eGtOS3yS02Gv"
   },
   "source": [
    "Here, we will use Game of Thrones Character data set to identify whether the character is alive or dead based on various features."
   ]
  },
  {
   "cell_type": "code",
   "execution_count": 1,
   "metadata": {
    "colab": {},
    "colab_type": "code",
    "executionInfo": {
     "elapsed": 2133,
     "status": "ok",
     "timestamp": 1593854563670,
     "user": {
      "displayName": "nitin sharma",
      "photoUrl": "https://lh3.googleusercontent.com/a-/AOh14GipRPAC1mJTCRiZJ4x-tY1PlsClex3KCAbs6gvQ6Q=s64",
      "userId": "13417507190894542789"
     },
     "user_tz": -330
    },
    "id": "XSEAuynw02Gv"
   },
   "outputs": [],
   "source": [
    "#Import required libraries\n",
    "import pandas as pd\n",
    "from sklearn.model_selection import train_test_split                      #To split train and test dataset\n",
    "from sklearn import svm                                                   #To implement svm model\n",
    "from sklearn.metrics import accuracy_score                                #To measure accuracy score"
   ]
  },
  {
   "cell_type": "code",
   "execution_count": null,
   "metadata": {
    "colab": {
     "base_uri": "https://localhost:8080/",
     "height": 71,
     "resources": {
      "http://localhost:8080/nbextensions/google.colab/files.js": {
       "data": "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",
       "headers": [
        [
         "content-type",
         "application/javascript"
        ]
       ],
       "ok": true,
       "status": 200,
       "status_text": ""
      }
     }
    },
    "colab_type": "code",
    "executionInfo": {
     "elapsed": 14833,
     "status": "ok",
     "timestamp": 1588503963972,
     "user": {
      "displayName": "nitin sharma",
      "photoUrl": "https://lh3.googleusercontent.com/a-/AOh14GipRPAC1mJTCRiZJ4x-tY1PlsClex3KCAbs6gvQ6Q=s64",
      "userId": "13417507190894542789"
     },
     "user_tz": -330
    },
    "id": "dUV5G-zUNqi_",
    "outputId": "42789d38-4cbc-4b62-c28a-7c86a992e6f7"
   },
   "outputs": [
    {
     "data": {
      "text/html": [
       "\n",
       "     <input type=\"file\" id=\"files-6bb6721e-6c49-4593-8fa1-5a8d2093cdaf\" name=\"files[]\" multiple disabled />\n",
       "     <output id=\"result-6bb6721e-6c49-4593-8fa1-5a8d2093cdaf\">\n",
       "      Upload widget is only available when the cell has been executed in the\n",
       "      current browser session. Please rerun this cell to enable.\n",
       "      </output>\n",
       "      <script src=\"/nbextensions/google.colab/files.js\"></script> "
      ],
      "text/plain": [
       "<IPython.core.display.HTML object>"
      ]
     },
     "metadata": {
      "tags": []
     },
     "output_type": "display_data"
    },
    {
     "name": "stdout",
     "output_type": "stream",
     "text": [
      "Saving character-predictions_pose.csv to character-predictions_pose.csv\n"
     ]
    }
   ],
   "source": [
    "from google.colab import files\n",
    "uploaded = files.upload()\n"
   ]
  },
  {
   "cell_type": "code",
   "execution_count": 2,
   "metadata": {
    "colab": {
     "base_uri": "https://localhost:8080/",
     "height": 309
    },
    "colab_type": "code",
    "executionInfo": {
     "elapsed": 753,
     "status": "ok",
     "timestamp": 1593854566353,
     "user": {
      "displayName": "nitin sharma",
      "photoUrl": "https://lh3.googleusercontent.com/a-/AOh14GipRPAC1mJTCRiZJ4x-tY1PlsClex3KCAbs6gvQ6Q=s64",
      "userId": "13417507190894542789"
     },
     "user_tz": -330
    },
    "id": "WlduWBsA02Gz",
    "outputId": "f0b85971-c352-4294-fee5-a7bee2b5441b"
   },
   "outputs": [
    {
     "data": {
      "text/html": [
       "<div>\n",
       "<style scoped>\n",
       "    .dataframe tbody tr th:only-of-type {\n",
       "        vertical-align: middle;\n",
       "    }\n",
       "\n",
       "    .dataframe tbody tr th {\n",
       "        vertical-align: top;\n",
       "    }\n",
       "\n",
       "    .dataframe thead th {\n",
       "        text-align: right;\n",
       "    }\n",
       "</style>\n",
       "<table border=\"1\" class=\"dataframe\">\n",
       "  <thead>\n",
       "    <tr style=\"text-align: right;\">\n",
       "      <th></th>\n",
       "      <th>S.No</th>\n",
       "      <th>plod</th>\n",
       "      <th>name</th>\n",
       "      <th>title</th>\n",
       "      <th>male</th>\n",
       "      <th>culture</th>\n",
       "      <th>dateOfBirth</th>\n",
       "      <th>DateoFdeath</th>\n",
       "      <th>mother</th>\n",
       "      <th>father</th>\n",
       "      <th>heir</th>\n",
       "      <th>house</th>\n",
       "      <th>spouse</th>\n",
       "      <th>book1</th>\n",
       "      <th>book2</th>\n",
       "      <th>book3</th>\n",
       "      <th>book4</th>\n",
       "      <th>book5</th>\n",
       "      <th>isAliveMother</th>\n",
       "      <th>isAliveFather</th>\n",
       "      <th>isAliveHeir</th>\n",
       "      <th>isAliveSpouse</th>\n",
       "      <th>isMarried</th>\n",
       "      <th>isNoble</th>\n",
       "      <th>age</th>\n",
       "      <th>numDeadRelations</th>\n",
       "      <th>boolDeadRelations</th>\n",
       "      <th>isPopular</th>\n",
       "      <th>popularity</th>\n",
       "      <th>isAlive</th>\n",
       "    </tr>\n",
       "  </thead>\n",
       "  <tbody>\n",
       "    <tr>\n",
       "      <th>0</th>\n",
       "      <td>1</td>\n",
       "      <td>0.946</td>\n",
       "      <td>Viserys II Targaryen</td>\n",
       "      <td>NaN</td>\n",
       "      <td>1</td>\n",
       "      <td>NaN</td>\n",
       "      <td>NaN</td>\n",
       "      <td>NaN</td>\n",
       "      <td>Rhaenyra Targaryen</td>\n",
       "      <td>Daemon Targaryen</td>\n",
       "      <td>Aegon IV Targaryen</td>\n",
       "      <td>NaN</td>\n",
       "      <td>NaN</td>\n",
       "      <td>0</td>\n",
       "      <td>0</td>\n",
       "      <td>0</td>\n",
       "      <td>0</td>\n",
       "      <td>0</td>\n",
       "      <td>1.0</td>\n",
       "      <td>0.0</td>\n",
       "      <td>0.0</td>\n",
       "      <td>NaN</td>\n",
       "      <td>0</td>\n",
       "      <td>0</td>\n",
       "      <td>NaN</td>\n",
       "      <td>11</td>\n",
       "      <td>1</td>\n",
       "      <td>1</td>\n",
       "      <td>0.605351</td>\n",
       "      <td>0</td>\n",
       "    </tr>\n",
       "    <tr>\n",
       "      <th>1</th>\n",
       "      <td>2</td>\n",
       "      <td>0.613</td>\n",
       "      <td>Walder Frey</td>\n",
       "      <td>Lord of the Crossing</td>\n",
       "      <td>1</td>\n",
       "      <td>Rivermen</td>\n",
       "      <td>208.0</td>\n",
       "      <td>NaN</td>\n",
       "      <td>NaN</td>\n",
       "      <td>NaN</td>\n",
       "      <td>NaN</td>\n",
       "      <td>House Frey</td>\n",
       "      <td>Perra Royce</td>\n",
       "      <td>1</td>\n",
       "      <td>1</td>\n",
       "      <td>1</td>\n",
       "      <td>1</td>\n",
       "      <td>1</td>\n",
       "      <td>NaN</td>\n",
       "      <td>NaN</td>\n",
       "      <td>NaN</td>\n",
       "      <td>1.0</td>\n",
       "      <td>1</td>\n",
       "      <td>1</td>\n",
       "      <td>97.0</td>\n",
       "      <td>1</td>\n",
       "      <td>1</td>\n",
       "      <td>1</td>\n",
       "      <td>0.896321</td>\n",
       "      <td>1</td>\n",
       "    </tr>\n",
       "    <tr>\n",
       "      <th>2</th>\n",
       "      <td>3</td>\n",
       "      <td>0.507</td>\n",
       "      <td>Addison Hill</td>\n",
       "      <td>Ser</td>\n",
       "      <td>1</td>\n",
       "      <td>NaN</td>\n",
       "      <td>NaN</td>\n",
       "      <td>NaN</td>\n",
       "      <td>NaN</td>\n",
       "      <td>NaN</td>\n",
       "      <td>NaN</td>\n",
       "      <td>House Swyft</td>\n",
       "      <td>NaN</td>\n",
       "      <td>0</td>\n",
       "      <td>0</td>\n",
       "      <td>0</td>\n",
       "      <td>1</td>\n",
       "      <td>0</td>\n",
       "      <td>NaN</td>\n",
       "      <td>NaN</td>\n",
       "      <td>NaN</td>\n",
       "      <td>NaN</td>\n",
       "      <td>0</td>\n",
       "      <td>1</td>\n",
       "      <td>NaN</td>\n",
       "      <td>0</td>\n",
       "      <td>0</td>\n",
       "      <td>0</td>\n",
       "      <td>0.267559</td>\n",
       "      <td>1</td>\n",
       "    </tr>\n",
       "    <tr>\n",
       "      <th>3</th>\n",
       "      <td>4</td>\n",
       "      <td>0.924</td>\n",
       "      <td>Aemma Arryn</td>\n",
       "      <td>Queen</td>\n",
       "      <td>0</td>\n",
       "      <td>NaN</td>\n",
       "      <td>82.0</td>\n",
       "      <td>105.0</td>\n",
       "      <td>NaN</td>\n",
       "      <td>NaN</td>\n",
       "      <td>NaN</td>\n",
       "      <td>House Arryn</td>\n",
       "      <td>Viserys I Targaryen</td>\n",
       "      <td>0</td>\n",
       "      <td>0</td>\n",
       "      <td>0</td>\n",
       "      <td>0</td>\n",
       "      <td>0</td>\n",
       "      <td>NaN</td>\n",
       "      <td>NaN</td>\n",
       "      <td>NaN</td>\n",
       "      <td>0.0</td>\n",
       "      <td>1</td>\n",
       "      <td>1</td>\n",
       "      <td>23.0</td>\n",
       "      <td>0</td>\n",
       "      <td>0</td>\n",
       "      <td>0</td>\n",
       "      <td>0.183946</td>\n",
       "      <td>0</td>\n",
       "    </tr>\n",
       "    <tr>\n",
       "      <th>4</th>\n",
       "      <td>5</td>\n",
       "      <td>0.383</td>\n",
       "      <td>Sylva Santagar</td>\n",
       "      <td>Greenstone</td>\n",
       "      <td>0</td>\n",
       "      <td>Dornish</td>\n",
       "      <td>276.0</td>\n",
       "      <td>NaN</td>\n",
       "      <td>NaN</td>\n",
       "      <td>NaN</td>\n",
       "      <td>NaN</td>\n",
       "      <td>House Santagar</td>\n",
       "      <td>Eldon Estermont</td>\n",
       "      <td>0</td>\n",
       "      <td>0</td>\n",
       "      <td>0</td>\n",
       "      <td>1</td>\n",
       "      <td>0</td>\n",
       "      <td>NaN</td>\n",
       "      <td>NaN</td>\n",
       "      <td>NaN</td>\n",
       "      <td>1.0</td>\n",
       "      <td>1</td>\n",
       "      <td>1</td>\n",
       "      <td>29.0</td>\n",
       "      <td>0</td>\n",
       "      <td>0</td>\n",
       "      <td>0</td>\n",
       "      <td>0.043478</td>\n",
       "      <td>1</td>\n",
       "    </tr>\n",
       "  </tbody>\n",
       "</table>\n",
       "</div>"
      ],
      "text/plain": [
       "   S.No   plod                  name  ... isPopular  popularity isAlive\n",
       "0     1  0.946  Viserys II Targaryen  ...         1    0.605351       0\n",
       "1     2  0.613           Walder Frey  ...         1    0.896321       1\n",
       "2     3  0.507          Addison Hill  ...         0    0.267559       1\n",
       "3     4  0.924           Aemma Arryn  ...         0    0.183946       0\n",
       "4     5  0.383        Sylva Santagar  ...         0    0.043478       1\n",
       "\n",
       "[5 rows x 30 columns]"
      ]
     },
     "execution_count": 2,
     "metadata": {
      "tags": []
     },
     "output_type": "execute_result"
    }
   ],
   "source": [
    "#Load the data\n",
    "df_orig = pd.read_csv(\"character-predictions_pose.csv\")\n",
    "df = df_orig\n",
    "df.head()"
   ]
  },
  {
   "cell_type": "code",
   "execution_count": 3,
   "metadata": {
    "colab": {
     "base_uri": "https://localhost:8080/",
     "height": 34
    },
    "colab_type": "code",
    "executionInfo": {
     "elapsed": 2108,
     "status": "ok",
     "timestamp": 1593854604778,
     "user": {
      "displayName": "nitin sharma",
      "photoUrl": "https://lh3.googleusercontent.com/a-/AOh14GipRPAC1mJTCRiZJ4x-tY1PlsClex3KCAbs6gvQ6Q=s64",
      "userId": "13417507190894542789"
     },
     "user_tz": -330
    },
    "id": "_Y4JN3a802G2",
    "outputId": "978a34f7-7811-43c0-fa94-45c00547f6c7"
   },
   "outputs": [
    {
     "data": {
      "text/plain": [
       "(1946, 30)"
      ]
     },
     "execution_count": 3,
     "metadata": {
      "tags": []
     },
     "output_type": "execute_result"
    }
   ],
   "source": [
    "df.shape"
   ]
  },
  {
   "cell_type": "code",
   "execution_count": 4,
   "metadata": {
    "colab": {
     "base_uri": "https://localhost:8080/",
     "height": 646
    },
    "colab_type": "code",
    "executionInfo": {
     "elapsed": 1176,
     "status": "ok",
     "timestamp": 1593854634571,
     "user": {
      "displayName": "nitin sharma",
      "photoUrl": "https://lh3.googleusercontent.com/a-/AOh14GipRPAC1mJTCRiZJ4x-tY1PlsClex3KCAbs6gvQ6Q=s64",
      "userId": "13417507190894542789"
     },
     "user_tz": -330
    },
    "id": "oY0ouKqi02G4",
    "outputId": "bb95c1b0-6bb0-4b7f-b0d5-ac644c52b2b5"
   },
   "outputs": [
    {
     "name": "stdout",
     "output_type": "stream",
     "text": [
      "<class 'pandas.core.frame.DataFrame'>\n",
      "RangeIndex: 1946 entries, 0 to 1945\n",
      "Data columns (total 30 columns):\n",
      " #   Column             Non-Null Count  Dtype  \n",
      "---  ------             --------------  -----  \n",
      " 0   S.No               1946 non-null   int64  \n",
      " 1   plod               1946 non-null   float64\n",
      " 2   name               1946 non-null   object \n",
      " 3   title              938 non-null    object \n",
      " 4   male               1946 non-null   int64  \n",
      " 5   culture            677 non-null    object \n",
      " 6   dateOfBirth        433 non-null    float64\n",
      " 7   DateoFdeath        444 non-null    float64\n",
      " 8   mother             21 non-null     object \n",
      " 9   father             26 non-null     object \n",
      " 10  heir               23 non-null     object \n",
      " 11  house              1519 non-null   object \n",
      " 12  spouse             276 non-null    object \n",
      " 13  book1              1946 non-null   int64  \n",
      " 14  book2              1946 non-null   int64  \n",
      " 15  book3              1946 non-null   int64  \n",
      " 16  book4              1946 non-null   int64  \n",
      " 17  book5              1946 non-null   int64  \n",
      " 18  isAliveMother      21 non-null     float64\n",
      " 19  isAliveFather      26 non-null     float64\n",
      " 20  isAliveHeir        23 non-null     float64\n",
      " 21  isAliveSpouse      276 non-null    float64\n",
      " 22  isMarried          1946 non-null   int64  \n",
      " 23  isNoble            1946 non-null   int64  \n",
      " 24  age                433 non-null    float64\n",
      " 25  numDeadRelations   1946 non-null   int64  \n",
      " 26  boolDeadRelations  1946 non-null   int64  \n",
      " 27  isPopular          1946 non-null   int64  \n",
      " 28  popularity         1946 non-null   float64\n",
      " 29  isAlive            1946 non-null   int64  \n",
      "dtypes: float64(9), int64(13), object(8)\n",
      "memory usage: 456.2+ KB\n"
     ]
    }
   ],
   "source": [
    "df.info()"
   ]
  },
  {
   "cell_type": "code",
   "execution_count": 5,
   "metadata": {
    "colab": {
     "base_uri": "https://localhost:8080/",
     "height": 224
    },
    "colab_type": "code",
    "executionInfo": {
     "elapsed": 1475,
     "status": "ok",
     "timestamp": 1593854689947,
     "user": {
      "displayName": "nitin sharma",
      "photoUrl": "https://lh3.googleusercontent.com/a-/AOh14GipRPAC1mJTCRiZJ4x-tY1PlsClex3KCAbs6gvQ6Q=s64",
      "userId": "13417507190894542789"
     },
     "user_tz": -330
    },
    "id": "oFk4ko9V02G6",
    "outputId": "b9534819-e2c5-49a6-ecfe-7cc996d10ad0"
   },
   "outputs": [
    {
     "data": {
      "text/html": [
       "<div>\n",
       "<style scoped>\n",
       "    .dataframe tbody tr th:only-of-type {\n",
       "        vertical-align: middle;\n",
       "    }\n",
       "\n",
       "    .dataframe tbody tr th {\n",
       "        vertical-align: top;\n",
       "    }\n",
       "\n",
       "    .dataframe thead th {\n",
       "        text-align: right;\n",
       "    }\n",
       "</style>\n",
       "<table border=\"1\" class=\"dataframe\">\n",
       "  <thead>\n",
       "    <tr style=\"text-align: right;\">\n",
       "      <th></th>\n",
       "      <th>plod</th>\n",
       "      <th>male</th>\n",
       "      <th>dateOfBirth</th>\n",
       "      <th>book1</th>\n",
       "      <th>book2</th>\n",
       "      <th>book3</th>\n",
       "      <th>book4</th>\n",
       "      <th>book5</th>\n",
       "      <th>isAliveMother</th>\n",
       "      <th>isAliveFather</th>\n",
       "      <th>isAliveHeir</th>\n",
       "      <th>isAliveSpouse</th>\n",
       "      <th>isMarried</th>\n",
       "      <th>isNoble</th>\n",
       "      <th>numDeadRelations</th>\n",
       "      <th>boolDeadRelations</th>\n",
       "      <th>isPopular</th>\n",
       "      <th>popularity</th>\n",
       "      <th>isAlive</th>\n",
       "    </tr>\n",
       "  </thead>\n",
       "  <tbody>\n",
       "    <tr>\n",
       "      <th>0</th>\n",
       "      <td>0.946</td>\n",
       "      <td>1</td>\n",
       "      <td>NaN</td>\n",
       "      <td>0</td>\n",
       "      <td>0</td>\n",
       "      <td>0</td>\n",
       "      <td>0</td>\n",
       "      <td>0</td>\n",
       "      <td>1.0</td>\n",
       "      <td>0.0</td>\n",
       "      <td>0.0</td>\n",
       "      <td>NaN</td>\n",
       "      <td>0</td>\n",
       "      <td>0</td>\n",
       "      <td>11</td>\n",
       "      <td>1</td>\n",
       "      <td>1</td>\n",
       "      <td>0.605351</td>\n",
       "      <td>0</td>\n",
       "    </tr>\n",
       "    <tr>\n",
       "      <th>1</th>\n",
       "      <td>0.613</td>\n",
       "      <td>1</td>\n",
       "      <td>208.0</td>\n",
       "      <td>1</td>\n",
       "      <td>1</td>\n",
       "      <td>1</td>\n",
       "      <td>1</td>\n",
       "      <td>1</td>\n",
       "      <td>NaN</td>\n",
       "      <td>NaN</td>\n",
       "      <td>NaN</td>\n",
       "      <td>1.0</td>\n",
       "      <td>1</td>\n",
       "      <td>1</td>\n",
       "      <td>1</td>\n",
       "      <td>1</td>\n",
       "      <td>1</td>\n",
       "      <td>0.896321</td>\n",
       "      <td>1</td>\n",
       "    </tr>\n",
       "    <tr>\n",
       "      <th>2</th>\n",
       "      <td>0.507</td>\n",
       "      <td>1</td>\n",
       "      <td>NaN</td>\n",
       "      <td>0</td>\n",
       "      <td>0</td>\n",
       "      <td>0</td>\n",
       "      <td>1</td>\n",
       "      <td>0</td>\n",
       "      <td>NaN</td>\n",
       "      <td>NaN</td>\n",
       "      <td>NaN</td>\n",
       "      <td>NaN</td>\n",
       "      <td>0</td>\n",
       "      <td>1</td>\n",
       "      <td>0</td>\n",
       "      <td>0</td>\n",
       "      <td>0</td>\n",
       "      <td>0.267559</td>\n",
       "      <td>1</td>\n",
       "    </tr>\n",
       "    <tr>\n",
       "      <th>3</th>\n",
       "      <td>0.924</td>\n",
       "      <td>0</td>\n",
       "      <td>82.0</td>\n",
       "      <td>0</td>\n",
       "      <td>0</td>\n",
       "      <td>0</td>\n",
       "      <td>0</td>\n",
       "      <td>0</td>\n",
       "      <td>NaN</td>\n",
       "      <td>NaN</td>\n",
       "      <td>NaN</td>\n",
       "      <td>0.0</td>\n",
       "      <td>1</td>\n",
       "      <td>1</td>\n",
       "      <td>0</td>\n",
       "      <td>0</td>\n",
       "      <td>0</td>\n",
       "      <td>0.183946</td>\n",
       "      <td>0</td>\n",
       "    </tr>\n",
       "    <tr>\n",
       "      <th>4</th>\n",
       "      <td>0.383</td>\n",
       "      <td>0</td>\n",
       "      <td>276.0</td>\n",
       "      <td>0</td>\n",
       "      <td>0</td>\n",
       "      <td>0</td>\n",
       "      <td>1</td>\n",
       "      <td>0</td>\n",
       "      <td>NaN</td>\n",
       "      <td>NaN</td>\n",
       "      <td>NaN</td>\n",
       "      <td>1.0</td>\n",
       "      <td>1</td>\n",
       "      <td>1</td>\n",
       "      <td>0</td>\n",
       "      <td>0</td>\n",
       "      <td>0</td>\n",
       "      <td>0.043478</td>\n",
       "      <td>1</td>\n",
       "    </tr>\n",
       "  </tbody>\n",
       "</table>\n",
       "</div>"
      ],
      "text/plain": [
       "    plod  male  dateOfBirth  ...  isPopular  popularity  isAlive\n",
       "0  0.946     1          NaN  ...          1    0.605351        0\n",
       "1  0.613     1        208.0  ...          1    0.896321        1\n",
       "2  0.507     1          NaN  ...          0    0.267559        1\n",
       "3  0.924     0         82.0  ...          0    0.183946        0\n",
       "4  0.383     0        276.0  ...          0    0.043478        1\n",
       "\n",
       "[5 rows x 19 columns]"
      ]
     },
     "execution_count": 5,
     "metadata": {
      "tags": []
     },
     "output_type": "execute_result"
    }
   ],
   "source": [
    "#Remove identity columns\n",
    "#Data contains few rows where age is negative which is not possible, so remove such rows\n",
    "\n",
    "removecolumns = ['S.No', 'name', 'title', 'culture', 'DateoFdeath', 'mother', 'father', 'heir', 'house', 'spouse', 'age']\n",
    "df = df.drop(columns=removecolumns)\n",
    "df.head()"
   ]
  },
  {
   "cell_type": "code",
   "execution_count": 6,
   "metadata": {
    "colab": {
     "base_uri": "https://localhost:8080/",
     "height": 357
    },
    "colab_type": "code",
    "executionInfo": {
     "elapsed": 1042,
     "status": "ok",
     "timestamp": 1593854732008,
     "user": {
      "displayName": "nitin sharma",
      "photoUrl": "https://lh3.googleusercontent.com/a-/AOh14GipRPAC1mJTCRiZJ4x-tY1PlsClex3KCAbs6gvQ6Q=s64",
      "userId": "13417507190894542789"
     },
     "user_tz": -330
    },
    "id": "Tnoayosu02G8",
    "outputId": "e3c88e84-c4fe-4bf7-d377-18766f336dda"
   },
   "outputs": [
    {
     "data": {
      "text/plain": [
       "plod                    0\n",
       "male                    0\n",
       "dateOfBirth          1513\n",
       "book1                   0\n",
       "book2                   0\n",
       "book3                   0\n",
       "book4                   0\n",
       "book5                   0\n",
       "isAliveMother        1925\n",
       "isAliveFather        1920\n",
       "isAliveHeir          1923\n",
       "isAliveSpouse        1670\n",
       "isMarried               0\n",
       "isNoble                 0\n",
       "numDeadRelations        0\n",
       "boolDeadRelations       0\n",
       "isPopular               0\n",
       "popularity              0\n",
       "isAlive                 0\n",
       "dtype: int64"
      ]
     },
     "execution_count": 6,
     "metadata": {
      "tags": []
     },
     "output_type": "execute_result"
    }
   ],
   "source": [
    "df.isna().sum()"
   ]
  },
  {
   "cell_type": "code",
   "execution_count": 7,
   "metadata": {
    "colab": {
     "base_uri": "https://localhost:8080/",
     "height": 272
    },
    "colab_type": "code",
    "executionInfo": {
     "elapsed": 1160,
     "status": "ok",
     "timestamp": 1593854744587,
     "user": {
      "displayName": "nitin sharma",
      "photoUrl": "https://lh3.googleusercontent.com/a-/AOh14GipRPAC1mJTCRiZJ4x-tY1PlsClex3KCAbs6gvQ6Q=s64",
      "userId": "13417507190894542789"
     },
     "user_tz": -330
    },
    "id": "eQOZpi9q02G_",
    "outputId": "4a72a38a-d483-4e20-f55f-842740fbb0dc"
   },
   "outputs": [
    {
     "data": {
      "text/plain": [
       "plod                 0\n",
       "male                 0\n",
       "book1                0\n",
       "book2                0\n",
       "book3                0\n",
       "book4                0\n",
       "book5                0\n",
       "isMarried            0\n",
       "isNoble              0\n",
       "numDeadRelations     0\n",
       "boolDeadRelations    0\n",
       "isPopular            0\n",
       "popularity           0\n",
       "isAlive              0\n",
       "dtype: int64"
      ]
     },
     "execution_count": 7,
     "metadata": {
      "tags": []
     },
     "output_type": "execute_result"
    }
   ],
   "source": [
    "#Remove above columns where null value pecentage is high\n",
    "\n",
    "list2 = ['dateOfBirth', 'isAliveMother', 'isAliveFather', 'isAliveHeir', 'isAliveSpouse']\n",
    "\n",
    "df = df.drop(columns=list2)\n",
    "df.isna().sum()"
   ]
  },
  {
   "cell_type": "code",
   "execution_count": 8,
   "metadata": {
    "colab": {
     "base_uri": "https://localhost:8080/",
     "height": 34
    },
    "colab_type": "code",
    "executionInfo": {
     "elapsed": 1008,
     "status": "ok",
     "timestamp": 1593854755113,
     "user": {
      "displayName": "nitin sharma",
      "photoUrl": "https://lh3.googleusercontent.com/a-/AOh14GipRPAC1mJTCRiZJ4x-tY1PlsClex3KCAbs6gvQ6Q=s64",
      "userId": "13417507190894542789"
     },
     "user_tz": -330
    },
    "id": "BppMbGqs02HB",
    "outputId": "a0881f7d-9c5a-4b87-d546-d92d5505f64b"
   },
   "outputs": [
    {
     "data": {
      "text/plain": [
       "(1946, 14)"
      ]
     },
     "execution_count": 8,
     "metadata": {
      "tags": []
     },
     "output_type": "execute_result"
    }
   ],
   "source": [
    "df.shape"
   ]
  },
  {
   "cell_type": "code",
   "execution_count": 9,
   "metadata": {
    "colab": {},
    "colab_type": "code",
    "executionInfo": {
     "elapsed": 1043,
     "status": "ok",
     "timestamp": 1593854776775,
     "user": {
      "displayName": "nitin sharma",
      "photoUrl": "https://lh3.googleusercontent.com/a-/AOh14GipRPAC1mJTCRiZJ4x-tY1PlsClex3KCAbs6gvQ6Q=s64",
      "userId": "13417507190894542789"
     },
     "user_tz": -330
    },
    "id": "D-lsbtwm02HD"
   },
   "outputs": [],
   "source": [
    "#Seperate dependent and independent variables\n",
    "x = df.drop(columns=['isAlive'])\n",
    "y = df['isAlive']"
   ]
  },
  {
   "cell_type": "code",
   "execution_count": 11,
   "metadata": {
    "colab": {
     "base_uri": "https://localhost:8080/",
     "height": 68
    },
    "colab_type": "code",
    "executionInfo": {
     "elapsed": 1126,
     "status": "ok",
     "timestamp": 1593854839401,
     "user": {
      "displayName": "nitin sharma",
      "photoUrl": "https://lh3.googleusercontent.com/a-/AOh14GipRPAC1mJTCRiZJ4x-tY1PlsClex3KCAbs6gvQ6Q=s64",
      "userId": "13417507190894542789"
     },
     "user_tz": -330
    },
    "id": "-RoQMoeiJj8A",
    "outputId": "266f558d-9664-4501-91d4-163f06d6464f"
   },
   "outputs": [
    {
     "data": {
      "text/plain": [
       "1    0.745632\n",
       "0    0.254368\n",
       "Name: isAlive, dtype: float64"
      ]
     },
     "execution_count": 11,
     "metadata": {
      "tags": []
     },
     "output_type": "execute_result"
    }
   ],
   "source": [
    "df['isAlive'].value_counts(normalize=True)"
   ]
  },
  {
   "cell_type": "code",
   "execution_count": 12,
   "metadata": {
    "colab": {},
    "colab_type": "code",
    "executionInfo": {
     "elapsed": 1103,
     "status": "ok",
     "timestamp": 1593854856369,
     "user": {
      "displayName": "nitin sharma",
      "photoUrl": "https://lh3.googleusercontent.com/a-/AOh14GipRPAC1mJTCRiZJ4x-tY1PlsClex3KCAbs6gvQ6Q=s64",
      "userId": "13417507190894542789"
     },
     "user_tz": -330
    },
    "id": "9szFELOs02HG"
   },
   "outputs": [],
   "source": [
    "#Split the datset into train and test dataset\n",
    "\n",
    "xtrain, xtest, ytrain, ytest = train_test_split(x, y, test_size = 0.2, stratify=y)"
   ]
  },
  {
   "cell_type": "code",
   "execution_count": 13,
   "metadata": {
    "colab": {
     "base_uri": "https://localhost:8080/",
     "height": 85
    },
    "colab_type": "code",
    "executionInfo": {
     "elapsed": 1007,
     "status": "ok",
     "timestamp": 1593854860148,
     "user": {
      "displayName": "nitin sharma",
      "photoUrl": "https://lh3.googleusercontent.com/a-/AOh14GipRPAC1mJTCRiZJ4x-tY1PlsClex3KCAbs6gvQ6Q=s64",
      "userId": "13417507190894542789"
     },
     "user_tz": -330
    },
    "id": "HXkTXzzq02HI",
    "outputId": "ccfb0d71-f7c3-4afe-f983-0023b9542321"
   },
   "outputs": [
    {
     "name": "stdout",
     "output_type": "stream",
     "text": [
      "(1556, 13)\n",
      "(390, 13)\n",
      "(1556,)\n",
      "(390,)\n"
     ]
    }
   ],
   "source": [
    "print(xtrain.shape)\n",
    "print(xtest.shape)\n",
    "print(ytrain.shape)\n",
    "print(ytest.shape)"
   ]
  },
  {
   "cell_type": "code",
   "execution_count": 14,
   "metadata": {
    "colab": {},
    "colab_type": "code",
    "executionInfo": {
     "elapsed": 1219,
     "status": "ok",
     "timestamp": 1593854882114,
     "user": {
      "displayName": "nitin sharma",
      "photoUrl": "https://lh3.googleusercontent.com/a-/AOh14GipRPAC1mJTCRiZJ4x-tY1PlsClex3KCAbs6gvQ6Q=s64",
      "userId": "13417507190894542789"
     },
     "user_tz": -330
    },
    "id": "we7XEp_U02HL"
   },
   "outputs": [],
   "source": [
    "#Train SVM model on train dataset\n",
    "\n",
    "classifier = svm.SVC()\n",
    "classifier = classifier.fit(xtrain, ytrain)"
   ]
  },
  {
   "cell_type": "code",
   "execution_count": 15,
   "metadata": {
    "colab": {
     "base_uri": "https://localhost:8080/",
     "height": 85
    },
    "colab_type": "code",
    "executionInfo": {
     "elapsed": 1009,
     "status": "ok",
     "timestamp": 1593854884317,
     "user": {
      "displayName": "nitin sharma",
      "photoUrl": "https://lh3.googleusercontent.com/a-/AOh14GipRPAC1mJTCRiZJ4x-tY1PlsClex3KCAbs6gvQ6Q=s64",
      "userId": "13417507190894542789"
     },
     "user_tz": -330
    },
    "id": "J7r5K3_x02HN",
    "outputId": "e7fef209-c705-4175-8460-302938d9c2ed"
   },
   "outputs": [
    {
     "data": {
      "text/plain": [
       "SVC(C=1.0, break_ties=False, cache_size=200, class_weight=None, coef0=0.0,\n",
       "    decision_function_shape='ovr', degree=3, gamma='scale', kernel='rbf',\n",
       "    max_iter=-1, probability=False, random_state=None, shrinking=True,\n",
       "    tol=0.001, verbose=False)"
      ]
     },
     "execution_count": 15,
     "metadata": {
      "tags": []
     },
     "output_type": "execute_result"
    }
   ],
   "source": [
    "classifier"
   ]
  },
  {
   "cell_type": "code",
   "execution_count": 16,
   "metadata": {
    "colab": {},
    "colab_type": "code",
    "executionInfo": {
     "elapsed": 1869,
     "status": "ok",
     "timestamp": 1593855031366,
     "user": {
      "displayName": "nitin sharma",
      "photoUrl": "https://lh3.googleusercontent.com/a-/AOh14GipRPAC1mJTCRiZJ4x-tY1PlsClex3KCAbs6gvQ6Q=s64",
      "userId": "13417507190894542789"
     },
     "user_tz": -330
    },
    "id": "w_6TcYYw02HP"
   },
   "outputs": [],
   "source": [
    "#Predict on test data using the model\n",
    "pred1 = classifier.predict(xtest)"
   ]
  },
  {
   "cell_type": "code",
   "execution_count": 17,
   "metadata": {
    "colab": {
     "base_uri": "https://localhost:8080/",
     "height": 34
    },
    "colab_type": "code",
    "executionInfo": {
     "elapsed": 3085,
     "status": "ok",
     "timestamp": 1593855037022,
     "user": {
      "displayName": "nitin sharma",
      "photoUrl": "https://lh3.googleusercontent.com/a-/AOh14GipRPAC1mJTCRiZJ4x-tY1PlsClex3KCAbs6gvQ6Q=s64",
      "userId": "13417507190894542789"
     },
     "user_tz": -330
    },
    "id": "O1FWb2nL02HQ",
    "outputId": "adf3a9d6-23f9-400c-c784-59af842dbf0c"
   },
   "outputs": [
    {
     "name": "stdout",
     "output_type": "stream",
     "text": [
      "0.7769230769230769\n"
     ]
    }
   ],
   "source": [
    "#Check the accuracy of the model\n",
    "\n",
    "acc1 = accuracy_score(pred1, ytest)\n",
    "print(acc1)"
   ]
  },
  {
   "cell_type": "code",
   "execution_count": 20,
   "metadata": {
    "colab": {},
    "colab_type": "code",
    "executionInfo": {
     "elapsed": 1493,
     "status": "ok",
     "timestamp": 1593855126001,
     "user": {
      "displayName": "nitin sharma",
      "photoUrl": "https://lh3.googleusercontent.com/a-/AOh14GipRPAC1mJTCRiZJ4x-tY1PlsClex3KCAbs6gvQ6Q=s64",
      "userId": "13417507190894542789"
     },
     "user_tz": -330
    },
    "id": "Gczt8Jto02HS"
   },
   "outputs": [],
   "source": [
    "#Lets create a function to build a svm model, predict on test data and give the accuracy score\n",
    "\n",
    "def svmclassifier(xtrain, ytrain,xtest, ytest, kernel, cvalue, gammavalue):\n",
    "    mod = svm.SVC(kernel = kernel, C = cvalue, gamma = gammavalue, random_state=121)\n",
    "    mod = mod.fit(xtrain, ytrain)\n",
    "    pred = mod.predict(xtest)\n",
    "    acc = accuracy_score(pred, ytest)\n",
    "    print(\"Accuray of model is :\", acc)"
   ]
  },
  {
   "cell_type": "code",
   "execution_count": 21,
   "metadata": {
    "colab": {},
    "colab_type": "code",
    "executionInfo": {
     "elapsed": 3826,
     "status": "ok",
     "timestamp": 1593855130352,
     "user": {
      "displayName": "nitin sharma",
      "photoUrl": "https://lh3.googleusercontent.com/a-/AOh14GipRPAC1mJTCRiZJ4x-tY1PlsClex3KCAbs6gvQ6Q=s64",
      "userId": "13417507190894542789"
     },
     "user_tz": -330
    },
    "id": "6Iq2qhV_02HV"
   },
   "outputs": [],
   "source": [
    "#Lets build the model for various parameters of c and gamma values"
   ]
  },
  {
   "cell_type": "code",
   "execution_count": 22,
   "metadata": {
    "colab": {
     "base_uri": "https://localhost:8080/",
     "height": 34
    },
    "colab_type": "code",
    "executionInfo": {
     "elapsed": 3587,
     "status": "ok",
     "timestamp": 1593855130353,
     "user": {
      "displayName": "nitin sharma",
      "photoUrl": "https://lh3.googleusercontent.com/a-/AOh14GipRPAC1mJTCRiZJ4x-tY1PlsClex3KCAbs6gvQ6Q=s64",
      "userId": "13417507190894542789"
     },
     "user_tz": -330
    },
    "id": "CzvS0S_h02HX",
    "outputId": "2cf0f844-87f9-4c57-a9ac-8f0f994440f7"
   },
   "outputs": [
    {
     "name": "stdout",
     "output_type": "stream",
     "text": [
      "Accuray of model is : 0.7692307692307693\n"
     ]
    }
   ],
   "source": [
    "mod1 = svmclassifier(xtrain, ytrain, xtest, ytest, 'rbf', 1, 0.1)"
   ]
  },
  {
   "cell_type": "code",
   "execution_count": 23,
   "metadata": {
    "colab": {
     "base_uri": "https://localhost:8080/",
     "height": 34
    },
    "colab_type": "code",
    "executionInfo": {
     "elapsed": 1376,
     "status": "ok",
     "timestamp": 1593855150183,
     "user": {
      "displayName": "nitin sharma",
      "photoUrl": "https://lh3.googleusercontent.com/a-/AOh14GipRPAC1mJTCRiZJ4x-tY1PlsClex3KCAbs6gvQ6Q=s64",
      "userId": "13417507190894542789"
     },
     "user_tz": -330
    },
    "id": "z_YU5K6802HY",
    "outputId": "36eaea25-a165-47ab-abf9-47d8bc06dc55"
   },
   "outputs": [
    {
     "name": "stdout",
     "output_type": "stream",
     "text": [
      "Accuray of model is : 0.7871794871794872\n"
     ]
    }
   ],
   "source": [
    "mod1 = svmclassifier(xtrain, ytrain, xtest, ytest, 'rbf', 1, 1)"
   ]
  },
  {
   "cell_type": "code",
   "execution_count": 26,
   "metadata": {
    "colab": {
     "base_uri": "https://localhost:8080/",
     "height": 34
    },
    "colab_type": "code",
    "executionInfo": {
     "elapsed": 1044,
     "status": "ok",
     "timestamp": 1593855199515,
     "user": {
      "displayName": "nitin sharma",
      "photoUrl": "https://lh3.googleusercontent.com/a-/AOh14GipRPAC1mJTCRiZJ4x-tY1PlsClex3KCAbs6gvQ6Q=s64",
      "userId": "13417507190894542789"
     },
     "user_tz": -330
    },
    "id": "IsUKPIkW02Ha",
    "outputId": "63024c15-4682-4f82-b763-2971b3de0103"
   },
   "outputs": [
    {
     "name": "stdout",
     "output_type": "stream",
     "text": [
      "Accuray of model is : 0.7743589743589744\n"
     ]
    }
   ],
   "source": [
    "mod1 = svmclassifier(xtrain, ytrain, xtest, ytest, 'rbf', 1, 10)"
   ]
  },
  {
   "cell_type": "code",
   "execution_count": 27,
   "metadata": {
    "colab": {
     "base_uri": "https://localhost:8080/",
     "height": 34
    },
    "colab_type": "code",
    "executionInfo": {
     "elapsed": 1032,
     "status": "ok",
     "timestamp": 1593855206454,
     "user": {
      "displayName": "nitin sharma",
      "photoUrl": "https://lh3.googleusercontent.com/a-/AOh14GipRPAC1mJTCRiZJ4x-tY1PlsClex3KCAbs6gvQ6Q=s64",
      "userId": "13417507190894542789"
     },
     "user_tz": -330
    },
    "id": "WhkxnZc602Hc",
    "outputId": "d05a0f78-3906-4e44-c9f1-2259cb2b4f3f"
   },
   "outputs": [
    {
     "name": "stdout",
     "output_type": "stream",
     "text": [
      "Accuray of model is : 0.7589743589743589\n"
     ]
    }
   ],
   "source": [
    "mod1 = svmclassifier(xtrain, ytrain, xtest, ytest, 'rbf', 1, 100)"
   ]
  },
  {
   "cell_type": "code",
   "execution_count": 28,
   "metadata": {
    "colab": {
     "base_uri": "https://localhost:8080/",
     "height": 34
    },
    "colab_type": "code",
    "executionInfo": {
     "elapsed": 1023,
     "status": "ok",
     "timestamp": 1593855219337,
     "user": {
      "displayName": "nitin sharma",
      "photoUrl": "https://lh3.googleusercontent.com/a-/AOh14GipRPAC1mJTCRiZJ4x-tY1PlsClex3KCAbs6gvQ6Q=s64",
      "userId": "13417507190894542789"
     },
     "user_tz": -330
    },
    "id": "NzkvotWC02Hd",
    "outputId": "6dbeb84d-96a4-4e0e-c2b3-f3b5e0ed5eb3"
   },
   "outputs": [
    {
     "name": "stdout",
     "output_type": "stream",
     "text": [
      "Accuray of model is : 0.7923076923076923\n"
     ]
    }
   ],
   "source": [
    "mod1 = svmclassifier(xtrain, ytrain, xtest, ytest, 'rbf', 10, 0.1)"
   ]
  },
  {
   "cell_type": "code",
   "execution_count": 29,
   "metadata": {
    "colab": {
     "base_uri": "https://localhost:8080/",
     "height": 34
    },
    "colab_type": "code",
    "executionInfo": {
     "elapsed": 1358,
     "status": "ok",
     "timestamp": 1593855246061,
     "user": {
      "displayName": "nitin sharma",
      "photoUrl": "https://lh3.googleusercontent.com/a-/AOh14GipRPAC1mJTCRiZJ4x-tY1PlsClex3KCAbs6gvQ6Q=s64",
      "userId": "13417507190894542789"
     },
     "user_tz": -330
    },
    "id": "yRHp1bVn02Hf",
    "outputId": "0a37d3b6-a980-485c-b453-143e452bfa85"
   },
   "outputs": [
    {
     "name": "stdout",
     "output_type": "stream",
     "text": [
      "Accuray of model is : 0.7948717948717948\n"
     ]
    }
   ],
   "source": [
    "mod1 = svmclassifier(xtrain, ytrain, xtest, ytest, 'rbf', 100, 0.1)"
   ]
  },
  {
   "cell_type": "code",
   "execution_count": 34,
   "metadata": {
    "colab": {
     "base_uri": "https://localhost:8080/",
     "height": 34
    },
    "colab_type": "code",
    "executionInfo": {
     "elapsed": 8117,
     "status": "ok",
     "timestamp": 1593855484964,
     "user": {
      "displayName": "nitin sharma",
      "photoUrl": "https://lh3.googleusercontent.com/a-/AOh14GipRPAC1mJTCRiZJ4x-tY1PlsClex3KCAbs6gvQ6Q=s64",
      "userId": "13417507190894542789"
     },
     "user_tz": -330
    },
    "id": "6EqOGFKn02Hg",
    "outputId": "ae7f28de-75b5-4dc0-c354-91d9acaacf98"
   },
   "outputs": [
    {
     "name": "stdout",
     "output_type": "stream",
     "text": [
      "Accuray of model is : 0.7794871794871795\n"
     ]
    }
   ],
   "source": [
    "mod1 = svmclassifier(xtrain, ytrain, xtest, ytest, 'linear', 1000, 0.1)"
   ]
  },
  {
   "cell_type": "code",
   "execution_count": null,
   "metadata": {
    "colab": {
     "base_uri": "https://localhost:8080/",
     "height": 34
    },
    "colab_type": "code",
    "executionInfo": {
     "elapsed": 2319,
     "status": "ok",
     "timestamp": 1588504511991,
     "user": {
      "displayName": "nitin sharma",
      "photoUrl": "https://lh3.googleusercontent.com/a-/AOh14GipRPAC1mJTCRiZJ4x-tY1PlsClex3KCAbs6gvQ6Q=s64",
      "userId": "13417507190894542789"
     },
     "user_tz": -330
    },
    "id": "EslwuAQL02Hi",
    "outputId": "d8fac46b-7226-4f86-e411-be05c066a46d"
   },
   "outputs": [
    {
     "name": "stdout",
     "output_type": "stream",
     "text": [
      "Accuray of model is : 0.7589743589743589\n"
     ]
    }
   ],
   "source": [
    "mod1 = svmclassifier(xtrain, ytrain, xtest, ytest, 'rbf', 10000, 0.1)"
   ]
  },
  {
   "cell_type": "code",
   "execution_count": null,
   "metadata": {
    "colab": {
     "base_uri": "https://localhost:8080/",
     "height": 34
    },
    "colab_type": "code",
    "executionInfo": {
     "elapsed": 1008,
     "status": "ok",
     "timestamp": 1588504522865,
     "user": {
      "displayName": "nitin sharma",
      "photoUrl": "https://lh3.googleusercontent.com/a-/AOh14GipRPAC1mJTCRiZJ4x-tY1PlsClex3KCAbs6gvQ6Q=s64",
      "userId": "13417507190894542789"
     },
     "user_tz": -330
    },
    "id": "I_IqQ1RJ02Hk",
    "outputId": "2a0b766b-dd68-468d-d209-d28069ed1e10"
   },
   "outputs": [
    {
     "name": "stdout",
     "output_type": "stream",
     "text": [
      "Accuray of model is : 0.7692307692307693\n"
     ]
    }
   ],
   "source": [
    "#Based on above observations, we get the best model for c = 10, gamma = 0.1\n",
    "mod1 = svmclassifier(xtrain, ytrain, xtest, ytest, 'rbf', 10, 0.1)"
   ]
  },
  {
   "cell_type": "code",
   "execution_count": null,
   "metadata": {
    "colab": {},
    "colab_type": "code",
    "id": "PbZ8CSAT02Hm"
   },
   "outputs": [],
   "source": [
    "import pickle"
   ]
  },
  {
   "cell_type": "code",
   "execution_count": null,
   "metadata": {
    "colab": {},
    "colab_type": "code",
    "id": "4akciasfRYRy"
   },
   "outputs": [],
   "source": [
    "\n",
    "with open('filename.pickle', 'wb') as handle:\n",
    "    pickle.dump(mod1, handle, protocol=pickle.HIGHEST_PROTOCOL)\n",
    "\n",
    "with open('filename.pickle', 'rb') as handle:\n",
    "    b = pickle.load(handle)"
   ]
  },
  {
   "cell_type": "code",
   "execution_count": null,
   "metadata": {
    "colab": {},
    "colab_type": "code",
    "id": "N1C6zgMlRma4"
   },
   "outputs": [],
   "source": []
  },
  {
   "cell_type": "code",
   "execution_count": null,
   "metadata": {
    "colab": {},
    "colab_type": "code",
    "id": "dYprP8diR4JJ"
   },
   "outputs": [],
   "source": []
  }
 ],
 "metadata": {
  "colab": {
   "name": "Support Vector Machine.ipynb",
   "provenance": [],
   "toc_visible": true
  },
  "kernelspec": {
   "display_name": "Python 3",
   "language": "python",
   "name": "python3"
  },
  "language_info": {
   "codemirror_mode": {
    "name": "ipython",
    "version": 3
   },
   "file_extension": ".py",
   "mimetype": "text/x-python",
   "name": "python",
   "nbconvert_exporter": "python",
   "pygments_lexer": "ipython3",
   "version": "3.7.8"
  }
 },
 "nbformat": 4,
 "nbformat_minor": 1
}
