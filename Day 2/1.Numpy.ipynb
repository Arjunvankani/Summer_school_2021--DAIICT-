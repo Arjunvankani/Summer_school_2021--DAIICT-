{
 "cells": [
  {
   "cell_type": "markdown",
   "metadata": {
    "colab_type": "text",
    "id": "R9NtfCwJxFoF"
   },
   "source": [
    "# Introduction of Numpy"
   ]
  },
  {
   "cell_type": "markdown",
   "metadata": {
    "colab_type": "text",
    "id": "eIMvTunWxFoJ"
   },
   "source": [
    "NumPy is a general-purpose array-processing package. It provides a high-performance multidimensional array object, and tools for working with these arrays."
   ]
  },
  {
   "cell_type": "code",
   "execution_count": 0,
   "metadata": {
    "colab": {},
    "colab_type": "code",
    "id": "fJh3BeZUxFoK"
   },
   "outputs": [],
   "source": [
    "#!pip install numpy\n",
    "\n",
    "import numpy as np"
   ]
  },
  {
   "cell_type": "code",
   "execution_count": 0,
   "metadata": {
    "colab": {
     "base_uri": "https://localhost:8080/",
     "height": 51
    },
    "colab_type": "code",
    "executionInfo": {
     "elapsed": 1244,
     "status": "ok",
     "timestamp": 1583582391048,
     "user": {
      "displayName": "nitin sharma",
      "photoUrl": "https://lh3.googleusercontent.com/a-/AOh14GipRPAC1mJTCRiZJ4x-tY1PlsClex3KCAbs6gvQ6Q=s64",
      "userId": "13417507190894542789"
     },
     "user_tz": -330
    },
    "id": "75yWRckptmAf",
    "outputId": "97f8b39a-b0bd-428e-dd0c-4c5600483d93"
   },
   "outputs": [
    {
     "data": {
      "text/plain": [
       "array([[3, 6],\n",
       "       [3, 6]])"
      ]
     },
     "execution_count": 20,
     "metadata": {
      "tags": []
     },
     "output_type": "execute_result"
    }
   ],
   "source": [
    "np.sort([1,2,3,4])\n",
    "X = np.array([[1,2],[1,2]])\n",
    "np.matmul(X,X)\n"
   ]
  },
  {
   "cell_type": "markdown",
   "metadata": {
    "colab_type": "text",
    "id": "wXV2_CXgxFoS"
   },
   "source": [
    "## Numpy Arrays"
   ]
  },
  {
   "cell_type": "code",
   "execution_count": 0,
   "metadata": {
    "colab": {
     "base_uri": "https://localhost:8080/",
     "height": 34
    },
    "colab_type": "code",
    "executionInfo": {
     "elapsed": 1248,
     "status": "ok",
     "timestamp": 1583582462707,
     "user": {
      "displayName": "nitin sharma",
      "photoUrl": "https://lh3.googleusercontent.com/a-/AOh14GipRPAC1mJTCRiZJ4x-tY1PlsClex3KCAbs6gvQ6Q=s64",
      "userId": "13417507190894542789"
     },
     "user_tz": -330
    },
    "id": "yPoc2_FQxFoT",
    "outputId": "34030852-fa23-4ac6-9a08-0bd19d79fe5a"
   },
   "outputs": [
    {
     "data": {
      "text/plain": [
       "numpy.ndarray"
      ]
     },
     "execution_count": 23,
     "metadata": {
      "tags": []
     },
     "output_type": "execute_result"
    }
   ],
   "source": [
    "type(np.array([\"vbhvh\", 2, 3]))\n"
   ]
  },
  {
   "cell_type": "code",
   "execution_count": 0,
   "metadata": {
    "colab": {},
    "colab_type": "code",
    "id": "1Vtz3-RzxFoY",
    "outputId": "5e147dd6-074b-4ee4-f434-4923154bcc80"
   },
   "outputs": [
    {
     "data": {
      "text/plain": [
       "array([1, 2, 3, 4])"
      ]
     },
     "execution_count": 3,
     "metadata": {
      "tags": []
     },
     "output_type": "execute_result"
    }
   ],
   "source": [
    "#Convert a list into an array\n",
    "list_1=[1,2,3,4]\n",
    "\n",
    "array_1=np.array(list_1)\n",
    "array_1"
   ]
  },
  {
   "cell_type": "code",
   "execution_count": 0,
   "metadata": {
    "colab": {
     "base_uri": "https://localhost:8080/",
     "height": 34
    },
    "colab_type": "code",
    "executionInfo": {
     "elapsed": 1353,
     "status": "ok",
     "timestamp": 1583582763699,
     "user": {
      "displayName": "nitin sharma",
      "photoUrl": "https://lh3.googleusercontent.com/a-/AOh14GipRPAC1mJTCRiZJ4x-tY1PlsClex3KCAbs6gvQ6Q=s64",
      "userId": "13417507190894542789"
     },
     "user_tz": -330
    },
    "id": "Mr9EaTx3xFob",
    "outputId": "548e1183-6615-4bb9-9e77-06b95168ca9c"
   },
   "outputs": [
    {
     "name": "stdout",
     "output_type": "stream",
     "text": [
      "['ss' 'ddd' '1' '2']\n"
     ]
    }
   ],
   "source": [
    "#Upcasting:\n",
    "print(np.array([1, 2, 3.6]))\n",
    "print(np.array(['ss',\"ddd\",1,2]))"
   ]
  },
  {
   "cell_type": "code",
   "execution_count": 0,
   "metadata": {
    "colab": {},
    "colab_type": "code",
    "id": "JUXt7_fq6WCZ"
   },
   "outputs": [],
   "source": []
  },
  {
   "cell_type": "code",
   "execution_count": 0,
   "metadata": {
    "colab": {
     "base_uri": "https://localhost:8080/",
     "height": 51
    },
    "colab_type": "code",
    "executionInfo": {
     "elapsed": 3871,
     "status": "ok",
     "timestamp": 1583583470411,
     "user": {
      "displayName": "nitin sharma",
      "photoUrl": "https://lh3.googleusercontent.com/a-/AOh14GipRPAC1mJTCRiZJ4x-tY1PlsClex3KCAbs6gvQ6Q=s64",
      "userId": "13417507190894542789"
     },
     "user_tz": -330
    },
    "id": "YTCtG9ELxFoi",
    "outputId": "aad3504a-c836-485a-c0cb-63dad5bd95ac"
   },
   "outputs": [
    {
     "name": "stdout",
     "output_type": "stream",
     "text": [
      "[[ 1  1  2  4]\n",
      " [ 7  8  9 10]]\n"
     ]
    }
   ],
   "source": [
    "#two dimension\n",
    "list_1 = [1,1,2,4]\n",
    "list_2=[7,8,9,10]\n",
    "list_combo=[list_1,list_2]\n",
    "ar2=np.array(list_combo)\n",
    "print(ar2)"
   ]
  },
  {
   "cell_type": "code",
   "execution_count": 0,
   "metadata": {
    "colab": {
     "base_uri": "https://localhost:8080/",
     "height": 34
    },
    "colab_type": "code",
    "executionInfo": {
     "elapsed": 2064,
     "status": "ok",
     "timestamp": 1583583499498,
     "user": {
      "displayName": "nitin sharma",
      "photoUrl": "https://lh3.googleusercontent.com/a-/AOh14GipRPAC1mJTCRiZJ4x-tY1PlsClex3KCAbs6gvQ6Q=s64",
      "userId": "13417507190894542789"
     },
     "user_tz": -330
    },
    "id": "YlTEn9uVxFoo",
    "outputId": "0690bf43-907d-4645-cac4-ca6d0e7b13bf"
   },
   "outputs": [
    {
     "data": {
      "text/plain": [
       "(2, 4)"
      ]
     },
     "execution_count": 39,
     "metadata": {
      "tags": []
     },
     "output_type": "execute_result"
    }
   ],
   "source": [
    "ar2.shape"
   ]
  },
  {
   "cell_type": "code",
   "execution_count": 0,
   "metadata": {
    "colab": {
     "base_uri": "https://localhost:8080/",
     "height": 34
    },
    "colab_type": "code",
    "executionInfo": {
     "elapsed": 1485,
     "status": "ok",
     "timestamp": 1583583528692,
     "user": {
      "displayName": "nitin sharma",
      "photoUrl": "https://lh3.googleusercontent.com/a-/AOh14GipRPAC1mJTCRiZJ4x-tY1PlsClex3KCAbs6gvQ6Q=s64",
      "userId": "13417507190894542789"
     },
     "user_tz": -330
    },
    "id": "fyF4L0xQxFor",
    "outputId": "c13e8ab3-91e4-449d-ace4-4b0bd71cec9c"
   },
   "outputs": [
    {
     "data": {
      "text/plain": [
       "42"
      ]
     },
     "execution_count": 42,
     "metadata": {
      "tags": []
     },
     "output_type": "execute_result"
    }
   ],
   "source": [
    "ar2.sum()"
   ]
  },
  {
   "cell_type": "code",
   "execution_count": 0,
   "metadata": {
    "colab": {
     "base_uri": "https://localhost:8080/",
     "height": 34
    },
    "colab_type": "code",
    "executionInfo": {
     "elapsed": 1389,
     "status": "ok",
     "timestamp": 1583583535080,
     "user": {
      "displayName": "nitin sharma",
      "photoUrl": "https://lh3.googleusercontent.com/a-/AOh14GipRPAC1mJTCRiZJ4x-tY1PlsClex3KCAbs6gvQ6Q=s64",
      "userId": "13417507190894542789"
     },
     "user_tz": -330
    },
    "id": "lz9KSah-xFox",
    "outputId": "abe28fa4-6426-48cc-f3dc-5e145a522fe9"
   },
   "outputs": [
    {
     "data": {
      "text/plain": [
       "10"
      ]
     },
     "execution_count": 43,
     "metadata": {
      "tags": []
     },
     "output_type": "execute_result"
    }
   ],
   "source": [
    "ar2.max()"
   ]
  },
  {
   "cell_type": "code",
   "execution_count": 0,
   "metadata": {
    "colab": {
     "base_uri": "https://localhost:8080/",
     "height": 34
    },
    "colab_type": "code",
    "executionInfo": {
     "elapsed": 1408,
     "status": "ok",
     "timestamp": 1583583540788,
     "user": {
      "displayName": "nitin sharma",
      "photoUrl": "https://lh3.googleusercontent.com/a-/AOh14GipRPAC1mJTCRiZJ4x-tY1PlsClex3KCAbs6gvQ6Q=s64",
      "userId": "13417507190894542789"
     },
     "user_tz": -330
    },
    "id": "btakViPbxFo1",
    "outputId": "b7b00f23-c06b-4977-fc6d-2e8eec5ad9d8"
   },
   "outputs": [
    {
     "data": {
      "text/plain": [
       "1"
      ]
     },
     "execution_count": 44,
     "metadata": {
      "tags": []
     },
     "output_type": "execute_result"
    }
   ],
   "source": [
    "ar2.min()"
   ]
  },
  {
   "cell_type": "code",
   "execution_count": 0,
   "metadata": {
    "colab": {
     "base_uri": "https://localhost:8080/",
     "height": 34
    },
    "colab_type": "code",
    "executionInfo": {
     "elapsed": 1244,
     "status": "ok",
     "timestamp": 1583583579220,
     "user": {
      "displayName": "nitin sharma",
      "photoUrl": "https://lh3.googleusercontent.com/a-/AOh14GipRPAC1mJTCRiZJ4x-tY1PlsClex3KCAbs6gvQ6Q=s64",
      "userId": "13417507190894542789"
     },
     "user_tz": -330
    },
    "id": "WRmMO4IixFo5",
    "outputId": "772cbc55-aa6f-4c40-a461-4a2661b3e9e0"
   },
   "outputs": [
    {
     "data": {
      "text/plain": [
       "5.25"
      ]
     },
     "execution_count": 46,
     "metadata": {
      "tags": []
     },
     "output_type": "execute_result"
    }
   ],
   "source": [
    "ar2.mean()"
   ]
  },
  {
   "cell_type": "code",
   "execution_count": 0,
   "metadata": {
    "colab": {
     "base_uri": "https://localhost:8080/",
     "height": 34
    },
    "colab_type": "code",
    "executionInfo": {
     "elapsed": 1466,
     "status": "ok",
     "timestamp": 1583583589716,
     "user": {
      "displayName": "nitin sharma",
      "photoUrl": "https://lh3.googleusercontent.com/a-/AOh14GipRPAC1mJTCRiZJ4x-tY1PlsClex3KCAbs6gvQ6Q=s64",
      "userId": "13417507190894542789"
     },
     "user_tz": -330
    },
    "id": "XY8pTuMoxFo8",
    "outputId": "89bd65d9-f151-492c-bab1-730864543eb5"
   },
   "outputs": [
    {
     "data": {
      "text/plain": [
       "array([1.+0.j, 2.+0.j, 3.+0.j])"
      ]
     },
     "execution_count": 47,
     "metadata": {
      "tags": []
     },
     "output_type": "execute_result"
    }
   ],
   "source": [
    "#dtype\n",
    "np.array([1, 2, 3], dtype=complex)"
   ]
  },
  {
   "cell_type": "code",
   "execution_count": 0,
   "metadata": {
    "colab": {},
    "colab_type": "code",
    "id": "zDYn6-zjxFpB",
    "outputId": "e6322f10-3519-41c3-cf91-027ebf8d5bb7"
   },
   "outputs": [
    {
     "data": {
      "text/plain": [
       "matrix([[1, 2],\n",
       "        [4, 7]])"
      ]
     },
     "execution_count": 12,
     "metadata": {
      "tags": []
     },
     "output_type": "execute_result"
    }
   ],
   "source": [
    "#Creating an array from sub-classes:\n",
    "np.mat(np.array([[1, 2],[4,7]]))"
   ]
  },
  {
   "cell_type": "code",
   "execution_count": 0,
   "metadata": {
    "colab": {},
    "colab_type": "code",
    "id": "f_4S7SEaxFpE"
   },
   "outputs": [],
   "source": [
    "# How to create create a record array from a (flat) list of arrays\n",
    "x1=np.array([1,2,3,4])\n",
    "x2=np.array(['pen','pencil','paper',4])\n",
    "x3=np.array([1.1,2,3,4])\n",
    "x4=np.array([1.1,2,3,4])"
   ]
  },
  {
   "cell_type": "code",
   "execution_count": 0,
   "metadata": {
    "colab": {
     "base_uri": "https://localhost:8080/",
     "height": 68
    },
    "colab_type": "code",
    "executionInfo": {
     "elapsed": 1463,
     "status": "ok",
     "timestamp": 1583583795072,
     "user": {
      "displayName": "nitin sharma",
      "photoUrl": "https://lh3.googleusercontent.com/a-/AOh14GipRPAC1mJTCRiZJ4x-tY1PlsClex3KCAbs6gvQ6Q=s64",
      "userId": "13417507190894542789"
     },
     "user_tz": -330
    },
    "id": "gnLULyqgxFpJ",
    "outputId": "2585fdc1-ee68-4e81-eb0a-3d217992da88"
   },
   "outputs": [
    {
     "data": {
      "text/plain": [
       "rec.array([(1, 'pen', 1.1, 1.1), (2, 'pencil', 2. , 2. ),\n",
       "           (3, 'paper', 3. , 3. ), (4, '4', 4. , 4. )],\n",
       "          dtype=[('a', '<i8'), ('b', '<U6'), ('c', '<f8'), ('d', '<f8')])"
      ]
     },
     "execution_count": 51,
     "metadata": {
      "tags": []
     },
     "output_type": "execute_result"
    }
   ],
   "source": [
    "r = np.core.records.fromarrays([x1,x2,x3,x4],names='a,b,c,d')\n",
    "r"
   ]
  },
  {
   "cell_type": "markdown",
   "metadata": {
    "colab_type": "text",
    "id": "moARBd7CxFpM"
   },
   "source": [
    "## Arange and Reshaping"
   ]
  },
  {
   "cell_type": "code",
   "execution_count": 0,
   "metadata": {
    "colab": {
     "base_uri": "https://localhost:8080/",
     "height": 34
    },
    "colab_type": "code",
    "executionInfo": {
     "elapsed": 1295,
     "status": "ok",
     "timestamp": 1583584081823,
     "user": {
      "displayName": "nitin sharma",
      "photoUrl": "https://lh3.googleusercontent.com/a-/AOh14GipRPAC1mJTCRiZJ4x-tY1PlsClex3KCAbs6gvQ6Q=s64",
      "userId": "13417507190894542789"
     },
     "user_tz": -330
    },
    "id": "FwY9IbnBxFpN",
    "outputId": "971bf0e3-f366-4e9c-cdcc-87a531fd76aa"
   },
   "outputs": [
    {
     "data": {
      "text/plain": [
       "array([0, 1, 2, 3, 4, 5, 6, 7, 8, 9])"
      ]
     },
     "execution_count": 57,
     "metadata": {
      "tags": []
     },
     "output_type": "execute_result"
    }
   ],
   "source": [
    "np.arange(0,10)"
   ]
  },
  {
   "cell_type": "code",
   "execution_count": 0,
   "metadata": {
    "colab": {
     "base_uri": "https://localhost:8080/",
     "height": 34
    },
    "colab_type": "code",
    "executionInfo": {
     "elapsed": 1459,
     "status": "ok",
     "timestamp": 1583584032213,
     "user": {
      "displayName": "nitin sharma",
      "photoUrl": "https://lh3.googleusercontent.com/a-/AOh14GipRPAC1mJTCRiZJ4x-tY1PlsClex3KCAbs6gvQ6Q=s64",
      "userId": "13417507190894542789"
     },
     "user_tz": -330
    },
    "id": "EBtE92HzxFpS",
    "outputId": "0b214f6a-9624-41f1-ec2d-a50cebce84cd"
   },
   "outputs": [
    {
     "data": {
      "text/plain": [
       "array([ 5. ,  7.3,  9.6, 11.9, 14.2])"
      ]
     },
     "execution_count": 54,
     "metadata": {
      "tags": []
     },
     "output_type": "execute_result"
    }
   ],
   "source": [
    "#Number spaced apart by 2.3\n",
    "np.arange(5,16,2.3)# A series of numbers from low to high"
   ]
  },
  {
   "cell_type": "code",
   "execution_count": 0,
   "metadata": {
    "colab": {
     "base_uri": "https://localhost:8080/",
     "height": 34
    },
    "colab_type": "code",
    "executionInfo": {
     "elapsed": 1249,
     "status": "ok",
     "timestamp": 1583584188372,
     "user": {
      "displayName": "nitin sharma",
      "photoUrl": "https://lh3.googleusercontent.com/a-/AOh14GipRPAC1mJTCRiZJ4x-tY1PlsClex3KCAbs6gvQ6Q=s64",
      "userId": "13417507190894542789"
     },
     "user_tz": -330
    },
    "id": "G9nwz-WAxFpV",
    "outputId": "34620183-22f1-44c3-f6cc-440d9dc3cd00"
   },
   "outputs": [
    {
     "data": {
      "text/plain": [
       "array([0. , 0.1, 0.2, 0.3, 0.4, 0.5, 0.6, 0.7, 0.8, 0.9])"
      ]
     },
     "execution_count": 61,
     "metadata": {
      "tags": []
     },
     "output_type": "execute_result"
    }
   ],
   "source": [
    "np.arange(0,1,0.1)"
   ]
  },
  {
   "cell_type": "code",
   "execution_count": 0,
   "metadata": {
    "colab": {
     "base_uri": "https://localhost:8080/",
     "height": 187
    },
    "colab_type": "code",
    "executionInfo": {
     "elapsed": 1218,
     "status": "ok",
     "timestamp": 1583584380047,
     "user": {
      "displayName": "nitin sharma",
      "photoUrl": "https://lh3.googleusercontent.com/a-/AOh14GipRPAC1mJTCRiZJ4x-tY1PlsClex3KCAbs6gvQ6Q=s64",
      "userId": "13417507190894542789"
     },
     "user_tz": -330
    },
    "id": "pGuE-7uYxFpZ",
    "outputId": "cfc06c08-45bc-4289-daa3-d5010760100d"
   },
   "outputs": [
    {
     "data": {
      "text/plain": [
       "array([[ 0,  1,  2,  3,  4],\n",
       "       [ 5,  6,  7,  8,  9],\n",
       "       [10, 11, 12, 13, 14],\n",
       "       [15, 16, 17, 18, 19],\n",
       "       [20, 21, 22, 23, 24],\n",
       "       [25, 26, 27, 28, 29],\n",
       "       [30, 31, 32, 33, 34],\n",
       "       [35, 36, 37, 38, 39],\n",
       "       [40, 41, 42, 43, 44],\n",
       "       [45, 46, 47, 48, 49]])"
      ]
     },
     "execution_count": 64,
     "metadata": {
      "tags": []
     },
     "output_type": "execute_result"
    }
   ],
   "source": [
    "np.arange(0,50).reshape((5,10)).reshape(10,5)"
   ]
  },
  {
   "cell_type": "markdown",
   "metadata": {
    "colab_type": "text",
    "id": "EY0j1iOjxFpb"
   },
   "source": [
    "## Random number generation"
   ]
  },
  {
   "cell_type": "code",
   "execution_count": 0,
   "metadata": {
    "colab": {
     "base_uri": "https://localhost:8080/",
     "height": 153
    },
    "colab_type": "code",
    "executionInfo": {
     "elapsed": 1151,
     "status": "ok",
     "timestamp": 1583584577304,
     "user": {
      "displayName": "nitin sharma",
      "photoUrl": "https://lh3.googleusercontent.com/a-/AOh14GipRPAC1mJTCRiZJ4x-tY1PlsClex3KCAbs6gvQ6Q=s64",
      "userId": "13417507190894542789"
     },
     "user_tz": -330
    },
    "id": "bLFvqvdDxFpc",
    "outputId": "21fe88ca-02a2-45ed-81d8-2ae13ed6fad5"
   },
   "outputs": [
    {
     "name": "stdout",
     "output_type": "stream",
     "text": [
      "\n",
      "Vector of random integers\n",
      " -------------------------------------------------- \n",
      " [77 28 56 14 58 11 46 58 53  7]\n",
      "\n",
      "Here is the sorted vector\n",
      " -------------------------------------------------- \n",
      " [ 7 11 14 28 46 53 56 58 58 77]\n"
     ]
    }
   ],
   "source": [
    "from numpy.random import randint as ri\n",
    "A = ri(1,100,10) # Vector of random interegrs\n",
    "print(\"\\nVector of random integers\\n\",'-'*50,\"\\n\",A)\n",
    "print(\"\\nHere is the sorted vector\\n\",'-'*50,\"\\n\",np.sort(A))"
   ]
  },
  {
   "cell_type": "code",
   "execution_count": 0,
   "metadata": {
    "colab": {
     "base_uri": "https://localhost:8080/",
     "height": 68
    },
    "colab_type": "code",
    "executionInfo": {
     "elapsed": 1614,
     "status": "ok",
     "timestamp": 1583584604519,
     "user": {
      "displayName": "nitin sharma",
      "photoUrl": "https://lh3.googleusercontent.com/a-/AOh14GipRPAC1mJTCRiZJ4x-tY1PlsClex3KCAbs6gvQ6Q=s64",
      "userId": "13417507190894542789"
     },
     "user_tz": -330
    },
    "id": "cVsHy8HbxFpg",
    "outputId": "b9b06d12-162b-4ed0-98da-4330ddb319c3"
   },
   "outputs": [
    {
     "name": "stdout",
     "output_type": "stream",
     "text": [
      "Random number generation (from Uniform distribution)\n",
      "[[0.23531786 0.28926381 0.84539786]\n",
      " [0.5346438  0.57201217 0.69095896]]\n"
     ]
    }
   ],
   "source": [
    "print(\"Random number generation (from Uniform distribution)\")\n",
    "# 2 by 3 matrix with random numbers ranging from 0 to 1, Note no Tuple is necessary\n",
    "print(np.random.rand(2,3))"
   ]
  },
  {
   "cell_type": "code",
   "execution_count": 0,
   "metadata": {
    "colab": {
     "base_uri": "https://localhost:8080/",
     "height": 119
    },
    "colab_type": "code",
    "executionInfo": {
     "elapsed": 1216,
     "status": "ok",
     "timestamp": 1583585094712,
     "user": {
      "displayName": "nitin sharma",
      "photoUrl": "https://lh3.googleusercontent.com/a-/AOh14GipRPAC1mJTCRiZJ4x-tY1PlsClex3KCAbs6gvQ6Q=s64",
      "userId": "13417507190894542789"
     },
     "user_tz": -330
    },
    "id": "ZJNLOVG5xFpk",
    "outputId": "f4c8dc77-c3eb-4ac7-ea10-80cd79a307b0"
   },
   "outputs": [
    {
     "name": "stdout",
     "output_type": "stream",
     "text": [
      "[[85 85 85 87]\n",
      " [20 42 67 83]\n",
      " [41 72 58  8]\n",
      " [13 11 66 89]]\n",
      "\n",
      "20 samples drawn from a dice throw: [5 3 6 1 6 5 3 5 6 6 1 6 3 4 5 4 6 2 3 4]\n"
     ]
    }
   ],
   "source": [
    "#randint (low, high, # of samples to be drawn in a tuple to form a matrix\n",
    "np.random.seed(111)\n",
    "print(np.random.randint(1,100,(4,4))) \n",
    "# 20 samples drawn from a dice throw\n",
    "print(\"\\n20 samples drawn from a dice throw:\",np.random.randint(1,7,20))\n",
    "\n",
    "#[5 3 6 1 6 5 3 5 6 6 1 6 3 4 5 4 6 2 3 4]"
   ]
  },
  {
   "cell_type": "markdown",
   "metadata": {
    "colab_type": "text",
    "id": "1icQhYbexFpn"
   },
   "source": [
    "## Indexing and Slicing"
   ]
  },
  {
   "cell_type": "code",
   "execution_count": 0,
   "metadata": {
    "colab": {
     "base_uri": "https://localhost:8080/",
     "height": 34
    },
    "colab_type": "code",
    "executionInfo": {
     "elapsed": 1256,
     "status": "ok",
     "timestamp": 1583585153811,
     "user": {
      "displayName": "nitin sharma",
      "photoUrl": "https://lh3.googleusercontent.com/a-/AOh14GipRPAC1mJTCRiZJ4x-tY1PlsClex3KCAbs6gvQ6Q=s64",
      "userId": "13417507190894542789"
     },
     "user_tz": -330
    },
    "id": "NMcAP9YbxFpo",
    "outputId": "9743e20d-f3a4-4931-fc12-6689a466b904"
   },
   "outputs": [
    {
     "data": {
      "text/plain": [
       "array([ 0,  1,  2,  3,  4,  5,  6,  7,  8,  9, 10])"
      ]
     },
     "execution_count": 77,
     "metadata": {
      "tags": []
     },
     "output_type": "execute_result"
    }
   ],
   "source": [
    "arr = np.arange(0,11)\n",
    "arr"
   ]
  },
  {
   "cell_type": "code",
   "execution_count": 0,
   "metadata": {
    "colab": {
     "base_uri": "https://localhost:8080/",
     "height": 34
    },
    "colab_type": "code",
    "executionInfo": {
     "elapsed": 1644,
     "status": "ok",
     "timestamp": 1583585159144,
     "user": {
      "displayName": "nitin sharma",
      "photoUrl": "https://lh3.googleusercontent.com/a-/AOh14GipRPAC1mJTCRiZJ4x-tY1PlsClex3KCAbs6gvQ6Q=s64",
      "userId": "13417507190894542789"
     },
     "user_tz": -330
    },
    "id": "JZG3TrEaxFpq",
    "outputId": "af798df2-8537-4685-a650-e17c42605f9c"
   },
   "outputs": [
    {
     "data": {
      "text/plain": [
       "7"
      ]
     },
     "execution_count": 78,
     "metadata": {
      "tags": []
     },
     "output_type": "execute_result"
    }
   ],
   "source": [
    "arr[7]"
   ]
  },
  {
   "cell_type": "code",
   "execution_count": 0,
   "metadata": {
    "colab": {
     "base_uri": "https://localhost:8080/",
     "height": 34
    },
    "colab_type": "code",
    "executionInfo": {
     "elapsed": 1359,
     "status": "ok",
     "timestamp": 1583585186895,
     "user": {
      "displayName": "nitin sharma",
      "photoUrl": "https://lh3.googleusercontent.com/a-/AOh14GipRPAC1mJTCRiZJ4x-tY1PlsClex3KCAbs6gvQ6Q=s64",
      "userId": "13417507190894542789"
     },
     "user_tz": -330
    },
    "id": "Tl-1cKNtxFpt",
    "outputId": "245fa243-6bde-4b00-c8fc-1a9e2ad8427e"
   },
   "outputs": [
    {
     "data": {
      "text/plain": [
       "array([3, 5, 7, 9])"
      ]
     },
     "execution_count": 79,
     "metadata": {
      "tags": []
     },
     "output_type": "execute_result"
    }
   ],
   "source": [
    "arr[3:10:2]"
   ]
  },
  {
   "cell_type": "code",
   "execution_count": 0,
   "metadata": {
    "colab": {
     "base_uri": "https://localhost:8080/",
     "height": 34
    },
    "colab_type": "code",
    "executionInfo": {
     "elapsed": 1218,
     "status": "ok",
     "timestamp": 1583585217439,
     "user": {
      "displayName": "nitin sharma",
      "photoUrl": "https://lh3.googleusercontent.com/a-/AOh14GipRPAC1mJTCRiZJ4x-tY1PlsClex3KCAbs6gvQ6Q=s64",
      "userId": "13417507190894542789"
     },
     "user_tz": -330
    },
    "id": "6tfGYOqrxFpx",
    "outputId": "2b6f458d-5f1e-4f74-a821-106ca95bd8f7"
   },
   "outputs": [
    {
     "data": {
      "text/plain": [
       "array([0, 1, 2, 3])"
      ]
     },
     "execution_count": 80,
     "metadata": {
      "tags": []
     },
     "output_type": "execute_result"
    }
   ],
   "source": [
    "arr[:4]"
   ]
  },
  {
   "cell_type": "code",
   "execution_count": 0,
   "metadata": {
    "colab": {
     "base_uri": "https://localhost:8080/",
     "height": 34
    },
    "colab_type": "code",
    "executionInfo": {
     "elapsed": 1202,
     "status": "ok",
     "timestamp": 1583585271235,
     "user": {
      "displayName": "nitin sharma",
      "photoUrl": "https://lh3.googleusercontent.com/a-/AOh14GipRPAC1mJTCRiZJ4x-tY1PlsClex3KCAbs6gvQ6Q=s64",
      "userId": "13417507190894542789"
     },
     "user_tz": -330
    },
    "id": "nOhMje-exFp0",
    "outputId": "b3ae1ff0-cab5-427a-d771-43d354e66ebc"
   },
   "outputs": [
    {
     "data": {
      "text/plain": [
       "array([10,  8])"
      ]
     },
     "execution_count": 84,
     "metadata": {
      "tags": []
     },
     "output_type": "execute_result"
    }
   ],
   "source": [
    "#3 Elements from last backwards\n",
    "arr[-1:7:-2]"
   ]
  },
  {
   "cell_type": "code",
   "execution_count": 0,
   "metadata": {
    "colab": {
     "base_uri": "https://localhost:8080/",
     "height": 34
    },
    "colab_type": "code",
    "executionInfo": {
     "elapsed": 1419,
     "status": "ok",
     "timestamp": 1583585353114,
     "user": {
      "displayName": "nitin sharma",
      "photoUrl": "https://lh3.googleusercontent.com/a-/AOh14GipRPAC1mJTCRiZJ4x-tY1PlsClex3KCAbs6gvQ6Q=s64",
      "userId": "13417507190894542789"
     },
     "user_tz": -330
    },
    "id": "MQToQEC4xFp3",
    "outputId": "ae5cc50b-16e4-4b1f-b36f-5c00435d1375"
   },
   "outputs": [
    {
     "name": "stdout",
     "output_type": "stream",
     "text": [
      "Elements at 2nd, 4th, and 9th index are: [2 4 9]\n"
     ]
    }
   ],
   "source": [
    "print(\"Elements at 2nd, 4th, and 9th index are:\", arr[[2,4,9]]) # Pass a list as a index to subset"
   ]
  },
  {
   "cell_type": "code",
   "execution_count": 0,
   "metadata": {
    "colab": {
     "base_uri": "https://localhost:8080/",
     "height": 34
    },
    "colab_type": "code",
    "executionInfo": {
     "elapsed": 1554,
     "status": "ok",
     "timestamp": 1583585361855,
     "user": {
      "displayName": "nitin sharma",
      "photoUrl": "https://lh3.googleusercontent.com/a-/AOh14GipRPAC1mJTCRiZJ4x-tY1PlsClex3KCAbs6gvQ6Q=s64",
      "userId": "13417507190894542789"
     },
     "user_tz": -330
    },
    "id": "dv569DQRxFp6",
    "outputId": "dd1ffd15-f8f7-4b09-eb85-a096f0b47fc9"
   },
   "outputs": [
    {
     "data": {
      "text/plain": [
       "array([ 3,  4,  5,  6,  7,  8,  9, 10])"
      ]
     },
     "execution_count": 86,
     "metadata": {
      "tags": []
     },
     "output_type": "execute_result"
    }
   ],
   "source": [
    "arr[3:]"
   ]
  },
  {
   "cell_type": "code",
   "execution_count": 0,
   "metadata": {
    "colab": {
     "base_uri": "https://localhost:8080/",
     "height": 34
    },
    "colab_type": "code",
    "executionInfo": {
     "elapsed": 761,
     "status": "ok",
     "timestamp": 1583585361856,
     "user": {
      "displayName": "nitin sharma",
      "photoUrl": "https://lh3.googleusercontent.com/a-/AOh14GipRPAC1mJTCRiZJ4x-tY1PlsClex3KCAbs6gvQ6Q=s64",
      "userId": "13417507190894542789"
     },
     "user_tz": -330
    },
    "id": "BPF6reKFxFp_",
    "outputId": "118a406a-bb83-481d-ba5a-f2ffd0435ff4"
   },
   "outputs": [
    {
     "data": {
      "text/plain": [
       "array([3, 4, 5])"
      ]
     },
     "execution_count": 87,
     "metadata": {
      "tags": []
     },
     "output_type": "execute_result"
    }
   ],
   "source": [
    "arr[3:6]"
   ]
  },
  {
   "cell_type": "markdown",
   "metadata": {
    "colab_type": "text",
    "id": "ZmED_ztixFqD"
   },
   "source": [
    "## Indexing multi dimensional array"
   ]
  },
  {
   "cell_type": "code",
   "execution_count": 0,
   "metadata": {
    "colab": {
     "base_uri": "https://localhost:8080/",
     "height": 68
    },
    "colab_type": "code",
    "executionInfo": {
     "elapsed": 1236,
     "status": "ok",
     "timestamp": 1583585392366,
     "user": {
      "displayName": "nitin sharma",
      "photoUrl": "https://lh3.googleusercontent.com/a-/AOh14GipRPAC1mJTCRiZJ4x-tY1PlsClex3KCAbs6gvQ6Q=s64",
      "userId": "13417507190894542789"
     },
     "user_tz": -330
    },
    "id": "QTwMD9XhxFqE",
    "outputId": "7392f51d-7f05-4f57-d8ac-c4641cc244c9"
   },
   "outputs": [
    {
     "data": {
      "text/plain": [
       "array([[ 3,  4,  5],\n",
       "       [ 6,  7,  8],\n",
       "       [ 9, 10, 11]])"
      ]
     },
     "execution_count": 88,
     "metadata": {
      "tags": []
     },
     "output_type": "execute_result"
    }
   ],
   "source": [
    "array_2d=np.array(([3,4,5],[6,7,8],[9,10,11]))\n",
    "array_2d"
   ]
  },
  {
   "cell_type": "code",
   "execution_count": 0,
   "metadata": {
    "colab": {
     "base_uri": "https://localhost:8080/",
     "height": 34
    },
    "colab_type": "code",
    "executionInfo": {
     "elapsed": 1349,
     "status": "ok",
     "timestamp": 1583585540368,
     "user": {
      "displayName": "nitin sharma",
      "photoUrl": "https://lh3.googleusercontent.com/a-/AOh14GipRPAC1mJTCRiZJ4x-tY1PlsClex3KCAbs6gvQ6Q=s64",
      "userId": "13417507190894542789"
     },
     "user_tz": -330
    },
    "id": "j4gxzoSYxFqH",
    "outputId": "11502f06-1a26-461b-ac24-9b8e079ef707"
   },
   "outputs": [
    {
     "data": {
      "text/plain": [
       "array([ 9, 10, 11])"
      ]
     },
     "execution_count": 103,
     "metadata": {
      "tags": []
     },
     "output_type": "execute_result"
    }
   ],
   "source": [
    "#array_2d[row_num][col_num]\n",
    "array_2d[2]"
   ]
  },
  {
   "cell_type": "code",
   "execution_count": 0,
   "metadata": {
    "colab": {
     "base_uri": "https://localhost:8080/",
     "height": 34
    },
    "colab_type": "code",
    "executionInfo": {
     "elapsed": 1251,
     "status": "ok",
     "timestamp": 1583585553479,
     "user": {
      "displayName": "nitin sharma",
      "photoUrl": "https://lh3.googleusercontent.com/a-/AOh14GipRPAC1mJTCRiZJ4x-tY1PlsClex3KCAbs6gvQ6Q=s64",
      "userId": "13417507190894542789"
     },
     "user_tz": -330
    },
    "id": "H3A-ru96xFqL",
    "outputId": "2b421ed3-755b-440a-d194-7a183eb30dec"
   },
   "outputs": [
    {
     "data": {
      "text/plain": [
       "array([6, 7, 8])"
      ]
     },
     "execution_count": 105,
     "metadata": {
      "tags": []
     },
     "output_type": "execute_result"
    }
   ],
   "source": [
    "array_2d[1]"
   ]
  },
  {
   "cell_type": "markdown",
   "metadata": {
    "colab_type": "text",
    "id": "KhOjfA9BxFqN"
   },
   "source": [
    "# Matrix Creation"
   ]
  },
  {
   "cell_type": "code",
   "execution_count": 0,
   "metadata": {
    "colab": {
     "base_uri": "https://localhost:8080/",
     "height": 85
    },
    "colab_type": "code",
    "executionInfo": {
     "elapsed": 1275,
     "status": "ok",
     "timestamp": 1583585606015,
     "user": {
      "displayName": "nitin sharma",
      "photoUrl": "https://lh3.googleusercontent.com/a-/AOh14GipRPAC1mJTCRiZJ4x-tY1PlsClex3KCAbs6gvQ6Q=s64",
      "userId": "13417507190894542789"
     },
     "user_tz": -330
    },
    "id": "t74kTI1nxFqO",
    "outputId": "80e18dad-33fa-4ede-bc1d-a98bfe999b57"
   },
   "outputs": [
    {
     "name": "stdout",
     "output_type": "stream",
     "text": [
      "Vector of zeroes\n",
      "---------------------\n",
      "[[0. 0. 0.]\n",
      " [0. 0. 0.]]\n"
     ]
    }
   ],
   "source": [
    "print(\"Vector of zeroes\\n---------------------\")\n",
    "print(np.zeros(6))"
   ]
  },
  {
   "cell_type": "code",
   "execution_count": 0,
   "metadata": {
    "colab": {
     "base_uri": "https://localhost:8080/",
     "height": 102
    },
    "colab_type": "code",
    "executionInfo": {
     "elapsed": 1278,
     "status": "ok",
     "timestamp": 1583585631786,
     "user": {
      "displayName": "nitin sharma",
      "photoUrl": "https://lh3.googleusercontent.com/a-/AOh14GipRPAC1mJTCRiZJ4x-tY1PlsClex3KCAbs6gvQ6Q=s64",
      "userId": "13417507190894542789"
     },
     "user_tz": -330
    },
    "id": "xmUMW8ybxFqT",
    "outputId": "7dc96f90-5322-4bd9-e288-903ca2a0d085"
   },
   "outputs": [
    {
     "name": "stdout",
     "output_type": "stream",
     "text": [
      "Matrix of zeroes\n",
      "--------------------\n",
      "[[0. 0. 0. 0.]\n",
      " [0. 0. 0. 0.]\n",
      " [0. 0. 0. 0.]]\n"
     ]
    }
   ],
   "source": [
    "print(\"Matrix of zeroes\\n--------------------\")\n",
    "print(np.zeros((3,4))) # Notice Tuples"
   ]
  },
  {
   "cell_type": "code",
   "execution_count": 0,
   "metadata": {
    "colab": {
     "base_uri": "https://localhost:8080/",
     "height": 68
    },
    "colab_type": "code",
    "executionInfo": {
     "elapsed": 1185,
     "status": "ok",
     "timestamp": 1583585637380,
     "user": {
      "displayName": "nitin sharma",
      "photoUrl": "https://lh3.googleusercontent.com/a-/AOh14GipRPAC1mJTCRiZJ4x-tY1PlsClex3KCAbs6gvQ6Q=s64",
      "userId": "13417507190894542789"
     },
     "user_tz": -330
    },
    "id": "NnuQESXDxFqY",
    "outputId": "7abaeb55-4c32-4ca1-85bd-b7433ff8b391"
   },
   "outputs": [
    {
     "name": "stdout",
     "output_type": "stream",
     "text": [
      "Vector of ones\n",
      "---------------------\n",
      "[1. 1. 1. 1. 1.]\n"
     ]
    }
   ],
   "source": [
    "print(\"Vector of ones\\n---------------------\")\n",
    "print(np.ones(5))"
   ]
  },
  {
   "cell_type": "code",
   "execution_count": 0,
   "metadata": {
    "colab": {},
    "colab_type": "code",
    "id": "88wgt3vWxFqb",
    "outputId": "e61e7e4b-3d38-4d9a-8382-0597174c0e02"
   },
   "outputs": [
    {
     "name": "stdout",
     "output_type": "stream",
     "text": [
      "Matrix of ones\n",
      "---------------------\n",
      "[[[1. 1. 1. 1. 1. 1. 1. 1.]\n",
      "  [1. 1. 1. 1. 1. 1. 1. 1.]]\n",
      "\n",
      " [[1. 1. 1. 1. 1. 1. 1. 1.]\n",
      "  [1. 1. 1. 1. 1. 1. 1. 1.]]\n",
      "\n",
      " [[1. 1. 1. 1. 1. 1. 1. 1.]\n",
      "  [1. 1. 1. 1. 1. 1. 1. 1.]]\n",
      "\n",
      " [[1. 1. 1. 1. 1. 1. 1. 1.]\n",
      "  [1. 1. 1. 1. 1. 1. 1. 1.]]\n",
      "\n",
      " [[1. 1. 1. 1. 1. 1. 1. 1.]\n",
      "  [1. 1. 1. 1. 1. 1. 1. 1.]]]\n"
     ]
    }
   ],
   "source": [
    "print(\"Matrix of ones\\n---------------------\")\n",
    "print(np.ones((5,2,8))) # Note matrix dimension specified by Tuples"
   ]
  },
  {
   "cell_type": "code",
   "execution_count": 0,
   "metadata": {
    "colab": {},
    "colab_type": "code",
    "id": "bxOPLEm5xFqd",
    "outputId": "829b67ea-38f9-42a2-b588-9d9edb6abd2b"
   },
   "outputs": [
    {
     "name": "stdout",
     "output_type": "stream",
     "text": [
      "Matrix of 5's\n",
      "---------------------\n",
      "[[6. 6. 6. 6. 6.]\n",
      " [6. 6. 6. 6. 6.]\n",
      " [6. 6. 6. 6. 6.]]\n"
     ]
    }
   ],
   "source": [
    "print(\"Matrix of 5's\\n---------------------\")\n",
    "print(5+np.ones((3,5)))"
   ]
  },
  {
   "cell_type": "markdown",
   "metadata": {
    "colab_type": "text",
    "id": "ls982Bz7xFqf"
   },
   "source": [
    "## Array Functions"
   ]
  },
  {
   "cell_type": "code",
   "execution_count": 0,
   "metadata": {
    "colab": {
     "base_uri": "https://localhost:8080/",
     "height": 119
    },
    "colab_type": "code",
    "executionInfo": {
     "elapsed": 1202,
     "status": "ok",
     "timestamp": 1583585721789,
     "user": {
      "displayName": "nitin sharma",
      "photoUrl": "https://lh3.googleusercontent.com/a-/AOh14GipRPAC1mJTCRiZJ4x-tY1PlsClex3KCAbs6gvQ6Q=s64",
      "userId": "13417507190894542789"
     },
     "user_tz": -330
    },
    "id": "dCEFRK8TxFqf",
    "outputId": "60a9ddf1-9da7-49fb-bcf5-e781ff913257"
   },
   "outputs": [
    {
     "name": "stdout",
     "output_type": "stream",
     "text": [
      "\n",
      "1st Matrix of random single-digit numbers\n",
      "\n",
      " [[2 7 9]\n",
      " [6 5 2]\n",
      " [2 8 9]]\n"
     ]
    }
   ],
   "source": [
    "mat1 = np.array(ri(1,10,9)).reshape(3,3)\n",
    "print(\"\\n1st Matrix of random single-digit numbers\\n\\n\",mat1)"
   ]
  },
  {
   "cell_type": "code",
   "execution_count": 0,
   "metadata": {
    "colab": {
     "base_uri": "https://localhost:8080/",
     "height": 68
    },
    "colab_type": "code",
    "executionInfo": {
     "elapsed": 1163,
     "status": "ok",
     "timestamp": 1583585949391,
     "user": {
      "displayName": "nitin sharma",
      "photoUrl": "https://lh3.googleusercontent.com/a-/AOh14GipRPAC1mJTCRiZJ4x-tY1PlsClex3KCAbs6gvQ6Q=s64",
      "userId": "13417507190894542789"
     },
     "user_tz": -330
    },
    "id": "PPl_SfdRxFql",
    "outputId": "d9f3b921-fac2-49b4-ba4e-56adb08ce19d"
   },
   "outputs": [
    {
     "data": {
      "text/plain": [
       "array([[0.69314718, 1.94591015, 2.19722458],\n",
       "       [1.79175947, 1.60943791, 0.69314718],\n",
       "       [0.69314718, 2.07944154, 2.19722458]])"
      ]
     },
     "execution_count": 116,
     "metadata": {
      "tags": []
     },
     "output_type": "execute_result"
    }
   ],
   "source": [
    "#sqare root\n",
    "#print(\"\\nSq-root of 1st matrix using np\\n------------------\\n\", np.sqrt(mat1))\n",
    "np.log(mat1)"
   ]
  },
  {
   "cell_type": "code",
   "execution_count": 0,
   "metadata": {
    "colab": {},
    "colab_type": "code",
    "id": "QqAsgBUbxFqo",
    "outputId": "60558cdb-7084-4287-e91d-d0ed658647bd"
   },
   "outputs": [
    {
     "name": "stdout",
     "output_type": "stream",
     "text": [
      "\n",
      "Exponential power of 1st matrix using np\n",
      " -------------------------------------------------- \n",
      " [[1.09663316e+03 1.09663316e+03 2.71828183e+00]\n",
      " [1.09663316e+03 1.09663316e+03 5.45981500e+01]\n",
      " [1.09663316e+03 2.00855369e+01 8.10308393e+03]]\n"
     ]
    }
   ],
   "source": [
    "#Exponential\n",
    "print(\"\\nExponential power of 1st matrix using np\\n\",'-'*50,\"\\n\", np.exp(mat1))"
   ]
  },
  {
   "cell_type": "code",
   "execution_count": 0,
   "metadata": {
    "colab": {},
    "colab_type": "code",
    "id": "nel1UCVFxFqq",
    "outputId": "e336e34b-ef51-44a4-f0da-51447c31f9bb"
   },
   "outputs": [
    {
     "name": "stdout",
     "output_type": "stream",
     "text": [
      "\n",
      "10-base logarithm on 1st matrix using np\n",
      " -------------------------------------------------- \n",
      " [[0.84509804 0.84509804 0.        ]\n",
      " [0.84509804 0.84509804 0.60205999]\n",
      " [0.84509804 0.47712125 0.95424251]]\n",
      "[[7 7 1]\n",
      " [7 7 4]\n",
      " [7 3 9]]\n"
     ]
    }
   ],
   "source": [
    "print(\"\\n10-base logarithm on 1st matrix using np\\n\",'-'*50,\"\\n\", np.log10(mat1))\n",
    "print(mat1)"
   ]
  },
  {
   "cell_type": "code",
   "execution_count": 0,
   "metadata": {
    "colab": {},
    "colab_type": "code",
    "id": "u1i00MgYxFqt",
    "outputId": "4226111c-62e6-4cbc-8d32-01922e3f6454"
   },
   "outputs": [
    {
     "data": {
      "text/plain": [
       "5.777777777777778"
      ]
     },
     "execution_count": 37,
     "metadata": {
      "tags": []
     },
     "output_type": "execute_result"
    }
   ],
   "source": [
    "mat1.mean()"
   ]
  },
  {
   "cell_type": "code",
   "execution_count": 0,
   "metadata": {
    "colab": {
     "base_uri": "https://localhost:8080/",
     "height": 34
    },
    "colab_type": "code",
    "executionInfo": {
     "elapsed": 1267,
     "status": "ok",
     "timestamp": 1583586115915,
     "user": {
      "displayName": "nitin sharma",
      "photoUrl": "https://lh3.googleusercontent.com/a-/AOh14GipRPAC1mJTCRiZJ4x-tY1PlsClex3KCAbs6gvQ6Q=s64",
      "userId": "13417507190894542789"
     },
     "user_tz": -330
    },
    "id": "FYWxVAbdFhop",
    "outputId": "fe75413e-3651-4136-f876-e6547cc0eac3"
   },
   "outputs": [
    {
     "data": {
      "text/plain": [
       "array([2.44948974, 3.        , 4.79583152, 5.56776436, 7.28010989])"
      ]
     },
     "execution_count": 117,
     "metadata": {
      "tags": []
     },
     "output_type": "execute_result"
    }
   ],
   "source": [
    "mat1 = np.array([6,9,23,31,53])\n",
    "np.sqrt(mat1)"
   ]
  },
  {
   "cell_type": "code",
   "execution_count": 0,
   "metadata": {
    "colab": {},
    "colab_type": "code",
    "id": "iFwUX2RyFng3"
   },
   "outputs": [],
   "source": []
  }
 ],
 "metadata": {
  "colab": {
   "collapsed_sections": [
    "ls982Bz7xFqf"
   ],
   "name": "1.Numpy.ipynb",
   "provenance": []
  },
  "kernelspec": {
   "display_name": "Python 3",
   "language": "python",
   "name": "python3"
  },
  "language_info": {
   "codemirror_mode": {
    "name": "ipython",
    "version": 3
   },
   "file_extension": ".py",
   "mimetype": "text/x-python",
   "name": "python",
   "nbconvert_exporter": "python",
   "pygments_lexer": "ipython3",
   "version": "3.7.8"
  }
 },
 "nbformat": 4,
 "nbformat_minor": 1
}
