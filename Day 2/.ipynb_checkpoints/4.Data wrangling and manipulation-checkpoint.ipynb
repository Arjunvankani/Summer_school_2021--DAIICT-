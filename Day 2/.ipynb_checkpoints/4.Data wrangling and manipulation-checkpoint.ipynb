{
 "cells": [
  {
   "cell_type": "code",
   "execution_count": 1,
   "metadata": {
    "colab": {
     "base_uri": "https://localhost:8080/",
     "height": 51
    },
    "colab_type": "code",
    "executionInfo": {
     "elapsed": 1613,
     "status": "ok",
     "timestamp": 1590338794449,
     "user": {
      "displayName": "nitin sharma",
      "photoUrl": "https://lh3.googleusercontent.com/a-/AOh14GipRPAC1mJTCRiZJ4x-tY1PlsClex3KCAbs6gvQ6Q=s64",
      "userId": "13417507190894542789"
     },
     "user_tz": -330
    },
    "id": "jKzAog4c126u",
    "outputId": "6a79eed9-ec1c-4ffa-ea43-1456883be4cf"
   },
   "outputs": [
    {
     "name": "stderr",
     "output_type": "stream",
     "text": [
      "/usr/local/lib/python3.6/dist-packages/statsmodels/tools/_testing.py:19: FutureWarning: pandas.util.testing is deprecated. Use the functions in the public API at pandas.testing instead.\n",
      "  import pandas.util.testing as tm\n"
     ]
    }
   ],
   "source": [
    "import os\n",
    "import pandas as pd\n",
    "from pandas import Series, DataFrame\n",
    "import numpy as np\n",
    "import seaborn as sns"
   ]
  },
  {
   "cell_type": "markdown",
   "metadata": {
    "colab_type": "text",
    "id": "fPfhS_Z21267"
   },
   "source": [
    "# Handling the missing values"
   ]
  },
  {
   "cell_type": "code",
   "execution_count": 9,
   "metadata": {
    "colab": {
     "base_uri": "https://localhost:8080/",
     "height": 119
    },
    "colab_type": "code",
    "executionInfo": {
     "elapsed": 1322,
     "status": "ok",
     "timestamp": 1590339049512,
     "user": {
      "displayName": "nitin sharma",
      "photoUrl": "https://lh3.googleusercontent.com/a-/AOh14GipRPAC1mJTCRiZJ4x-tY1PlsClex3KCAbs6gvQ6Q=s64",
      "userId": "13417507190894542789"
     },
     "user_tz": -330
    },
    "id": "qwkcApO91268",
    "outputId": "d755b7ea-43a7-4152-c2d3-db5ab93db06b"
   },
   "outputs": [
    {
     "name": "stdout",
     "output_type": "stream",
     "text": [
      "          A    B    C    D\n",
      "States                    \n",
      "CA      1.0  5.0  1.0    a\n",
      "NV      2.0  NaN  2.0  NaN\n",
      "AZ      NaN  NaN  3.0    a\n",
      "BO      NaN  NaN  NaN  NaN\n"
     ]
    }
   ],
   "source": [
    "df = pd.DataFrame({'A':[1,2,np.nan,np.nan],'B':[5,np.nan,np.nan,np.nan],'C':[1,2,3,np.nan],'D':['a',np.nan,'a',np.nan]})\n",
    "df['States']=\"CA NV AZ BO\".split(\" \")\n",
    "df.set_index('States',inplace=True)\n",
    "print(df)"
   ]
  },
  {
   "cell_type": "code",
   "execution_count": 0,
   "metadata": {
    "colab": {},
    "colab_type": "code",
    "id": "jNFyDy2rl07o"
   },
   "outputs": [],
   "source": []
  },
  {
   "cell_type": "code",
   "execution_count": 0,
   "metadata": {
    "colab": {
     "base_uri": "https://localhost:8080/",
     "height": 170
    },
    "colab_type": "code",
    "executionInfo": {
     "elapsed": 1290,
     "status": "ok",
     "timestamp": 1584187660106,
     "user": {
      "displayName": "nitin sharma",
      "photoUrl": "https://lh3.googleusercontent.com/a-/AOh14GipRPAC1mJTCRiZJ4x-tY1PlsClex3KCAbs6gvQ6Q=s64",
      "userId": "13417507190894542789"
     },
     "user_tz": -330
    },
    "id": "IpFonQmj127I",
    "outputId": "da3c4902-faf5-4194-b23c-a7bf9db3a5f3"
   },
   "outputs": [
    {
     "name": "stdout",
     "output_type": "stream",
     "text": [
      "<class 'pandas.core.frame.DataFrame'>\n",
      "Index: 4 entries, CA to BO\n",
      "Data columns (total 4 columns):\n",
      "A    2 non-null float64\n",
      "B    1 non-null float64\n",
      "C    3 non-null float64\n",
      "D    2 non-null object\n",
      "dtypes: float64(3), object(1)\n",
      "memory usage: 160.0+ bytes\n"
     ]
    }
   ],
   "source": [
    "df.info()"
   ]
  },
  {
   "cell_type": "code",
   "execution_count": 12,
   "metadata": {
    "colab": {
     "base_uri": "https://localhost:8080/",
     "height": 102
    },
    "colab_type": "code",
    "executionInfo": {
     "elapsed": 1136,
     "status": "ok",
     "timestamp": 1590339237360,
     "user": {
      "displayName": "nitin sharma",
      "photoUrl": "https://lh3.googleusercontent.com/a-/AOh14GipRPAC1mJTCRiZJ4x-tY1PlsClex3KCAbs6gvQ6Q=s64",
      "userId": "13417507190894542789"
     },
     "user_tz": -330
    },
    "id": "IOpN1TDv127P",
    "outputId": "2579d6d2-527f-4aa8-ed0d-9a293501bd68"
   },
   "outputs": [
    {
     "data": {
      "text/plain": [
       "A    2\n",
       "B    3\n",
       "C    1\n",
       "D    2\n",
       "dtype: int64"
      ]
     },
     "execution_count": 12,
     "metadata": {
      "tags": []
     },
     "output_type": "execute_result"
    }
   ],
   "source": [
    "df.isnull().sum()"
   ]
  },
  {
   "cell_type": "code",
   "execution_count": 17,
   "metadata": {
    "colab": {
     "base_uri": "https://localhost:8080/",
     "height": 153
    },
    "colab_type": "code",
    "executionInfo": {
     "elapsed": 1548,
     "status": "ok",
     "timestamp": 1590339531994,
     "user": {
      "displayName": "nitin sharma",
      "photoUrl": "https://lh3.googleusercontent.com/a-/AOh14GipRPAC1mJTCRiZJ4x-tY1PlsClex3KCAbs6gvQ6Q=s64",
      "userId": "13417507190894542789"
     },
     "user_tz": -330
    },
    "id": "-j7_JY9B127k",
    "outputId": "782c76f6-f259-425f-bdd4-95064e78d684"
   },
   "outputs": [
    {
     "name": "stdout",
     "output_type": "stream",
     "text": [
      "\n",
      "Dropping any rows with a NaN value\n",
      "-----------------------------------\n",
      "          A    B    C    D\n",
      "States                    \n",
      "CA      1.0  5.0  1.0    a\n",
      "NV      2.0  NaN  2.0  NaN\n",
      "AZ      NaN  NaN  3.0    a\n"
     ]
    }
   ],
   "source": [
    "print(\"\\nDropping any rows with a NaN value\\n\",'-'*35, sep='')\n",
    "print(df.dropna(axis=0,how='all'))"
   ]
  },
  {
   "cell_type": "code",
   "execution_count": 0,
   "metadata": {
    "colab": {
     "base_uri": "https://localhost:8080/",
     "height": 119
    },
    "colab_type": "code",
    "executionInfo": {
     "elapsed": 1486,
     "status": "ok",
     "timestamp": 1584187820048,
     "user": {
      "displayName": "nitin sharma",
      "photoUrl": "https://lh3.googleusercontent.com/a-/AOh14GipRPAC1mJTCRiZJ4x-tY1PlsClex3KCAbs6gvQ6Q=s64",
      "userId": "13417507190894542789"
     },
     "user_tz": -330
    },
    "id": "-BwQv6Sp128S",
    "outputId": "485553f1-ceef-46d0-b315-063f73728891"
   },
   "outputs": [
    {
     "name": "stdout",
     "output_type": "stream",
     "text": [
      "\n",
      "Dropping any column with a NaN value\n",
      "-----------------------------------\n",
      "Empty DataFrame\n",
      "Columns: []\n",
      "Index: [CA, NV, AZ, BO]\n"
     ]
    }
   ],
   "source": [
    "print(\"\\nDropping any column with a NaN value\\n\",'-'*35, sep='')\n",
    "print(df.dropna(axis=1))"
   ]
  },
  {
   "cell_type": "code",
   "execution_count": 0,
   "metadata": {
    "colab": {},
    "colab_type": "code",
    "id": "YjHDPJgTstBb"
   },
   "outputs": [],
   "source": []
  },
  {
   "cell_type": "code",
   "execution_count": 19,
   "metadata": {
    "colab": {
     "base_uri": "https://localhost:8080/",
     "height": 306
    },
    "colab_type": "code",
    "executionInfo": {
     "elapsed": 1184,
     "status": "ok",
     "timestamp": 1590340729212,
     "user": {
      "displayName": "nitin sharma",
      "photoUrl": "https://lh3.googleusercontent.com/a-/AOh14GipRPAC1mJTCRiZJ4x-tY1PlsClex3KCAbs6gvQ6Q=s64",
      "userId": "13417507190894542789"
     },
     "user_tz": -330
    },
    "id": "ApEWJGvR128p",
    "outputId": "4291ecb4-060b-435d-aed1-6ea3a09043bb"
   },
   "outputs": [
    {
     "name": "stdout",
     "output_type": "stream",
     "text": [
      "\n",
      "Filling values with a default value\n",
      "-----------------------------------\n",
      "A\n",
      "B\n",
      "C\n"
     ]
    },
    {
     "data": {
      "text/html": [
       "<div>\n",
       "<style scoped>\n",
       "    .dataframe tbody tr th:only-of-type {\n",
       "        vertical-align: middle;\n",
       "    }\n",
       "\n",
       "    .dataframe tbody tr th {\n",
       "        vertical-align: top;\n",
       "    }\n",
       "\n",
       "    .dataframe thead th {\n",
       "        text-align: right;\n",
       "    }\n",
       "</style>\n",
       "<table border=\"1\" class=\"dataframe\">\n",
       "  <thead>\n",
       "    <tr style=\"text-align: right;\">\n",
       "      <th></th>\n",
       "      <th>A</th>\n",
       "      <th>B</th>\n",
       "      <th>C</th>\n",
       "      <th>D</th>\n",
       "    </tr>\n",
       "    <tr>\n",
       "      <th>States</th>\n",
       "      <th></th>\n",
       "      <th></th>\n",
       "      <th></th>\n",
       "      <th></th>\n",
       "    </tr>\n",
       "  </thead>\n",
       "  <tbody>\n",
       "    <tr>\n",
       "      <th>CA</th>\n",
       "      <td>1.0</td>\n",
       "      <td>5.0</td>\n",
       "      <td>1.0</td>\n",
       "      <td>a</td>\n",
       "    </tr>\n",
       "    <tr>\n",
       "      <th>NV</th>\n",
       "      <td>2.0</td>\n",
       "      <td>5.0</td>\n",
       "      <td>2.0</td>\n",
       "      <td>NaN</td>\n",
       "    </tr>\n",
       "    <tr>\n",
       "      <th>AZ</th>\n",
       "      <td>1.5</td>\n",
       "      <td>5.0</td>\n",
       "      <td>3.0</td>\n",
       "      <td>a</td>\n",
       "    </tr>\n",
       "    <tr>\n",
       "      <th>BO</th>\n",
       "      <td>1.5</td>\n",
       "      <td>5.0</td>\n",
       "      <td>2.0</td>\n",
       "      <td>NaN</td>\n",
       "    </tr>\n",
       "  </tbody>\n",
       "</table>\n",
       "</div>"
      ],
      "text/plain": [
       "          A    B    C    D\n",
       "States                    \n",
       "CA      1.0  5.0  1.0    a\n",
       "NV      2.0  5.0  2.0  NaN\n",
       "AZ      1.5  5.0  3.0    a\n",
       "BO      1.5  5.0  2.0  NaN"
      ]
     },
     "execution_count": 19,
     "metadata": {
      "tags": []
     },
     "output_type": "execute_result"
    }
   ],
   "source": [
    "print(\"\\nFilling values with a default value\\n\",'-'*35, sep='')\n",
    "varType = pd.DataFrame(df.dtypes).reset_index()\n",
    "varType.columns = ['ColName','Dtype']\n",
    "numVar = list(varType.loc[varType['Dtype'] != 'object',['ColName']]['ColName'])\n",
    "for col in numVar:\n",
    "  print(col)\n",
    "\n",
    "  df[col] = df[col].fillna(df[col].mean())\n",
    "df\n",
    "\n"
   ]
  },
  {
   "cell_type": "code",
   "execution_count": 0,
   "metadata": {
    "colab": {},
    "colab_type": "code",
    "id": "kx5JOmcQorG4"
   },
   "outputs": [],
   "source": []
  },
  {
   "cell_type": "code",
   "execution_count": 0,
   "metadata": {
    "colab": {},
    "colab_type": "code",
    "id": "T1gSgjKW_DUp"
   },
   "outputs": [],
   "source": []
  },
  {
   "cell_type": "code",
   "execution_count": 0,
   "metadata": {
    "colab": {},
    "colab_type": "code",
    "id": "Eo24T-BU-S20"
   },
   "outputs": [],
   "source": []
  },
  {
   "cell_type": "code",
   "execution_count": 22,
   "metadata": {
    "colab": {
     "base_uri": "https://localhost:8080/",
     "height": 170
    },
    "colab_type": "code",
    "executionInfo": {
     "elapsed": 1310,
     "status": "ok",
     "timestamp": 1590340762330,
     "user": {
      "displayName": "nitin sharma",
      "photoUrl": "https://lh3.googleusercontent.com/a-/AOh14GipRPAC1mJTCRiZJ4x-tY1PlsClex3KCAbs6gvQ6Q=s64",
      "userId": "13417507190894542789"
     },
     "user_tz": -330
    },
    "id": "BV4vs8_u1289",
    "outputId": "9d6ea208-9885-4de0-d1d9-4eaf29d02c9c"
   },
   "outputs": [
    {
     "name": "stdout",
     "output_type": "stream",
     "text": [
      "\n",
      "Filling values with a computed value (mean of column A here)\n",
      "------------------------------------------------------------\n",
      "States\n",
      "CA    a\n",
      "NV    a\n",
      "AZ    a\n",
      "BO    a\n",
      "Name: D, dtype: object\n"
     ]
    }
   ],
   "source": [
    "print(\"\\nFilling values with a computed value (mean of column A here)\\n\",'-'*60, sep='')\n",
    "print(df['D'].fillna(value=df['D'].mode()[0]))"
   ]
  },
  {
   "cell_type": "code",
   "execution_count": 0,
   "metadata": {
    "colab": {},
    "colab_type": "code",
    "id": "x0M_ZJ32129D",
    "outputId": "dbc5bf1f-7f91-43e1-897d-a0fe7ca0ab1f"
   },
   "outputs": [
    {
     "name": "stdout",
     "output_type": "stream",
     "text": [
      "\n",
      "Filling values with a computed value (mean of column B here) in a particular \n",
      "------------------------------------------------------------\n",
      "States\n",
      "CA    5.0\n",
      "NV    5.0\n",
      "AZ    5.0\n",
      "Name: B, dtype: float64\n"
     ]
    }
   ],
   "source": [
    "#in case of continous variable\n",
    "print(\"\\nFilling values with a computed value (mean of column B here) in a particular \\n\",'-'*60, sep='')\n",
    "print(df['B'].fillna(df['B'].mean()))"
   ]
  },
  {
   "cell_type": "code",
   "execution_count": 0,
   "metadata": {
    "colab": {
     "base_uri": "https://localhost:8080/",
     "height": 170
    },
    "colab_type": "code",
    "executionInfo": {
     "elapsed": 1209,
     "status": "ok",
     "timestamp": 1584188748990,
     "user": {
      "displayName": "nitin sharma",
      "photoUrl": "https://lh3.googleusercontent.com/a-/AOh14GipRPAC1mJTCRiZJ4x-tY1PlsClex3KCAbs6gvQ6Q=s64",
      "userId": "13417507190894542789"
     },
     "user_tz": -330
    },
    "id": "aUTAv9Js129M",
    "outputId": "17e6f5f1-155e-4d33-f9bd-826acd2a7410"
   },
   "outputs": [
    {
     "name": "stdout",
     "output_type": "stream",
     "text": [
      "\n",
      "Filling values with a computed value (mode of column D here) in a particular column\n",
      "------------------------------------------------------------\n",
      "States\n",
      "CA    a\n",
      "NV    a\n",
      "AZ    a\n",
      "BO    a\n",
      "Name: D, dtype: object\n"
     ]
    }
   ],
   "source": [
    "#in case of catagorical variable\n",
    "print(\"\\nFilling values with a computed value (mode of column D here) in a particular column\\n\",'-'*60, sep='')\n",
    "print(df['D'].fillna(df['D'].mode()[0]))"
   ]
  },
  {
   "cell_type": "code",
   "execution_count": 0,
   "metadata": {
    "colab": {},
    "colab_type": "code",
    "id": "mt9YsUqzAZJu"
   },
   "outputs": [],
   "source": []
  },
  {
   "cell_type": "markdown",
   "metadata": {
    "colab_type": "text",
    "id": "Iln_8QEK129V"
   },
   "source": [
    "# Converting data from 'long' to 'wide' format using `.pivot()`\n",
    "\n",
    "Usually, for convenience, data in relational DB is stored in the **long format**\n",
    "* fewer columns, label duplication in keys\n",
    "\n",
    "For certain kinds of analysis, we might prefer to have the data in the **wide format**\n",
    "* more columns, unique labels in keys\n",
    "\n",
    "The `df.pivot()` method takes the names of columns to be used as row (`index=`) and column indexes (`columns=`) and a column to fill in the data as (`values=`)\n"
   ]
  },
  {
   "cell_type": "code",
   "execution_count": 0,
   "metadata": {
    "colab": {
     "base_uri": "https://localhost:8080/",
     "height": 421
    },
    "colab_type": "code",
    "executionInfo": {
     "elapsed": 2266,
     "status": "ok",
     "timestamp": 1584269158446,
     "user": {
      "displayName": "nitin sharma",
      "photoUrl": "https://lh3.googleusercontent.com/a-/AOh14GipRPAC1mJTCRiZJ4x-tY1PlsClex3KCAbs6gvQ6Q=s64",
      "userId": "13417507190894542789"
     },
     "user_tz": -330
    },
    "id": "cuDTxTg7129X",
    "outputId": "8d9e0cdc-b93d-447f-aeee-906b00a9c3e1",
    "scrolled": true
   },
   "outputs": [
    {
     "data": {
      "text/html": [
       "<div>\n",
       "<style scoped>\n",
       "    .dataframe tbody tr th:only-of-type {\n",
       "        vertical-align: middle;\n",
       "    }\n",
       "\n",
       "    .dataframe tbody tr th {\n",
       "        vertical-align: top;\n",
       "    }\n",
       "\n",
       "    .dataframe thead th {\n",
       "        text-align: right;\n",
       "    }\n",
       "</style>\n",
       "<table border=\"1\" class=\"dataframe\">\n",
       "  <thead>\n",
       "    <tr style=\"text-align: right;\">\n",
       "      <th></th>\n",
       "      <th>date</th>\n",
       "      <th>item</th>\n",
       "      <th>status</th>\n",
       "    </tr>\n",
       "  </thead>\n",
       "  <tbody>\n",
       "    <tr>\n",
       "      <th>0</th>\n",
       "      <td>2000-01-03</td>\n",
       "      <td>A</td>\n",
       "      <td>-0.684248</td>\n",
       "    </tr>\n",
       "    <tr>\n",
       "      <th>1</th>\n",
       "      <td>2000-01-04</td>\n",
       "      <td>B</td>\n",
       "      <td>0.658061</td>\n",
       "    </tr>\n",
       "    <tr>\n",
       "      <th>2</th>\n",
       "      <td>2000-01-05</td>\n",
       "      <td>C</td>\n",
       "      <td>-1.874039</td>\n",
       "    </tr>\n",
       "    <tr>\n",
       "      <th>3</th>\n",
       "      <td>2000-01-03</td>\n",
       "      <td>D</td>\n",
       "      <td>1.051941</td>\n",
       "    </tr>\n",
       "    <tr>\n",
       "      <th>4</th>\n",
       "      <td>2000-01-04</td>\n",
       "      <td>A</td>\n",
       "      <td>1.925719</td>\n",
       "    </tr>\n",
       "    <tr>\n",
       "      <th>5</th>\n",
       "      <td>2000-01-05</td>\n",
       "      <td>B</td>\n",
       "      <td>0.125382</td>\n",
       "    </tr>\n",
       "    <tr>\n",
       "      <th>6</th>\n",
       "      <td>2000-01-03</td>\n",
       "      <td>C</td>\n",
       "      <td>0.105514</td>\n",
       "    </tr>\n",
       "    <tr>\n",
       "      <th>7</th>\n",
       "      <td>2000-01-04</td>\n",
       "      <td>D</td>\n",
       "      <td>0.893320</td>\n",
       "    </tr>\n",
       "    <tr>\n",
       "      <th>8</th>\n",
       "      <td>2000-01-05</td>\n",
       "      <td>A</td>\n",
       "      <td>1.112172</td>\n",
       "    </tr>\n",
       "    <tr>\n",
       "      <th>9</th>\n",
       "      <td>2000-01-03</td>\n",
       "      <td>B</td>\n",
       "      <td>-0.230644</td>\n",
       "    </tr>\n",
       "    <tr>\n",
       "      <th>10</th>\n",
       "      <td>2000-01-04</td>\n",
       "      <td>C</td>\n",
       "      <td>0.040942</td>\n",
       "    </tr>\n",
       "    <tr>\n",
       "      <th>11</th>\n",
       "      <td>2000-01-05</td>\n",
       "      <td>D</td>\n",
       "      <td>-0.921393</td>\n",
       "    </tr>\n",
       "  </tbody>\n",
       "</table>\n",
       "</div>"
      ],
      "text/plain": [
       "         date item    status\n",
       "0  2000-01-03    A -0.684248\n",
       "1  2000-01-04    B  0.658061\n",
       "2  2000-01-05    C -1.874039\n",
       "3  2000-01-03    D  1.051941\n",
       "4  2000-01-04    A  1.925719\n",
       "5  2000-01-05    B  0.125382\n",
       "6  2000-01-03    C  0.105514\n",
       "7  2000-01-04    D  0.893320\n",
       "8  2000-01-05    A  1.112172\n",
       "9  2000-01-03    B -0.230644\n",
       "10 2000-01-04    C  0.040942\n",
       "11 2000-01-05    D -0.921393"
      ]
     },
     "execution_count": 2,
     "metadata": {
      "tags": []
     },
     "output_type": "execute_result"
    }
   ],
   "source": [
    "df = DataFrame({'date': (list(pd.date_range('2000-01-03', '2000-01-05')) * 4),\n",
    "          'item': (list('ABCD'*3)),\n",
    "          'status': (np.random.randn(12))})\n",
    "df"
   ]
  },
  {
   "cell_type": "code",
   "execution_count": 0,
   "metadata": {
    "colab": {},
    "colab_type": "code",
    "id": "3WlOBIhm129c"
   },
   "outputs": [],
   "source": [
    "#df.set_index(['date', 'item']).unstack()"
   ]
  },
  {
   "cell_type": "code",
   "execution_count": 0,
   "metadata": {
    "colab": {
     "base_uri": "https://localhost:8080/",
     "height": 173
    },
    "colab_type": "code",
    "executionInfo": {
     "elapsed": 1442,
     "status": "ok",
     "timestamp": 1584269236347,
     "user": {
      "displayName": "nitin sharma",
      "photoUrl": "https://lh3.googleusercontent.com/a-/AOh14GipRPAC1mJTCRiZJ4x-tY1PlsClex3KCAbs6gvQ6Q=s64",
      "userId": "13417507190894542789"
     },
     "user_tz": -330
    },
    "id": "WVLcKdS4129o",
    "outputId": "f295e6b0-7555-4cb2-e78e-9193f9d13049"
   },
   "outputs": [
    {
     "data": {
      "text/html": [
       "<div>\n",
       "<style scoped>\n",
       "    .dataframe tbody tr th:only-of-type {\n",
       "        vertical-align: middle;\n",
       "    }\n",
       "\n",
       "    .dataframe tbody tr th {\n",
       "        vertical-align: top;\n",
       "    }\n",
       "\n",
       "    .dataframe thead th {\n",
       "        text-align: right;\n",
       "    }\n",
       "</style>\n",
       "<table border=\"1\" class=\"dataframe\">\n",
       "  <thead>\n",
       "    <tr style=\"text-align: right;\">\n",
       "      <th>item</th>\n",
       "      <th>A</th>\n",
       "      <th>B</th>\n",
       "      <th>C</th>\n",
       "      <th>D</th>\n",
       "    </tr>\n",
       "    <tr>\n",
       "      <th>date</th>\n",
       "      <th></th>\n",
       "      <th></th>\n",
       "      <th></th>\n",
       "      <th></th>\n",
       "    </tr>\n",
       "  </thead>\n",
       "  <tbody>\n",
       "    <tr>\n",
       "      <th>2000-01-03</th>\n",
       "      <td>-0.684248</td>\n",
       "      <td>-0.230644</td>\n",
       "      <td>0.105514</td>\n",
       "      <td>1.051941</td>\n",
       "    </tr>\n",
       "    <tr>\n",
       "      <th>2000-01-04</th>\n",
       "      <td>1.925719</td>\n",
       "      <td>0.658061</td>\n",
       "      <td>0.040942</td>\n",
       "      <td>0.893320</td>\n",
       "    </tr>\n",
       "    <tr>\n",
       "      <th>2000-01-05</th>\n",
       "      <td>1.112172</td>\n",
       "      <td>0.125382</td>\n",
       "      <td>-1.874039</td>\n",
       "      <td>-0.921393</td>\n",
       "    </tr>\n",
       "  </tbody>\n",
       "</table>\n",
       "</div>"
      ],
      "text/plain": [
       "item               A         B         C         D\n",
       "date                                              \n",
       "2000-01-03 -0.684248 -0.230644  0.105514  1.051941\n",
       "2000-01-04  1.925719  0.658061  0.040942  0.893320\n",
       "2000-01-05  1.112172  0.125382 -1.874039 -0.921393"
      ]
     },
     "execution_count": 4,
     "metadata": {
      "tags": []
     },
     "output_type": "execute_result"
    }
   ],
   "source": [
    "df.pivot_table(index='date', columns='item', values='status', aggfunc={'status':np.mean})\n"
   ]
  },
  {
   "cell_type": "code",
   "execution_count": 0,
   "metadata": {
    "colab": {
     "base_uri": "https://localhost:8080/",
     "height": 793
    },
    "colab_type": "code",
    "executionInfo": {
     "elapsed": 1045,
     "status": "ok",
     "timestamp": 1584269540919,
     "user": {
      "displayName": "nitin sharma",
      "photoUrl": "https://lh3.googleusercontent.com/a-/AOh14GipRPAC1mJTCRiZJ4x-tY1PlsClex3KCAbs6gvQ6Q=s64",
      "userId": "13417507190894542789"
     },
     "user_tz": -330
    },
    "id": "yvXksL27129x",
    "outputId": "e8a90b6e-8c95-4bfc-98cf-5f2856f79afb"
   },
   "outputs": [
    {
     "data": {
      "text/html": [
       "<div>\n",
       "<style scoped>\n",
       "    .dataframe tbody tr th:only-of-type {\n",
       "        vertical-align: middle;\n",
       "    }\n",
       "\n",
       "    .dataframe tbody tr th {\n",
       "        vertical-align: top;\n",
       "    }\n",
       "\n",
       "    .dataframe thead th {\n",
       "        text-align: right;\n",
       "    }\n",
       "</style>\n",
       "<table border=\"1\" class=\"dataframe\">\n",
       "  <thead>\n",
       "    <tr style=\"text-align: right;\">\n",
       "      <th></th>\n",
       "      <th>date</th>\n",
       "      <th>item</th>\n",
       "      <th>status</th>\n",
       "    </tr>\n",
       "  </thead>\n",
       "  <tbody>\n",
       "    <tr>\n",
       "      <th>0</th>\n",
       "      <td>2000-01-03</td>\n",
       "      <td>A</td>\n",
       "      <td>-0.684248</td>\n",
       "    </tr>\n",
       "    <tr>\n",
       "      <th>1</th>\n",
       "      <td>2000-01-04</td>\n",
       "      <td>B</td>\n",
       "      <td>0.658061</td>\n",
       "    </tr>\n",
       "    <tr>\n",
       "      <th>2</th>\n",
       "      <td>2000-01-05</td>\n",
       "      <td>C</td>\n",
       "      <td>-1.874039</td>\n",
       "    </tr>\n",
       "    <tr>\n",
       "      <th>3</th>\n",
       "      <td>2000-01-03</td>\n",
       "      <td>D</td>\n",
       "      <td>1.051941</td>\n",
       "    </tr>\n",
       "    <tr>\n",
       "      <th>4</th>\n",
       "      <td>2000-01-04</td>\n",
       "      <td>A</td>\n",
       "      <td>1.925719</td>\n",
       "    </tr>\n",
       "    <tr>\n",
       "      <th>5</th>\n",
       "      <td>2000-01-05</td>\n",
       "      <td>B</td>\n",
       "      <td>0.125382</td>\n",
       "    </tr>\n",
       "    <tr>\n",
       "      <th>6</th>\n",
       "      <td>2000-01-03</td>\n",
       "      <td>C</td>\n",
       "      <td>0.105514</td>\n",
       "    </tr>\n",
       "    <tr>\n",
       "      <th>7</th>\n",
       "      <td>2000-01-04</td>\n",
       "      <td>D</td>\n",
       "      <td>0.893320</td>\n",
       "    </tr>\n",
       "    <tr>\n",
       "      <th>8</th>\n",
       "      <td>2000-01-05</td>\n",
       "      <td>A</td>\n",
       "      <td>1.112172</td>\n",
       "    </tr>\n",
       "    <tr>\n",
       "      <th>9</th>\n",
       "      <td>2000-01-03</td>\n",
       "      <td>B</td>\n",
       "      <td>-0.230644</td>\n",
       "    </tr>\n",
       "    <tr>\n",
       "      <th>10</th>\n",
       "      <td>2000-01-04</td>\n",
       "      <td>C</td>\n",
       "      <td>0.040942</td>\n",
       "    </tr>\n",
       "    <tr>\n",
       "      <th>11</th>\n",
       "      <td>2000-01-05</td>\n",
       "      <td>D</td>\n",
       "      <td>-0.921393</td>\n",
       "    </tr>\n",
       "    <tr>\n",
       "      <th>0</th>\n",
       "      <td>2000-01-03</td>\n",
       "      <td>A</td>\n",
       "      <td>-1.368497</td>\n",
       "    </tr>\n",
       "    <tr>\n",
       "      <th>1</th>\n",
       "      <td>2000-01-04</td>\n",
       "      <td>B</td>\n",
       "      <td>1.316122</td>\n",
       "    </tr>\n",
       "    <tr>\n",
       "      <th>2</th>\n",
       "      <td>2000-01-05</td>\n",
       "      <td>C</td>\n",
       "      <td>-3.748078</td>\n",
       "    </tr>\n",
       "    <tr>\n",
       "      <th>3</th>\n",
       "      <td>2000-01-03</td>\n",
       "      <td>D</td>\n",
       "      <td>2.103882</td>\n",
       "    </tr>\n",
       "    <tr>\n",
       "      <th>4</th>\n",
       "      <td>2000-01-04</td>\n",
       "      <td>A</td>\n",
       "      <td>3.851438</td>\n",
       "    </tr>\n",
       "    <tr>\n",
       "      <th>5</th>\n",
       "      <td>2000-01-05</td>\n",
       "      <td>B</td>\n",
       "      <td>0.250765</td>\n",
       "    </tr>\n",
       "    <tr>\n",
       "      <th>6</th>\n",
       "      <td>2000-01-03</td>\n",
       "      <td>C</td>\n",
       "      <td>0.211028</td>\n",
       "    </tr>\n",
       "    <tr>\n",
       "      <th>7</th>\n",
       "      <td>2000-01-04</td>\n",
       "      <td>D</td>\n",
       "      <td>1.786640</td>\n",
       "    </tr>\n",
       "    <tr>\n",
       "      <th>8</th>\n",
       "      <td>2000-01-05</td>\n",
       "      <td>A</td>\n",
       "      <td>2.224344</td>\n",
       "    </tr>\n",
       "    <tr>\n",
       "      <th>9</th>\n",
       "      <td>2000-01-03</td>\n",
       "      <td>B</td>\n",
       "      <td>-0.461288</td>\n",
       "    </tr>\n",
       "    <tr>\n",
       "      <th>10</th>\n",
       "      <td>2000-01-04</td>\n",
       "      <td>C</td>\n",
       "      <td>0.081884</td>\n",
       "    </tr>\n",
       "    <tr>\n",
       "      <th>11</th>\n",
       "      <td>2000-01-05</td>\n",
       "      <td>D</td>\n",
       "      <td>-1.842786</td>\n",
       "    </tr>\n",
       "  </tbody>\n",
       "</table>\n",
       "</div>"
      ],
      "text/plain": [
       "         date item    status\n",
       "0  2000-01-03    A -0.684248\n",
       "1  2000-01-04    B  0.658061\n",
       "2  2000-01-05    C -1.874039\n",
       "3  2000-01-03    D  1.051941\n",
       "4  2000-01-04    A  1.925719\n",
       "5  2000-01-05    B  0.125382\n",
       "6  2000-01-03    C  0.105514\n",
       "7  2000-01-04    D  0.893320\n",
       "8  2000-01-05    A  1.112172\n",
       "9  2000-01-03    B -0.230644\n",
       "10 2000-01-04    C  0.040942\n",
       "11 2000-01-05    D -0.921393\n",
       "0  2000-01-03    A -1.368497\n",
       "1  2000-01-04    B  1.316122\n",
       "2  2000-01-05    C -3.748078\n",
       "3  2000-01-03    D  2.103882\n",
       "4  2000-01-04    A  3.851438\n",
       "5  2000-01-05    B  0.250765\n",
       "6  2000-01-03    C  0.211028\n",
       "7  2000-01-04    D  1.786640\n",
       "8  2000-01-05    A  2.224344\n",
       "9  2000-01-03    B -0.461288\n",
       "10 2000-01-04    C  0.081884\n",
       "11 2000-01-05    D -1.842786"
      ]
     },
     "execution_count": 6,
     "metadata": {
      "tags": []
     },
     "output_type": "execute_result"
    }
   ],
   "source": [
    "df_p = pd.concat([df, df.assign(status = lambda x: x['status'] * 2)])\n",
    "df_p"
   ]
  },
  {
   "cell_type": "code",
   "execution_count": 0,
   "metadata": {
    "colab": {},
    "colab_type": "code",
    "id": "_TLR4Eo41290",
    "outputId": "bc0dd14e-12e4-4476-efc4-72937be3b58d"
   },
   "outputs": [
    {
     "data": {
      "text/html": [
       "<div>\n",
       "<style scoped>\n",
       "    .dataframe tbody tr th:only-of-type {\n",
       "        vertical-align: middle;\n",
       "    }\n",
       "\n",
       "    .dataframe tbody tr th {\n",
       "        vertical-align: top;\n",
       "    }\n",
       "\n",
       "    .dataframe thead th {\n",
       "        text-align: right;\n",
       "    }\n",
       "</style>\n",
       "<table border=\"1\" class=\"dataframe\">\n",
       "  <thead>\n",
       "    <tr style=\"text-align: right;\">\n",
       "      <th>item</th>\n",
       "      <th>A</th>\n",
       "      <th>B</th>\n",
       "      <th>C</th>\n",
       "      <th>D</th>\n",
       "    </tr>\n",
       "    <tr>\n",
       "      <th>date</th>\n",
       "      <th></th>\n",
       "      <th></th>\n",
       "      <th></th>\n",
       "      <th></th>\n",
       "    </tr>\n",
       "  </thead>\n",
       "  <tbody>\n",
       "    <tr>\n",
       "      <th>2000-01-03</th>\n",
       "      <td>-0.970573</td>\n",
       "      <td>1.150776</td>\n",
       "      <td>-3.293515</td>\n",
       "      <td>-4.061371</td>\n",
       "    </tr>\n",
       "    <tr>\n",
       "      <th>2000-01-04</th>\n",
       "      <td>-5.291841</td>\n",
       "      <td>-2.051525</td>\n",
       "      <td>-0.158661</td>\n",
       "      <td>-1.242537</td>\n",
       "    </tr>\n",
       "    <tr>\n",
       "      <th>2000-01-05</th>\n",
       "      <td>6.212118</td>\n",
       "      <td>0.989947</td>\n",
       "      <td>2.664224</td>\n",
       "      <td>0.103835</td>\n",
       "    </tr>\n",
       "  </tbody>\n",
       "</table>\n",
       "</div>"
      ],
      "text/plain": [
       "item               A         B         C         D\n",
       "date                                              \n",
       "2000-01-03 -0.970573  1.150776 -3.293515 -4.061371\n",
       "2000-01-04 -5.291841 -2.051525 -0.158661 -1.242537\n",
       "2000-01-05  6.212118  0.989947  2.664224  0.103835"
      ]
     },
     "execution_count": 15,
     "metadata": {
      "tags": []
     },
     "output_type": "execute_result"
    }
   ],
   "source": [
    "pd.pivot_table(data=df_p, \n",
    "               index='date', \n",
    "               columns='item', \n",
    "               values='status', \n",
    "               aggfunc=np.sum)"
   ]
  },
  {
   "cell_type": "markdown",
   "metadata": {
    "colab_type": "text",
    "id": "JHI-tJEP12-L"
   },
   "source": [
    "-----------------------------------------------------------------------------------------------------------------------------"
   ]
  },
  {
   "cell_type": "markdown",
   "metadata": {
    "colab_type": "text",
    "id": "S7-e0VI012-M"
   },
   "source": [
    "# $Transforming$ Data\n",
    "\n",
    "## A. Removing Duplicates\n",
    "\n",
    "* `df.duplicated()` Returns boolean Series denoting duplicate rows, optionally only considering certain columns\n",
    "* `df.drop_duplicates()` Returns DataFrame with duplicate rows removed, optionally only considering certain columns\n"
   ]
  },
  {
   "cell_type": "code",
   "execution_count": 25,
   "metadata": {
    "colab": {
     "base_uri": "https://localhost:8080/",
     "height": 235
    },
    "colab_type": "code",
    "executionInfo": {
     "elapsed": 1170,
     "status": "ok",
     "timestamp": 1590341139923,
     "user": {
      "displayName": "nitin sharma",
      "photoUrl": "https://lh3.googleusercontent.com/a-/AOh14GipRPAC1mJTCRiZJ4x-tY1PlsClex3KCAbs6gvQ6Q=s64",
      "userId": "13417507190894542789"
     },
     "user_tz": -330
    },
    "id": "BCfmAOzo12-N",
    "outputId": "b66d9502-9a64-40a1-d31b-ca517fa199ec",
    "scrolled": true
   },
   "outputs": [
    {
     "data": {
      "text/html": [
       "<div>\n",
       "<style scoped>\n",
       "    .dataframe tbody tr th:only-of-type {\n",
       "        vertical-align: middle;\n",
       "    }\n",
       "\n",
       "    .dataframe tbody tr th {\n",
       "        vertical-align: top;\n",
       "    }\n",
       "\n",
       "    .dataframe thead th {\n",
       "        text-align: right;\n",
       "    }\n",
       "</style>\n",
       "<table border=\"1\" class=\"dataframe\">\n",
       "  <thead>\n",
       "    <tr style=\"text-align: right;\">\n",
       "      <th></th>\n",
       "      <th>C1</th>\n",
       "      <th>C2</th>\n",
       "    </tr>\n",
       "  </thead>\n",
       "  <tbody>\n",
       "    <tr>\n",
       "      <th>0</th>\n",
       "      <td>A</td>\n",
       "      <td>1</td>\n",
       "    </tr>\n",
       "    <tr>\n",
       "      <th>1</th>\n",
       "      <td>B</td>\n",
       "      <td>2</td>\n",
       "    </tr>\n",
       "    <tr>\n",
       "      <th>2</th>\n",
       "      <td>C</td>\n",
       "      <td>4</td>\n",
       "    </tr>\n",
       "    <tr>\n",
       "      <th>3</th>\n",
       "      <td>A</td>\n",
       "      <td>3</td>\n",
       "    </tr>\n",
       "    <tr>\n",
       "      <th>4</th>\n",
       "      <td>B</td>\n",
       "      <td>2</td>\n",
       "    </tr>\n",
       "    <tr>\n",
       "      <th>5</th>\n",
       "      <td>C</td>\n",
       "      <td>4</td>\n",
       "    </tr>\n",
       "  </tbody>\n",
       "</table>\n",
       "</div>"
      ],
      "text/plain": [
       "  C1  C2\n",
       "0  A   1\n",
       "1  B   2\n",
       "2  C   4\n",
       "3  A   3\n",
       "4  B   2\n",
       "5  C   4"
      ]
     },
     "execution_count": 25,
     "metadata": {
      "tags": []
     },
     "output_type": "execute_result"
    }
   ],
   "source": [
    "df = DataFrame({'C1': list('ABC' * 2),\n",
    "          'C2': [1, 2, 4, 3, 2, 4]})\n",
    "df"
   ]
  },
  {
   "cell_type": "code",
   "execution_count": 26,
   "metadata": {
    "colab": {
     "base_uri": "https://localhost:8080/",
     "height": 136
    },
    "colab_type": "code",
    "executionInfo": {
     "elapsed": 1287,
     "status": "ok",
     "timestamp": 1590341144072,
     "user": {
      "displayName": "nitin sharma",
      "photoUrl": "https://lh3.googleusercontent.com/a-/AOh14GipRPAC1mJTCRiZJ4x-tY1PlsClex3KCAbs6gvQ6Q=s64",
      "userId": "13417507190894542789"
     },
     "user_tz": -330
    },
    "id": "dqarpRWm12-S",
    "outputId": "a94a273b-bba1-4cdd-9523-332901ca4826"
   },
   "outputs": [
    {
     "data": {
      "text/plain": [
       "0    False\n",
       "1    False\n",
       "2    False\n",
       "3    False\n",
       "4     True\n",
       "5     True\n",
       "dtype: bool"
      ]
     },
     "execution_count": 26,
     "metadata": {
      "tags": []
     },
     "output_type": "execute_result"
    }
   ],
   "source": [
    "#to find which row has duplicate values\n",
    "df.duplicated()"
   ]
  },
  {
   "cell_type": "code",
   "execution_count": 0,
   "metadata": {
    "colab": {
     "base_uri": "https://localhost:8080/",
     "height": 235
    },
    "colab_type": "code",
    "executionInfo": {
     "elapsed": 1211,
     "status": "ok",
     "timestamp": 1584269911736,
     "user": {
      "displayName": "nitin sharma",
      "photoUrl": "https://lh3.googleusercontent.com/a-/AOh14GipRPAC1mJTCRiZJ4x-tY1PlsClex3KCAbs6gvQ6Q=s64",
      "userId": "13417507190894542789"
     },
     "user_tz": -330
    },
    "id": "SsuvwG1s12-k",
    "outputId": "836d812d-7b2c-4d41-ef09-38e92fe312a5"
   },
   "outputs": [
    {
     "data": {
      "text/html": [
       "<div>\n",
       "<style scoped>\n",
       "    .dataframe tbody tr th:only-of-type {\n",
       "        vertical-align: middle;\n",
       "    }\n",
       "\n",
       "    .dataframe tbody tr th {\n",
       "        vertical-align: top;\n",
       "    }\n",
       "\n",
       "    .dataframe thead th {\n",
       "        text-align: right;\n",
       "    }\n",
       "</style>\n",
       "<table border=\"1\" class=\"dataframe\">\n",
       "  <thead>\n",
       "    <tr style=\"text-align: right;\">\n",
       "      <th></th>\n",
       "      <th>C1</th>\n",
       "      <th>C2</th>\n",
       "      <th>Dups</th>\n",
       "    </tr>\n",
       "  </thead>\n",
       "  <tbody>\n",
       "    <tr>\n",
       "      <th>0</th>\n",
       "      <td>A</td>\n",
       "      <td>1</td>\n",
       "      <td>False</td>\n",
       "    </tr>\n",
       "    <tr>\n",
       "      <th>1</th>\n",
       "      <td>B</td>\n",
       "      <td>2</td>\n",
       "      <td>False</td>\n",
       "    </tr>\n",
       "    <tr>\n",
       "      <th>2</th>\n",
       "      <td>C</td>\n",
       "      <td>4</td>\n",
       "      <td>False</td>\n",
       "    </tr>\n",
       "    <tr>\n",
       "      <th>3</th>\n",
       "      <td>A</td>\n",
       "      <td>3</td>\n",
       "      <td>False</td>\n",
       "    </tr>\n",
       "    <tr>\n",
       "      <th>4</th>\n",
       "      <td>B</td>\n",
       "      <td>2</td>\n",
       "      <td>True</td>\n",
       "    </tr>\n",
       "    <tr>\n",
       "      <th>5</th>\n",
       "      <td>C</td>\n",
       "      <td>4</td>\n",
       "      <td>True</td>\n",
       "    </tr>\n",
       "  </tbody>\n",
       "</table>\n",
       "</div>"
      ],
      "text/plain": [
       "  C1  C2   Dups\n",
       "0  A   1  False\n",
       "1  B   2  False\n",
       "2  C   4  False\n",
       "3  A   3  False\n",
       "4  B   2   True\n",
       "5  C   4   True"
      ]
     },
     "execution_count": 10,
     "metadata": {
      "tags": []
     },
     "output_type": "execute_result"
    }
   ],
   "source": [
    "df.assign(Dups = df.duplicated())\n",
    "# Creates a boolean series to indicate which rows have dups"
   ]
  },
  {
   "cell_type": "code",
   "execution_count": 0,
   "metadata": {
    "colab": {
     "base_uri": "https://localhost:8080/",
     "height": 142
    },
    "colab_type": "code",
    "executionInfo": {
     "elapsed": 966,
     "status": "ok",
     "timestamp": 1584270010962,
     "user": {
      "displayName": "nitin sharma",
      "photoUrl": "https://lh3.googleusercontent.com/a-/AOh14GipRPAC1mJTCRiZJ4x-tY1PlsClex3KCAbs6gvQ6Q=s64",
      "userId": "13417507190894542789"
     },
     "user_tz": -330
    },
    "id": "VfDf3jAX12-o",
    "outputId": "d153244a-a171-4f1e-df78-c29d63b3025c"
   },
   "outputs": [
    {
     "data": {
      "text/html": [
       "<div>\n",
       "<style scoped>\n",
       "    .dataframe tbody tr th:only-of-type {\n",
       "        vertical-align: middle;\n",
       "    }\n",
       "\n",
       "    .dataframe tbody tr th {\n",
       "        vertical-align: top;\n",
       "    }\n",
       "\n",
       "    .dataframe thead th {\n",
       "        text-align: right;\n",
       "    }\n",
       "</style>\n",
       "<table border=\"1\" class=\"dataframe\">\n",
       "  <thead>\n",
       "    <tr style=\"text-align: right;\">\n",
       "      <th></th>\n",
       "      <th>C1</th>\n",
       "      <th>C2</th>\n",
       "    </tr>\n",
       "  </thead>\n",
       "  <tbody>\n",
       "    <tr>\n",
       "      <th>2</th>\n",
       "      <td>C</td>\n",
       "      <td>4</td>\n",
       "    </tr>\n",
       "    <tr>\n",
       "      <th>3</th>\n",
       "      <td>A</td>\n",
       "      <td>3</td>\n",
       "    </tr>\n",
       "    <tr>\n",
       "      <th>5</th>\n",
       "      <td>C</td>\n",
       "      <td>4</td>\n",
       "    </tr>\n",
       "  </tbody>\n",
       "</table>\n",
       "</div>"
      ],
      "text/plain": [
       "  C1  C2\n",
       "2  C   4\n",
       "3  A   3\n",
       "5  C   4"
      ]
     },
     "execution_count": 12,
     "metadata": {
      "tags": []
     },
     "output_type": "execute_result"
    }
   ],
   "source": [
    "df[df.duplicated()]\n",
    "\n",
    "# Retain the rows that are duplicates"
   ]
  },
  {
   "cell_type": "code",
   "execution_count": 28,
   "metadata": {
    "colab": {
     "base_uri": "https://localhost:8080/",
     "height": 142
    },
    "colab_type": "code",
    "executionInfo": {
     "elapsed": 1159,
     "status": "ok",
     "timestamp": 1590341160245,
     "user": {
      "displayName": "nitin sharma",
      "photoUrl": "https://lh3.googleusercontent.com/a-/AOh14GipRPAC1mJTCRiZJ4x-tY1PlsClex3KCAbs6gvQ6Q=s64",
      "userId": "13417507190894542789"
     },
     "user_tz": -330
    },
    "id": "8FpCxx6A12-t",
    "outputId": "a58f1b0c-ad26-413d-fbae-f7beb2d8e06d"
   },
   "outputs": [
    {
     "data": {
      "text/html": [
       "<div>\n",
       "<style scoped>\n",
       "    .dataframe tbody tr th:only-of-type {\n",
       "        vertical-align: middle;\n",
       "    }\n",
       "\n",
       "    .dataframe tbody tr th {\n",
       "        vertical-align: top;\n",
       "    }\n",
       "\n",
       "    .dataframe thead th {\n",
       "        text-align: right;\n",
       "    }\n",
       "</style>\n",
       "<table border=\"1\" class=\"dataframe\">\n",
       "  <thead>\n",
       "    <tr style=\"text-align: right;\">\n",
       "      <th></th>\n",
       "      <th>C1</th>\n",
       "      <th>C2</th>\n",
       "    </tr>\n",
       "  </thead>\n",
       "  <tbody>\n",
       "    <tr>\n",
       "      <th>0</th>\n",
       "      <td>A</td>\n",
       "      <td>1</td>\n",
       "    </tr>\n",
       "    <tr>\n",
       "      <th>1</th>\n",
       "      <td>B</td>\n",
       "      <td>2</td>\n",
       "    </tr>\n",
       "    <tr>\n",
       "      <th>2</th>\n",
       "      <td>C</td>\n",
       "      <td>4</td>\n",
       "    </tr>\n",
       "  </tbody>\n",
       "</table>\n",
       "</div>"
      ],
      "text/plain": [
       "  C1  C2\n",
       "0  A   1\n",
       "1  B   2\n",
       "2  C   4"
      ]
     },
     "execution_count": 28,
     "metadata": {
      "tags": []
     },
     "output_type": "execute_result"
    }
   ],
   "source": [
    "df[-df.duplicated('C1')]\n"
   ]
  },
  {
   "cell_type": "code",
   "execution_count": 0,
   "metadata": {
    "colab": {
     "base_uri": "https://localhost:8080/",
     "height": 173
    },
    "colab_type": "code",
    "executionInfo": {
     "elapsed": 2329,
     "status": "ok",
     "timestamp": 1584270240240,
     "user": {
      "displayName": "nitin sharma",
      "photoUrl": "https://lh3.googleusercontent.com/a-/AOh14GipRPAC1mJTCRiZJ4x-tY1PlsClex3KCAbs6gvQ6Q=s64",
      "userId": "13417507190894542789"
     },
     "user_tz": -330
    },
    "id": "blaW9P1d12-z",
    "outputId": "28b531f1-97cb-40ce-bd81-6657dd8cabf0"
   },
   "outputs": [
    {
     "data": {
      "text/html": [
       "<div>\n",
       "<style scoped>\n",
       "    .dataframe tbody tr th:only-of-type {\n",
       "        vertical-align: middle;\n",
       "    }\n",
       "\n",
       "    .dataframe tbody tr th {\n",
       "        vertical-align: top;\n",
       "    }\n",
       "\n",
       "    .dataframe thead th {\n",
       "        text-align: right;\n",
       "    }\n",
       "</style>\n",
       "<table border=\"1\" class=\"dataframe\">\n",
       "  <thead>\n",
       "    <tr style=\"text-align: right;\">\n",
       "      <th></th>\n",
       "      <th>C1</th>\n",
       "      <th>C2</th>\n",
       "    </tr>\n",
       "  </thead>\n",
       "  <tbody>\n",
       "    <tr>\n",
       "      <th>0</th>\n",
       "      <td>A</td>\n",
       "      <td>1</td>\n",
       "    </tr>\n",
       "    <tr>\n",
       "      <th>1</th>\n",
       "      <td>B</td>\n",
       "      <td>2</td>\n",
       "    </tr>\n",
       "    <tr>\n",
       "      <th>2</th>\n",
       "      <td>C</td>\n",
       "      <td>4</td>\n",
       "    </tr>\n",
       "    <tr>\n",
       "      <th>3</th>\n",
       "      <td>A</td>\n",
       "      <td>3</td>\n",
       "    </tr>\n",
       "  </tbody>\n",
       "</table>\n",
       "</div>"
      ],
      "text/plain": [
       "  C1  C2\n",
       "0  A   1\n",
       "1  B   2\n",
       "2  C   4\n",
       "3  A   3"
      ]
     },
     "execution_count": 17,
     "metadata": {
      "tags": []
     },
     "output_type": "execute_result"
    }
   ],
   "source": [
    "df.drop_duplicates()\n",
    "# retain the first occurrence of each row (drop dups)"
   ]
  },
  {
   "cell_type": "code",
   "execution_count": 29,
   "metadata": {
    "colab": {
     "base_uri": "https://localhost:8080/",
     "height": 173
    },
    "colab_type": "code",
    "executionInfo": {
     "elapsed": 1159,
     "status": "ok",
     "timestamp": 1590341212765,
     "user": {
      "displayName": "nitin sharma",
      "photoUrl": "https://lh3.googleusercontent.com/a-/AOh14GipRPAC1mJTCRiZJ4x-tY1PlsClex3KCAbs6gvQ6Q=s64",
      "userId": "13417507190894542789"
     },
     "user_tz": -330
    },
    "id": "zu-hU4yJ12-4",
    "outputId": "6e96ff43-e254-4edb-e69a-2f529dedefb3"
   },
   "outputs": [
    {
     "data": {
      "text/html": [
       "<div>\n",
       "<style scoped>\n",
       "    .dataframe tbody tr th:only-of-type {\n",
       "        vertical-align: middle;\n",
       "    }\n",
       "\n",
       "    .dataframe tbody tr th {\n",
       "        vertical-align: top;\n",
       "    }\n",
       "\n",
       "    .dataframe thead th {\n",
       "        text-align: right;\n",
       "    }\n",
       "</style>\n",
       "<table border=\"1\" class=\"dataframe\">\n",
       "  <thead>\n",
       "    <tr style=\"text-align: right;\">\n",
       "      <th></th>\n",
       "      <th>C1</th>\n",
       "      <th>C2</th>\n",
       "    </tr>\n",
       "  </thead>\n",
       "  <tbody>\n",
       "    <tr>\n",
       "      <th>0</th>\n",
       "      <td>A</td>\n",
       "      <td>1</td>\n",
       "    </tr>\n",
       "    <tr>\n",
       "      <th>3</th>\n",
       "      <td>A</td>\n",
       "      <td>3</td>\n",
       "    </tr>\n",
       "    <tr>\n",
       "      <th>4</th>\n",
       "      <td>B</td>\n",
       "      <td>2</td>\n",
       "    </tr>\n",
       "    <tr>\n",
       "      <th>5</th>\n",
       "      <td>C</td>\n",
       "      <td>4</td>\n",
       "    </tr>\n",
       "  </tbody>\n",
       "</table>\n",
       "</div>"
      ],
      "text/plain": [
       "  C1  C2\n",
       "0  A   1\n",
       "3  A   3\n",
       "4  B   2\n",
       "5  C   4"
      ]
     },
     "execution_count": 29,
     "metadata": {
      "tags": []
     },
     "output_type": "execute_result"
    }
   ],
   "source": [
    "df.drop_duplicates(keep='last')\n",
    "# retain the last occurrence of each row (drop dups)"
   ]
  },
  {
   "cell_type": "code",
   "execution_count": 0,
   "metadata": {
    "colab": {
     "base_uri": "https://localhost:8080/",
     "height": 111
    },
    "colab_type": "code",
    "executionInfo": {
     "elapsed": 964,
     "status": "ok",
     "timestamp": 1584270309585,
     "user": {
      "displayName": "nitin sharma",
      "photoUrl": "https://lh3.googleusercontent.com/a-/AOh14GipRPAC1mJTCRiZJ4x-tY1PlsClex3KCAbs6gvQ6Q=s64",
      "userId": "13417507190894542789"
     },
     "user_tz": -330
    },
    "id": "NFlNsTQi12-7",
    "outputId": "397bd75b-ab64-4556-d616-4e1e42a07c9e"
   },
   "outputs": [
    {
     "data": {
      "text/html": [
       "<div>\n",
       "<style scoped>\n",
       "    .dataframe tbody tr th:only-of-type {\n",
       "        vertical-align: middle;\n",
       "    }\n",
       "\n",
       "    .dataframe tbody tr th {\n",
       "        vertical-align: top;\n",
       "    }\n",
       "\n",
       "    .dataframe thead th {\n",
       "        text-align: right;\n",
       "    }\n",
       "</style>\n",
       "<table border=\"1\" class=\"dataframe\">\n",
       "  <thead>\n",
       "    <tr style=\"text-align: right;\">\n",
       "      <th></th>\n",
       "      <th>C1</th>\n",
       "      <th>C2</th>\n",
       "    </tr>\n",
       "  </thead>\n",
       "  <tbody>\n",
       "    <tr>\n",
       "      <th>0</th>\n",
       "      <td>A</td>\n",
       "      <td>1</td>\n",
       "    </tr>\n",
       "    <tr>\n",
       "      <th>3</th>\n",
       "      <td>A</td>\n",
       "      <td>3</td>\n",
       "    </tr>\n",
       "  </tbody>\n",
       "</table>\n",
       "</div>"
      ],
      "text/plain": [
       "  C1  C2\n",
       "0  A   1\n",
       "3  A   3"
      ]
     },
     "execution_count": 18,
     "metadata": {
      "tags": []
     },
     "output_type": "execute_result"
    }
   ],
   "source": [
    "df.drop_duplicates(keep=False)"
   ]
  },
  {
   "cell_type": "code",
   "execution_count": 0,
   "metadata": {
    "colab": {
     "base_uri": "https://localhost:8080/",
     "height": 142
    },
    "colab_type": "code",
    "executionInfo": {
     "elapsed": 988,
     "status": "ok",
     "timestamp": 1584270528817,
     "user": {
      "displayName": "nitin sharma",
      "photoUrl": "https://lh3.googleusercontent.com/a-/AOh14GipRPAC1mJTCRiZJ4x-tY1PlsClex3KCAbs6gvQ6Q=s64",
      "userId": "13417507190894542789"
     },
     "user_tz": -330
    },
    "id": "tUbPG8lD3xsJ",
    "outputId": "89f4c9e3-8186-4e2f-ab1e-047114101e80"
   },
   "outputs": [
    {
     "data": {
      "text/html": [
       "<div>\n",
       "<style scoped>\n",
       "    .dataframe tbody tr th:only-of-type {\n",
       "        vertical-align: middle;\n",
       "    }\n",
       "\n",
       "    .dataframe tbody tr th {\n",
       "        vertical-align: top;\n",
       "    }\n",
       "\n",
       "    .dataframe thead th {\n",
       "        text-align: right;\n",
       "    }\n",
       "</style>\n",
       "<table border=\"1\" class=\"dataframe\">\n",
       "  <thead>\n",
       "    <tr style=\"text-align: right;\">\n",
       "      <th></th>\n",
       "      <th>C1</th>\n",
       "      <th>C2</th>\n",
       "    </tr>\n",
       "  </thead>\n",
       "  <tbody>\n",
       "    <tr>\n",
       "      <th>0</th>\n",
       "      <td>A</td>\n",
       "      <td>1</td>\n",
       "    </tr>\n",
       "    <tr>\n",
       "      <th>1</th>\n",
       "      <td>B</td>\n",
       "      <td>2</td>\n",
       "    </tr>\n",
       "    <tr>\n",
       "      <th>2</th>\n",
       "      <td>C</td>\n",
       "      <td>4</td>\n",
       "    </tr>\n",
       "  </tbody>\n",
       "</table>\n",
       "</div>"
      ],
      "text/plain": [
       "  C1  C2\n",
       "0  A   1\n",
       "1  B   2\n",
       "2  C   4"
      ]
     },
     "execution_count": 22,
     "metadata": {
      "tags": []
     },
     "output_type": "execute_result"
    }
   ],
   "source": [
    "df.drop_duplicates(['C1'])"
   ]
  },
  {
   "cell_type": "markdown",
   "metadata": {
    "colab_type": "text",
    "id": "F9VEz9rQ12-_"
   },
   "source": [
    "### To find number of duplicated rows"
   ]
  },
  {
   "cell_type": "code",
   "execution_count": 0,
   "metadata": {
    "colab": {
     "base_uri": "https://localhost:8080/",
     "height": 68
    },
    "colab_type": "code",
    "executionInfo": {
     "elapsed": 999,
     "status": "ok",
     "timestamp": 1584270493075,
     "user": {
      "displayName": "nitin sharma",
      "photoUrl": "https://lh3.googleusercontent.com/a-/AOh14GipRPAC1mJTCRiZJ4x-tY1PlsClex3KCAbs6gvQ6Q=s64",
      "userId": "13417507190894542789"
     },
     "user_tz": -330
    },
    "id": "owWVGPRD12_A",
    "outputId": "b6fa1c5b-1109-4a94-ca7d-7fecdf34de93"
   },
   "outputs": [
    {
     "data": {
      "text/plain": [
       "False    4\n",
       "True     2\n",
       "dtype: int64"
      ]
     },
     "execution_count": 21,
     "metadata": {
      "tags": []
     },
     "output_type": "execute_result"
    }
   ],
   "source": [
    "df.duplicated().value_counts()"
   ]
  },
  {
   "cell_type": "markdown",
   "metadata": {
    "colab_type": "text",
    "id": "Vxe_51eg12_E"
   },
   "source": [
    "> By default, these methods consider all of the columns. To specify a subset for detecting duplicates, use **`df.drop_duplicates(['list-of-columns'])`**"
   ]
  },
  {
   "cell_type": "markdown",
   "metadata": {
    "colab_type": "text",
    "id": "IFTNssIk12_G"
   },
   "source": [
    "-----------------------------------------------------------------------------------------------------------------------------"
   ]
  },
  {
   "cell_type": "code",
   "execution_count": 0,
   "metadata": {
    "colab": {},
    "colab_type": "code",
    "id": "4ex5Wg4u12_G"
   },
   "outputs": [],
   "source": [
    "pd.cut?"
   ]
  },
  {
   "cell_type": "markdown",
   "metadata": {
    "colab_type": "text",
    "collapsed": true,
    "id": "opW_4Kz512_L"
   },
   "source": [
    "## B. Binning Numeric Variables to Categoricals\n",
    "\n",
    "The `pd.cut()` and `pd.qcut()` functions are used; they take as arguments the following;\n",
    "\n",
    "* `var`, the continuous variable to discretize\n",
    "* `bins`, specified as a number (equal sized bins will be computed based on min/max) or a list of bin edges\n",
    "* `right=True`, a boolean to include the edge or not\n",
    "* `labels=`, for naming the bins\n",
    "* `precision=`\n",
    "\n"
   ]
  },
  {
   "cell_type": "code",
   "execution_count": 0,
   "metadata": {
    "colab": {
     "base_uri": "https://localhost:8080/",
     "height": 34
    },
    "colab_type": "code",
    "executionInfo": {
     "elapsed": 2168,
     "status": "ok",
     "timestamp": 1584271656531,
     "user": {
      "displayName": "nitin sharma",
      "photoUrl": "https://lh3.googleusercontent.com/a-/AOh14GipRPAC1mJTCRiZJ4x-tY1PlsClex3KCAbs6gvQ6Q=s64",
      "userId": "13417507190894542789"
     },
     "user_tz": -330
    },
    "id": "rF6Ox6Lm12_M",
    "outputId": "e26d2f2c-7f50-4310-bd01-9ef3f9033ab5"
   },
   "outputs": [
    {
     "data": {
      "text/plain": [
       "array([85,  6, 58, 66, 69, 98,  7, 78,  4, 87])"
      ]
     },
     "execution_count": 24,
     "metadata": {
      "tags": []
     },
     "output_type": "execute_result"
    }
   ],
   "source": [
    "# Create a list of 20 integers between 1 and 100\n",
    "var = np.random.randint(1, 100, 500)\n",
    "var[:10]"
   ]
  },
  {
   "cell_type": "code",
   "execution_count": 0,
   "metadata": {
    "colab": {
     "base_uri": "https://localhost:8080/",
     "height": 85
    },
    "colab_type": "code",
    "executionInfo": {
     "elapsed": 2203,
     "status": "ok",
     "timestamp": 1584271684747,
     "user": {
      "displayName": "nitin sharma",
      "photoUrl": "https://lh3.googleusercontent.com/a-/AOh14GipRPAC1mJTCRiZJ4x-tY1PlsClex3KCAbs6gvQ6Q=s64",
      "userId": "13417507190894542789"
     },
     "user_tz": -330
    },
    "id": "7tj-acKp12_O",
    "outputId": "706692b9-8466-45a9-d740-04098a04bde6"
   },
   "outputs": [
    {
     "data": {
      "text/plain": [
       "[(79.4, 99.0], (0.902, 20.6], (40.2, 59.8], (59.8, 79.4], (59.8, 79.4], ..., (20.6, 40.2], (40.2, 59.8], (40.2, 59.8], (20.6, 40.2], (0.902, 20.6]]\n",
       "Length: 500\n",
       "Categories (5, interval[float64]): [(0.902, 20.6] < (20.6, 40.2] < (40.2, 59.8] < (59.8, 79.4] <\n",
       "                                    (79.4, 99.0]]"
      ]
     },
     "execution_count": 25,
     "metadata": {
      "tags": []
     },
     "output_type": "execute_result"
    }
   ],
   "source": [
    "# Automatic Binning\n",
    "pd.cut(var, 5)"
   ]
  },
  {
   "cell_type": "code",
   "execution_count": 0,
   "metadata": {
    "colab": {
     "base_uri": "https://localhost:8080/",
     "height": 68
    },
    "colab_type": "code",
    "executionInfo": {
     "elapsed": 2251,
     "status": "ok",
     "timestamp": 1584271728817,
     "user": {
      "displayName": "nitin sharma",
      "photoUrl": "https://lh3.googleusercontent.com/a-/AOh14GipRPAC1mJTCRiZJ4x-tY1PlsClex3KCAbs6gvQ6Q=s64",
      "userId": "13417507190894542789"
     },
     "user_tz": -330
    },
    "id": "qs33opw612_U",
    "outputId": "b053a9a8-6979-4d4c-cb0d-27629dad2de8"
   },
   "outputs": [
    {
     "data": {
      "text/plain": [
       "[NaN, (0.0, 20.0], (40.0, 60.0], (60.0, 80.0], (60.0, 80.0], ..., (20, 40], (40, 60], (40, 60], (20, 40], (0, 20]]\n",
       "Length: 500\n",
       "Categories (4, interval[int64]): [(0, 20] < (20, 40] < (40, 60] < (60, 80]]"
      ]
     },
     "execution_count": 26,
     "metadata": {
      "tags": []
     },
     "output_type": "execute_result"
    }
   ],
   "source": [
    "# Specifying bins manually\n",
    "pd.cut(var, bins=range(0, 100, 20))"
   ]
  },
  {
   "cell_type": "code",
   "execution_count": 0,
   "metadata": {
    "colab": {
     "base_uri": "https://localhost:8080/",
     "height": 51
    },
    "colab_type": "code",
    "executionInfo": {
     "elapsed": 999,
     "status": "ok",
     "timestamp": 1584271758473,
     "user": {
      "displayName": "nitin sharma",
      "photoUrl": "https://lh3.googleusercontent.com/a-/AOh14GipRPAC1mJTCRiZJ4x-tY1PlsClex3KCAbs6gvQ6Q=s64",
      "userId": "13417507190894542789"
     },
     "user_tz": -330
    },
    "id": "63865BsD12_X",
    "outputId": "8ea32b99-561c-48d6-bdaa-260bdbcd9fb1",
    "scrolled": true
   },
   "outputs": [
    {
     "data": {
      "text/plain": [
       "[67to99, young, 34to66, 34to66, 67to99, 67to99, young, 67to99, young, 67to99]\n",
       "Categories (3, object): [young < 34to66 < 67to99]"
      ]
     },
     "execution_count": 27,
     "metadata": {
      "tags": []
     },
     "output_type": "execute_result"
    }
   ],
   "source": [
    "pd.cut(var, 3, labels=['young', '34to66', '67to99'])[:10]"
   ]
  },
  {
   "cell_type": "code",
   "execution_count": 0,
   "metadata": {
    "colab": {
     "base_uri": "https://localhost:8080/",
     "height": 51
    },
    "colab_type": "code",
    "executionInfo": {
     "elapsed": 1008,
     "status": "ok",
     "timestamp": 1584272143464,
     "user": {
      "displayName": "nitin sharma",
      "photoUrl": "https://lh3.googleusercontent.com/a-/AOh14GipRPAC1mJTCRiZJ4x-tY1PlsClex3KCAbs6gvQ6Q=s64",
      "userId": "13417507190894542789"
     },
     "user_tz": -330
    },
    "id": "XL1Pct_G-Y-H",
    "outputId": "e128f931-5a45-470c-efff-0ffa41ccad97"
   },
   "outputs": [
    {
     "data": {
      "text/plain": [
       "[C, A, B, B, C, C, A, C, A, C]\n",
       "Categories (3, object): [A < B < C]"
      ]
     },
     "execution_count": 34,
     "metadata": {
      "tags": []
     },
     "output_type": "execute_result"
    }
   ],
   "source": [
    "pd.cut(var, 3, labels=['A', 'B', 'C'])[:10]"
   ]
  },
  {
   "cell_type": "code",
   "execution_count": 0,
   "metadata": {
    "colab": {
     "base_uri": "https://localhost:8080/",
     "height": 34
    },
    "colab_type": "code",
    "executionInfo": {
     "elapsed": 981,
     "status": "ok",
     "timestamp": 1584272431857,
     "user": {
      "displayName": "nitin sharma",
      "photoUrl": "https://lh3.googleusercontent.com/a-/AOh14GipRPAC1mJTCRiZJ4x-tY1PlsClex3KCAbs6gvQ6Q=s64",
      "userId": "13417507190894542789"
     },
     "user_tz": -330
    },
    "id": "pDiyFd7C_IX_",
    "outputId": "c3361e87-e06f-4133-b09c-7eb00f859019"
   },
   "outputs": [
    {
     "data": {
      "text/plain": [
       "[9, 8, 7, 6, 5, 5, 4, 3, 2, 1]"
      ]
     },
     "execution_count": 40,
     "metadata": {
      "tags": []
     },
     "output_type": "execute_result"
    }
   ],
   "source": [
    "var1 = [1,2,3,4,5,5,6,7,8,9][::-1]\n",
    "var1"
   ]
  },
  {
   "cell_type": "code",
   "execution_count": 0,
   "metadata": {
    "colab": {
     "base_uri": "https://localhost:8080/",
     "height": 359
    },
    "colab_type": "code",
    "executionInfo": {
     "elapsed": 1022,
     "status": "ok",
     "timestamp": 1584272540056,
     "user": {
      "displayName": "nitin sharma",
      "photoUrl": "https://lh3.googleusercontent.com/a-/AOh14GipRPAC1mJTCRiZJ4x-tY1PlsClex3KCAbs6gvQ6Q=s64",
      "userId": "13417507190894542789"
     },
     "user_tz": -330
    },
    "id": "KS-eJB2912_b",
    "outputId": "8ed404a8-168c-4e88-a4bb-6b2d5fd76fd8",
    "scrolled": true
   },
   "outputs": [
    {
     "data": {
      "text/html": [
       "<div>\n",
       "<style scoped>\n",
       "    .dataframe tbody tr th:only-of-type {\n",
       "        vertical-align: middle;\n",
       "    }\n",
       "\n",
       "    .dataframe tbody tr th {\n",
       "        vertical-align: top;\n",
       "    }\n",
       "\n",
       "    .dataframe thead th {\n",
       "        text-align: right;\n",
       "    }\n",
       "</style>\n",
       "<table border=\"1\" class=\"dataframe\">\n",
       "  <thead>\n",
       "    <tr style=\"text-align: right;\">\n",
       "      <th></th>\n",
       "      <th>Values</th>\n",
       "      <th>Bins</th>\n",
       "    </tr>\n",
       "  </thead>\n",
       "  <tbody>\n",
       "    <tr>\n",
       "      <th>0</th>\n",
       "      <td>9</td>\n",
       "      <td>C</td>\n",
       "    </tr>\n",
       "    <tr>\n",
       "      <th>1</th>\n",
       "      <td>8</td>\n",
       "      <td>C</td>\n",
       "    </tr>\n",
       "    <tr>\n",
       "      <th>2</th>\n",
       "      <td>7</td>\n",
       "      <td>C</td>\n",
       "    </tr>\n",
       "    <tr>\n",
       "      <th>3</th>\n",
       "      <td>6</td>\n",
       "      <td>B</td>\n",
       "    </tr>\n",
       "    <tr>\n",
       "      <th>4</th>\n",
       "      <td>5</td>\n",
       "      <td>B</td>\n",
       "    </tr>\n",
       "    <tr>\n",
       "      <th>5</th>\n",
       "      <td>5</td>\n",
       "      <td>B</td>\n",
       "    </tr>\n",
       "    <tr>\n",
       "      <th>6</th>\n",
       "      <td>4</td>\n",
       "      <td>B</td>\n",
       "    </tr>\n",
       "    <tr>\n",
       "      <th>7</th>\n",
       "      <td>3</td>\n",
       "      <td>A</td>\n",
       "    </tr>\n",
       "    <tr>\n",
       "      <th>8</th>\n",
       "      <td>2</td>\n",
       "      <td>A</td>\n",
       "    </tr>\n",
       "    <tr>\n",
       "      <th>9</th>\n",
       "      <td>1</td>\n",
       "      <td>A</td>\n",
       "    </tr>\n",
       "  </tbody>\n",
       "</table>\n",
       "</div>"
      ],
      "text/plain": [
       "   Values Bins\n",
       "0       9    C\n",
       "1       8    C\n",
       "2       7    C\n",
       "3       6    B\n",
       "4       5    B\n",
       "5       5    B\n",
       "6       4    B\n",
       "7       3    A\n",
       "8       2    A\n",
       "9       1    A"
      ]
     },
     "execution_count": 42,
     "metadata": {
      "tags": []
     },
     "output_type": "execute_result"
    }
   ],
   "source": [
    "df = pd.concat([Series(var1, name='Values'), \n",
    "           Series(pd.cut(var1, 3, labels=['A', 'B', 'C']), name='Bins')], axis=1)\n",
    "df"
   ]
  },
  {
   "cell_type": "code",
   "execution_count": 0,
   "metadata": {
    "colab": {
     "base_uri": "https://localhost:8080/",
     "height": 85
    },
    "colab_type": "code",
    "executionInfo": {
     "elapsed": 2520,
     "status": "ok",
     "timestamp": 1584271911075,
     "user": {
      "displayName": "nitin sharma",
      "photoUrl": "https://lh3.googleusercontent.com/a-/AOh14GipRPAC1mJTCRiZJ4x-tY1PlsClex3KCAbs6gvQ6Q=s64",
      "userId": "13417507190894542789"
     },
     "user_tz": -330
    },
    "id": "VN6bu6zc12_g",
    "outputId": "6a57ed4f-7a75-4951-f987-5003add84b9d"
   },
   "outputs": [
    {
     "data": {
      "text/plain": [
       "([three, one, two, two, three, ..., one, two, two, two, one]\n",
       " Length: 500\n",
       " Categories (3, object): [one < two < three],\n",
       " array([ 0.902     , 33.66666667, 66.33333333, 99.        ]))"
      ]
     },
     "execution_count": 29,
     "metadata": {
      "tags": []
     },
     "output_type": "execute_result"
    }
   ],
   "source": [
    "pd.cut(var, 3, labels=['one', 'two', 'three'], retbins=True)"
   ]
  },
  {
   "cell_type": "code",
   "execution_count": 0,
   "metadata": {
    "colab": {
     "base_uri": "https://localhost:8080/",
     "height": 102
    },
    "colab_type": "code",
    "executionInfo": {
     "elapsed": 2292,
     "status": "ok",
     "timestamp": 1584271976309,
     "user": {
      "displayName": "nitin sharma",
      "photoUrl": "https://lh3.googleusercontent.com/a-/AOh14GipRPAC1mJTCRiZJ4x-tY1PlsClex3KCAbs6gvQ6Q=s64",
      "userId": "13417507190894542789"
     },
     "user_tz": -330
    },
    "id": "4uxDWNKm12_j",
    "outputId": "848e3cd9-48fc-40af-a1bf-0ba8d4d51649"
   },
   "outputs": [
    {
     "data": {
      "text/plain": [
       "(0, 25]      141\n",
       "(25, 50]     118\n",
       "(50, 75]     120\n",
       "(75, 100]    121\n",
       "dtype: int64"
      ]
     },
     "execution_count": 30,
     "metadata": {
      "tags": []
     },
     "output_type": "execute_result"
    }
   ],
   "source": [
    "pd.cut(var, [0, 25, 50, 75, 100]).value_counts()"
   ]
  },
  {
   "cell_type": "code",
   "execution_count": 0,
   "metadata": {
    "colab": {
     "base_uri": "https://localhost:8080/",
     "height": 318
    },
    "colab_type": "code",
    "executionInfo": {
     "elapsed": 1034,
     "status": "ok",
     "timestamp": 1584272036446,
     "user": {
      "displayName": "nitin sharma",
      "photoUrl": "https://lh3.googleusercontent.com/a-/AOh14GipRPAC1mJTCRiZJ4x-tY1PlsClex3KCAbs6gvQ6Q=s64",
      "userId": "13417507190894542789"
     },
     "user_tz": -330
    },
    "id": "bVBeIAc412_n",
    "outputId": "f129d7ed-0ed3-4911-ec9d-a838a2566fb8"
   },
   "outputs": [
    {
     "data": {
      "text/plain": [
       "<matplotlib.axes._subplots.AxesSubplot at 0x7f3dcbb72ac8>"
      ]
     },
     "execution_count": 31,
     "metadata": {
      "tags": []
     },
     "output_type": "execute_result"
    },
    {
     "data": {
      "image/png": "[encoded data removed]",
      "text/plain": [
       "<Figure size 432x288 with 1 Axes>"
      ]
     },
     "metadata": {
      "tags": []
     },
     "output_type": "display_data"
    }
   ],
   "source": [
    "pd.cut(var, [0, 25, 50, 75, 100]).value_counts().plot(kind='bar')"
   ]
  },
  {
   "cell_type": "code",
   "execution_count": 0,
   "metadata": {
    "colab": {},
    "colab_type": "code",
    "id": "RwqAEuDnACtR"
   },
   "outputs": [],
   "source": []
  },
  {
   "cell_type": "code",
   "execution_count": 0,
   "metadata": {
    "colab": {
     "base_uri": "https://localhost:8080/",
     "height": 366
    },
    "colab_type": "code",
    "executionInfo": {
     "elapsed": 1076,
     "status": "ok",
     "timestamp": 1584272643186,
     "user": {
      "displayName": "nitin sharma",
      "photoUrl": "https://lh3.googleusercontent.com/a-/AOh14GipRPAC1mJTCRiZJ4x-tY1PlsClex3KCAbs6gvQ6Q=s64",
      "userId": "13417507190894542789"
     },
     "user_tz": -330
    },
    "id": "pXsrU7sE12_0",
    "outputId": "2f1212d2-72f0-41c6-c4a9-3a2dde285e33"
   },
   "outputs": [
    {
     "data": {
      "text/plain": [
       "<matplotlib.axes._subplots.AxesSubplot at 0x7f3dcb4e7e80>"
      ]
     },
     "execution_count": 48,
     "metadata": {
      "tags": []
     },
     "output_type": "execute_result"
    },
    {
     "data": {
      "image/png": "[encoded data removed]",
      "text/plain": [
       "<Figure size 432x288 with 1 Axes>"
      ]
     },
     "metadata": {
      "tags": []
     },
     "output_type": "display_data"
    }
   ],
   "source": [
    "pd.cut(np.random.beta(0.5, 5, 10000), 15, right=False).value_counts().plot(kind='bar')"
   ]
  },
  {
   "cell_type": "markdown",
   "metadata": {
    "colab_type": "text",
    "id": "nKfnkgvW12_3"
   },
   "source": [
    "-----------------------------------------------------------------------------------------------------------------------------"
   ]
  },
  {
   "cell_type": "markdown",
   "metadata": {
    "colab_type": "text",
    "collapsed": true,
    "id": "gngrK1KA12_4"
   },
   "source": [
    "## C. Create Dummies for a Categorical Variable\n",
    "Create a (n x k) matrix of binary variables from a categorical variable of length n with k levels.\n",
    "\n",
    "`pd.get_dummies(var)` does this."
   ]
  },
  {
   "cell_type": "code",
   "execution_count": 0,
   "metadata": {
    "colab": {
     "base_uri": "https://localhost:8080/",
     "height": 266
    },
    "colab_type": "code",
    "executionInfo": {
     "elapsed": 1016,
     "status": "ok",
     "timestamp": 1584273149891,
     "user": {
      "displayName": "nitin sharma",
      "photoUrl": "https://lh3.googleusercontent.com/a-/AOh14GipRPAC1mJTCRiZJ4x-tY1PlsClex3KCAbs6gvQ6Q=s64",
      "userId": "13417507190894542789"
     },
     "user_tz": -330
    },
    "id": "eJaKP-FG12_4",
    "outputId": "fcb2bc6d-b7c3-4831-88fa-013ee4a157e6"
   },
   "outputs": [
    {
     "data": {
      "text/html": [
       "<div>\n",
       "<style scoped>\n",
       "    .dataframe tbody tr th:only-of-type {\n",
       "        vertical-align: middle;\n",
       "    }\n",
       "\n",
       "    .dataframe tbody tr th {\n",
       "        vertical-align: top;\n",
       "    }\n",
       "\n",
       "    .dataframe thead th {\n",
       "        text-align: right;\n",
       "    }\n",
       "</style>\n",
       "<table border=\"1\" class=\"dataframe\">\n",
       "  <thead>\n",
       "    <tr style=\"text-align: right;\">\n",
       "      <th></th>\n",
       "      <th>key</th>\n",
       "      <th>val</th>\n",
       "    </tr>\n",
       "  </thead>\n",
       "  <tbody>\n",
       "    <tr>\n",
       "      <th>0</th>\n",
       "      <td>b</td>\n",
       "      <td>-0.150641</td>\n",
       "    </tr>\n",
       "    <tr>\n",
       "      <th>1</th>\n",
       "      <td>b</td>\n",
       "      <td>0.984767</td>\n",
       "    </tr>\n",
       "    <tr>\n",
       "      <th>2</th>\n",
       "      <td>a</td>\n",
       "      <td>-0.378260</td>\n",
       "    </tr>\n",
       "    <tr>\n",
       "      <th>3</th>\n",
       "      <td>c</td>\n",
       "      <td>-1.560917</td>\n",
       "    </tr>\n",
       "    <tr>\n",
       "      <th>4</th>\n",
       "      <td>c</td>\n",
       "      <td>-0.671158</td>\n",
       "    </tr>\n",
       "    <tr>\n",
       "      <th>5</th>\n",
       "      <td>c</td>\n",
       "      <td>-0.336739</td>\n",
       "    </tr>\n",
       "    <tr>\n",
       "      <th>6</th>\n",
       "      <td>b</td>\n",
       "      <td>-1.492523</td>\n",
       "    </tr>\n",
       "  </tbody>\n",
       "</table>\n",
       "</div>"
      ],
      "text/plain": [
       "  key       val\n",
       "0   b -0.150641\n",
       "1   b  0.984767\n",
       "2   a -0.378260\n",
       "3   c -1.560917\n",
       "4   c -0.671158\n",
       "5   c -0.336739\n",
       "6   b -1.492523"
      ]
     },
     "execution_count": 49,
     "metadata": {
      "tags": []
     },
     "output_type": "execute_result"
    }
   ],
   "source": [
    "df_G = DataFrame({'key': list('bbacccb'),\n",
    "                 'val': np.random.randn(7) })\n",
    "df_G"
   ]
  },
  {
   "cell_type": "code",
   "execution_count": 0,
   "metadata": {
    "colab": {
     "base_uri": "https://localhost:8080/",
     "height": 153
    },
    "colab_type": "code",
    "executionInfo": {
     "elapsed": 1189,
     "status": "ok",
     "timestamp": 1584273422159,
     "user": {
      "displayName": "nitin sharma",
      "photoUrl": "https://lh3.googleusercontent.com/a-/AOh14GipRPAC1mJTCRiZJ4x-tY1PlsClex3KCAbs6gvQ6Q=s64",
      "userId": "13417507190894542789"
     },
     "user_tz": -330
    },
    "id": "eabQ_KozDdD5",
    "outputId": "8c499124-8a70-4d92-f3f4-64eb32482c4f"
   },
   "outputs": [
    {
     "data": {
      "text/plain": [
       "0    b\n",
       "1    b\n",
       "2    a\n",
       "3    c\n",
       "4    c\n",
       "5    c\n",
       "6    b\n",
       "Name: key, dtype: object"
      ]
     },
     "execution_count": 50,
     "metadata": {
      "tags": []
     },
     "output_type": "execute_result"
    }
   ],
   "source": [
    "df_G.iloc[:,0]"
   ]
  },
  {
   "cell_type": "code",
   "execution_count": 0,
   "metadata": {
    "colab": {
     "base_uri": "https://localhost:8080/",
     "height": 266
    },
    "colab_type": "code",
    "executionInfo": {
     "elapsed": 1029,
     "status": "ok",
     "timestamp": 1584273749031,
     "user": {
      "displayName": "nitin sharma",
      "photoUrl": "https://lh3.googleusercontent.com/a-/AOh14GipRPAC1mJTCRiZJ4x-tY1PlsClex3KCAbs6gvQ6Q=s64",
      "userId": "13417507190894542789"
     },
     "user_tz": -330
    },
    "id": "rsi4y2Jq12_6",
    "outputId": "6d6ff29d-46f3-4db1-e890-148ee4459a1f"
   },
   "outputs": [
    {
     "data": {
      "text/html": [
       "<div>\n",
       "<style scoped>\n",
       "    .dataframe tbody tr th:only-of-type {\n",
       "        vertical-align: middle;\n",
       "    }\n",
       "\n",
       "    .dataframe tbody tr th {\n",
       "        vertical-align: top;\n",
       "    }\n",
       "\n",
       "    .dataframe thead th {\n",
       "        text-align: right;\n",
       "    }\n",
       "</style>\n",
       "<table border=\"1\" class=\"dataframe\">\n",
       "  <thead>\n",
       "    <tr style=\"text-align: right;\">\n",
       "      <th></th>\n",
       "      <th>anything_b</th>\n",
       "      <th>anything_c</th>\n",
       "    </tr>\n",
       "  </thead>\n",
       "  <tbody>\n",
       "    <tr>\n",
       "      <th>0</th>\n",
       "      <td>1</td>\n",
       "      <td>0</td>\n",
       "    </tr>\n",
       "    <tr>\n",
       "      <th>1</th>\n",
       "      <td>1</td>\n",
       "      <td>0</td>\n",
       "    </tr>\n",
       "    <tr>\n",
       "      <th>2</th>\n",
       "      <td>0</td>\n",
       "      <td>0</td>\n",
       "    </tr>\n",
       "    <tr>\n",
       "      <th>3</th>\n",
       "      <td>0</td>\n",
       "      <td>1</td>\n",
       "    </tr>\n",
       "    <tr>\n",
       "      <th>4</th>\n",
       "      <td>0</td>\n",
       "      <td>1</td>\n",
       "    </tr>\n",
       "    <tr>\n",
       "      <th>5</th>\n",
       "      <td>0</td>\n",
       "      <td>1</td>\n",
       "    </tr>\n",
       "    <tr>\n",
       "      <th>6</th>\n",
       "      <td>1</td>\n",
       "      <td>0</td>\n",
       "    </tr>\n",
       "  </tbody>\n",
       "</table>\n",
       "</div>"
      ],
      "text/plain": [
       "   anything_b  anything_c\n",
       "0           1           0\n",
       "1           1           0\n",
       "2           0           0\n",
       "3           0           1\n",
       "4           0           1\n",
       "5           0           1\n",
       "6           1           0"
      ]
     },
     "execution_count": 53,
     "metadata": {
      "tags": []
     },
     "output_type": "execute_result"
    }
   ],
   "source": [
    "pd.get_dummies(df_G['key'], prefix='anything',drop_first=True)"
   ]
  },
  {
   "cell_type": "code",
   "execution_count": 0,
   "metadata": {
    "colab": {
     "base_uri": "https://localhost:8080/",
     "height": 266
    },
    "colab_type": "code",
    "executionInfo": {
     "elapsed": 1042,
     "status": "ok",
     "timestamp": 1584274015181,
     "user": {
      "displayName": "nitin sharma",
      "photoUrl": "https://lh3.googleusercontent.com/a-/AOh14GipRPAC1mJTCRiZJ4x-tY1PlsClex3KCAbs6gvQ6Q=s64",
      "userId": "13417507190894542789"
     },
     "user_tz": -330
    },
    "id": "OPeiMGzY12_9",
    "outputId": "68e3d948-2bf3-4b7b-e7a6-372fe51337fe"
   },
   "outputs": [
    {
     "data": {
      "text/html": [
       "<div>\n",
       "<style scoped>\n",
       "    .dataframe tbody tr th:only-of-type {\n",
       "        vertical-align: middle;\n",
       "    }\n",
       "\n",
       "    .dataframe tbody tr th {\n",
       "        vertical-align: top;\n",
       "    }\n",
       "\n",
       "    .dataframe thead th {\n",
       "        text-align: right;\n",
       "    }\n",
       "</style>\n",
       "<table border=\"1\" class=\"dataframe\">\n",
       "  <thead>\n",
       "    <tr style=\"text-align: right;\">\n",
       "      <th></th>\n",
       "      <th>key</th>\n",
       "      <th>dummy_a</th>\n",
       "      <th>dummy_b</th>\n",
       "      <th>dummy_c</th>\n",
       "    </tr>\n",
       "  </thead>\n",
       "  <tbody>\n",
       "    <tr>\n",
       "      <th>0</th>\n",
       "      <td>b</td>\n",
       "      <td>False</td>\n",
       "      <td>True</td>\n",
       "      <td>False</td>\n",
       "    </tr>\n",
       "    <tr>\n",
       "      <th>1</th>\n",
       "      <td>b</td>\n",
       "      <td>False</td>\n",
       "      <td>True</td>\n",
       "      <td>False</td>\n",
       "    </tr>\n",
       "    <tr>\n",
       "      <th>2</th>\n",
       "      <td>a</td>\n",
       "      <td>True</td>\n",
       "      <td>False</td>\n",
       "      <td>False</td>\n",
       "    </tr>\n",
       "    <tr>\n",
       "      <th>3</th>\n",
       "      <td>c</td>\n",
       "      <td>False</td>\n",
       "      <td>False</td>\n",
       "      <td>True</td>\n",
       "    </tr>\n",
       "    <tr>\n",
       "      <th>4</th>\n",
       "      <td>c</td>\n",
       "      <td>False</td>\n",
       "      <td>False</td>\n",
       "      <td>True</td>\n",
       "    </tr>\n",
       "    <tr>\n",
       "      <th>5</th>\n",
       "      <td>c</td>\n",
       "      <td>False</td>\n",
       "      <td>False</td>\n",
       "      <td>True</td>\n",
       "    </tr>\n",
       "    <tr>\n",
       "      <th>6</th>\n",
       "      <td>b</td>\n",
       "      <td>False</td>\n",
       "      <td>True</td>\n",
       "      <td>False</td>\n",
       "    </tr>\n",
       "  </tbody>\n",
       "</table>\n",
       "</div>"
      ],
      "text/plain": [
       "  key  dummy_a  dummy_b  dummy_c\n",
       "0   b    False     True    False\n",
       "1   b    False     True    False\n",
       "2   a     True    False    False\n",
       "3   c    False    False     True\n",
       "4   c    False    False     True\n",
       "5   c    False    False     True\n",
       "6   b    False     True    False"
      ]
     },
     "execution_count": 54,
     "metadata": {
      "tags": []
     },
     "output_type": "execute_result"
    }
   ],
   "source": [
    "DataFrame({'key': df_G['key']}).assign(dummy_a = lambda x: [i=='a' for i in x['key']],\n",
    "                                      dummy_b = lambda x: [i=='b' for i in x['key']],\n",
    "                                      dummy_c = lambda x: [i=='c' for i in x['key']])"
   ]
  },
  {
   "cell_type": "code",
   "execution_count": 0,
   "metadata": {
    "colab": {},
    "colab_type": "code",
    "id": "29MLp7P413AA",
    "outputId": "87ced97a-c61b-430d-c9da-bf0066c56a5a"
   },
   "outputs": [
    {
     "data": {
      "text/html": [
       "<div>\n",
       "<style scoped>\n",
       "    .dataframe tbody tr th:only-of-type {\n",
       "        vertical-align: middle;\n",
       "    }\n",
       "\n",
       "    .dataframe tbody tr th {\n",
       "        vertical-align: top;\n",
       "    }\n",
       "\n",
       "    .dataframe thead th {\n",
       "        text-align: right;\n",
       "    }\n",
       "</style>\n",
       "<table border=\"1\" class=\"dataframe\">\n",
       "  <thead>\n",
       "    <tr style=\"text-align: right;\">\n",
       "      <th></th>\n",
       "      <th>key</th>\n",
       "      <th>val</th>\n",
       "      <th>dummy_a</th>\n",
       "      <th>dummy_b</th>\n",
       "      <th>dummy_c</th>\n",
       "    </tr>\n",
       "  </thead>\n",
       "  <tbody>\n",
       "    <tr>\n",
       "      <th>0</th>\n",
       "      <td>b</td>\n",
       "      <td>-0.571986</td>\n",
       "      <td>0</td>\n",
       "      <td>1</td>\n",
       "      <td>0</td>\n",
       "    </tr>\n",
       "    <tr>\n",
       "      <th>1</th>\n",
       "      <td>b</td>\n",
       "      <td>1.875871</td>\n",
       "      <td>0</td>\n",
       "      <td>1</td>\n",
       "      <td>0</td>\n",
       "    </tr>\n",
       "    <tr>\n",
       "      <th>2</th>\n",
       "      <td>a</td>\n",
       "      <td>0.360689</td>\n",
       "      <td>1</td>\n",
       "      <td>0</td>\n",
       "      <td>0</td>\n",
       "    </tr>\n",
       "    <tr>\n",
       "      <th>3</th>\n",
       "      <td>c</td>\n",
       "      <td>-1.023544</td>\n",
       "      <td>0</td>\n",
       "      <td>0</td>\n",
       "      <td>1</td>\n",
       "    </tr>\n",
       "    <tr>\n",
       "      <th>4</th>\n",
       "      <td>c</td>\n",
       "      <td>1.036020</td>\n",
       "      <td>0</td>\n",
       "      <td>0</td>\n",
       "      <td>1</td>\n",
       "    </tr>\n",
       "    <tr>\n",
       "      <th>5</th>\n",
       "      <td>c</td>\n",
       "      <td>-0.390548</td>\n",
       "      <td>0</td>\n",
       "      <td>0</td>\n",
       "      <td>1</td>\n",
       "    </tr>\n",
       "    <tr>\n",
       "      <th>6</th>\n",
       "      <td>b</td>\n",
       "      <td>-1.275728</td>\n",
       "      <td>0</td>\n",
       "      <td>1</td>\n",
       "      <td>0</td>\n",
       "    </tr>\n",
       "  </tbody>\n",
       "</table>\n",
       "</div>"
      ],
      "text/plain": [
       "  key       val  dummy_a  dummy_b  dummy_c\n",
       "0   b -0.571986        0        1        0\n",
       "1   b  1.875871        0        1        0\n",
       "2   a  0.360689        1        0        0\n",
       "3   c -1.023544        0        0        1\n",
       "4   c  1.036020        0        0        1\n",
       "5   c -0.390548        0        0        1\n",
       "6   b -1.275728        0        1        0"
      ]
     },
     "execution_count": 38,
     "metadata": {
      "tags": []
     },
     "output_type": "execute_result"
    }
   ],
   "source": [
    "# Create and merge dummies in the same DF\n",
    "df_G.join(pd.get_dummies(df_G['key'], prefix='dummy'))"
   ]
  },
  {
   "cell_type": "code",
   "execution_count": 0,
   "metadata": {
    "colab": {
     "base_uri": "https://localhost:8080/",
     "height": 266
    },
    "colab_type": "code",
    "executionInfo": {
     "elapsed": 1038,
     "status": "ok",
     "timestamp": 1584274125985,
     "user": {
      "displayName": "nitin sharma",
      "photoUrl": "https://lh3.googleusercontent.com/a-/AOh14GipRPAC1mJTCRiZJ4x-tY1PlsClex3KCAbs6gvQ6Q=s64",
      "userId": "13417507190894542789"
     },
     "user_tz": -330
    },
    "id": "hvwzv6JA13AE",
    "outputId": "fdf5c54b-bdb2-4658-d2e7-4b9eea894250"
   },
   "outputs": [
    {
     "data": {
      "text/html": [
       "<div>\n",
       "<style scoped>\n",
       "    .dataframe tbody tr th:only-of-type {\n",
       "        vertical-align: middle;\n",
       "    }\n",
       "\n",
       "    .dataframe tbody tr th {\n",
       "        vertical-align: top;\n",
       "    }\n",
       "\n",
       "    .dataframe thead th {\n",
       "        text-align: right;\n",
       "    }\n",
       "</style>\n",
       "<table border=\"1\" class=\"dataframe\">\n",
       "  <thead>\n",
       "    <tr style=\"text-align: right;\">\n",
       "      <th></th>\n",
       "      <th>key</th>\n",
       "      <th>val</th>\n",
       "    </tr>\n",
       "  </thead>\n",
       "  <tbody>\n",
       "    <tr>\n",
       "      <th>0</th>\n",
       "      <td>b</td>\n",
       "      <td>0.909210</td>\n",
       "    </tr>\n",
       "    <tr>\n",
       "      <th>1</th>\n",
       "      <td>b</td>\n",
       "      <td>0.182927</td>\n",
       "    </tr>\n",
       "    <tr>\n",
       "      <th>2</th>\n",
       "      <td>a</td>\n",
       "      <td>0.150071</td>\n",
       "    </tr>\n",
       "    <tr>\n",
       "      <th>3</th>\n",
       "      <td>c</td>\n",
       "      <td>0.830826</td>\n",
       "    </tr>\n",
       "    <tr>\n",
       "      <th>4</th>\n",
       "      <td>c</td>\n",
       "      <td>0.929036</td>\n",
       "    </tr>\n",
       "    <tr>\n",
       "      <th>5</th>\n",
       "      <td>c</td>\n",
       "      <td>0.355450</td>\n",
       "    </tr>\n",
       "    <tr>\n",
       "      <th>6</th>\n",
       "      <td>b</td>\n",
       "      <td>0.948047</td>\n",
       "    </tr>\n",
       "  </tbody>\n",
       "</table>\n",
       "</div>"
      ],
      "text/plain": [
       "  key       val\n",
       "0   b  0.909210\n",
       "1   b  0.182927\n",
       "2   a  0.150071\n",
       "3   c  0.830826\n",
       "4   c  0.929036\n",
       "5   c  0.355450\n",
       "6   b  0.948047"
      ]
     },
     "execution_count": 55,
     "metadata": {
      "tags": []
     },
     "output_type": "execute_result"
    }
   ],
   "source": [
    "# Create a categorical variable from a numeric and then compute dummies\n",
    "df_G.val = np.random.rand(7)\n",
    "df_G"
   ]
  },
  {
   "cell_type": "code",
   "execution_count": 0,
   "metadata": {
    "colab": {
     "base_uri": "https://localhost:8080/",
     "height": 266
    },
    "colab_type": "code",
    "executionInfo": {
     "elapsed": 1002,
     "status": "ok",
     "timestamp": 1584274136104,
     "user": {
      "displayName": "nitin sharma",
      "photoUrl": "https://lh3.googleusercontent.com/a-/AOh14GipRPAC1mJTCRiZJ4x-tY1PlsClex3KCAbs6gvQ6Q=s64",
      "userId": "13417507190894542789"
     },
     "user_tz": -330
    },
    "id": "9L7wjQuW13AJ",
    "outputId": "7c9e56e1-4780-477c-deeb-8c01c4e1a931"
   },
   "outputs": [
    {
     "data": {
      "text/html": [
       "<div>\n",
       "<style scoped>\n",
       "    .dataframe tbody tr th:only-of-type {\n",
       "        vertical-align: middle;\n",
       "    }\n",
       "\n",
       "    .dataframe tbody tr th {\n",
       "        vertical-align: top;\n",
       "    }\n",
       "\n",
       "    .dataframe thead th {\n",
       "        text-align: right;\n",
       "    }\n",
       "</style>\n",
       "<table border=\"1\" class=\"dataframe\">\n",
       "  <thead>\n",
       "    <tr style=\"text-align: right;\">\n",
       "      <th></th>\n",
       "      <th>dummy_X</th>\n",
       "      <th>dummy_Y</th>\n",
       "      <th>dummy_Z</th>\n",
       "    </tr>\n",
       "  </thead>\n",
       "  <tbody>\n",
       "    <tr>\n",
       "      <th>0</th>\n",
       "      <td>0</td>\n",
       "      <td>0</td>\n",
       "      <td>1</td>\n",
       "    </tr>\n",
       "    <tr>\n",
       "      <th>1</th>\n",
       "      <td>1</td>\n",
       "      <td>0</td>\n",
       "      <td>0</td>\n",
       "    </tr>\n",
       "    <tr>\n",
       "      <th>2</th>\n",
       "      <td>1</td>\n",
       "      <td>0</td>\n",
       "      <td>0</td>\n",
       "    </tr>\n",
       "    <tr>\n",
       "      <th>3</th>\n",
       "      <td>0</td>\n",
       "      <td>0</td>\n",
       "      <td>1</td>\n",
       "    </tr>\n",
       "    <tr>\n",
       "      <th>4</th>\n",
       "      <td>0</td>\n",
       "      <td>0</td>\n",
       "      <td>1</td>\n",
       "    </tr>\n",
       "    <tr>\n",
       "      <th>5</th>\n",
       "      <td>1</td>\n",
       "      <td>0</td>\n",
       "      <td>0</td>\n",
       "    </tr>\n",
       "    <tr>\n",
       "      <th>6</th>\n",
       "      <td>0</td>\n",
       "      <td>0</td>\n",
       "      <td>1</td>\n",
       "    </tr>\n",
       "  </tbody>\n",
       "</table>\n",
       "</div>"
      ],
      "text/plain": [
       "   dummy_X  dummy_Y  dummy_Z\n",
       "0        0        0        1\n",
       "1        1        0        0\n",
       "2        1        0        0\n",
       "3        0        0        1\n",
       "4        0        0        1\n",
       "5        1        0        0\n",
       "6        0        0        1"
      ]
     },
     "execution_count": 56,
     "metadata": {
      "tags": []
     },
     "output_type": "execute_result"
    }
   ],
   "source": [
    "pd.get_dummies(pd.cut(df_G['val'], 3, labels=list('XYZ')), prefix='dummy')"
   ]
  },
  {
   "cell_type": "markdown",
   "metadata": {
    "colab_type": "text",
    "id": "zzqyspST13AQ"
   },
   "source": [
    "---\n",
    "## Task\n",
    "\n",
    "- Create a dataframe with 2 variables called 'Age' and 'Income'. \n",
    "- Fill these with random integers between (1, 100) and (10k to 100k) for 'Income'.  Use 10k rows.\n",
    "- Use cut to bin Age into 5 bins.\n",
    "- Use qcut to bin Income in to 10 bins. \n",
    "- Assign meaningful labels to each.\n",
    "- Convert both these cut variables into Dummies.\n",
    "- Report the mean and sum of each dummy variable.\n",
    "\n",
    "---"
   ]
  },
  {
   "cell_type": "markdown",
   "metadata": {
    "colab_type": "text",
    "id": "8Lr21KFl13AR"
   },
   "source": [
    "-----------------------------------------------------------------------------------------------------------------------------"
   ]
  },
  {
   "cell_type": "markdown",
   "metadata": {
    "colab_type": "text",
    "id": "tNLkxfe113AR"
   },
   "source": [
    "## String Methods\n",
    "\n",
    "These include methods applied to string objects that \n",
    "* split a string by given delimiter - `.split()`\n",
    "* trim whitespace - `.strip()`\n",
    "* concatenate strings - `.join()`\n",
    "* detect substrings - `.find()` and `.index()`\n",
    "* count occurrences - `.count()`\n",
    "* find and replace - `.replace()`\n"
   ]
  },
  {
   "cell_type": "code",
   "execution_count": 0,
   "metadata": {
    "colab": {
     "base_uri": "https://localhost:8080/",
     "height": 34
    },
    "colab_type": "code",
    "executionInfo": {
     "elapsed": 1029,
     "status": "ok",
     "timestamp": 1584274494442,
     "user": {
      "displayName": "nitin sharma",
      "photoUrl": "https://lh3.googleusercontent.com/a-/AOh14GipRPAC1mJTCRiZJ4x-tY1PlsClex3KCAbs6gvQ6Q=s64",
      "userId": "13417507190894542789"
     },
     "user_tz": -330
    },
    "id": "8EFEKWqiGzCR",
    "outputId": "af351c8a-ad4c-4383-fa9a-c1c479891a90"
   },
   "outputs": [
    {
     "data": {
      "text/plain": [
       "'HelloWorld'"
      ]
     },
     "execution_count": 67,
     "metadata": {
      "tags": []
     },
     "output_type": "execute_result"
    }
   ],
   "source": [
    "' '.join(['Hello', 'World'])"
   ]
  },
  {
   "cell_type": "code",
   "execution_count": 0,
   "metadata": {
    "colab": {
     "base_uri": "https://localhost:8080/",
     "height": 34
    },
    "colab_type": "code",
    "executionInfo": {
     "elapsed": 1032,
     "status": "ok",
     "timestamp": 1584274259164,
     "user": {
      "displayName": "nitin sharma",
      "photoUrl": "https://lh3.googleusercontent.com/a-/AOh14GipRPAC1mJTCRiZJ4x-tY1PlsClex3KCAbs6gvQ6Q=s64",
      "userId": "13417507190894542789"
     },
     "user_tz": -330
    },
    "id": "ZpGuGydW13AS",
    "outputId": "6aac7dea-307e-4e87-9817-80c82b5b9f7d"
   },
   "outputs": [
    {
     "data": {
      "text/plain": [
       "'ready, set ,   go '"
      ]
     },
     "execution_count": 57,
     "metadata": {
      "tags": []
     },
     "output_type": "execute_result"
    }
   ],
   "source": [
    "s = 'ready, set ,   go '\n",
    "s"
   ]
  },
  {
   "cell_type": "code",
   "execution_count": 0,
   "metadata": {
    "colab": {
     "base_uri": "https://localhost:8080/",
     "height": 34
    },
    "colab_type": "code",
    "executionInfo": {
     "elapsed": 1011,
     "status": "ok",
     "timestamp": 1584274676292,
     "user": {
      "displayName": "nitin sharma",
      "photoUrl": "https://lh3.googleusercontent.com/a-/AOh14GipRPAC1mJTCRiZJ4x-tY1PlsClex3KCAbs6gvQ6Q=s64",
      "userId": "13417507190894542789"
     },
     "user_tz": -330
    },
    "id": "dW3aPtyLHqOD",
    "outputId": "6eccd3c5-16f1-4f34-d579-f3b5a4d8a055"
   },
   "outputs": [
    {
     "data": {
      "text/plain": [
       "'ready set go'"
      ]
     },
     "execution_count": 73,
     "metadata": {
      "tags": []
     },
     "output_type": "execute_result"
    }
   ],
   "source": [
    "\" \".join([x.strip() for x in s.split(',')])\n"
   ]
  },
  {
   "cell_type": "code",
   "execution_count": 0,
   "metadata": {
    "colab": {},
    "colab_type": "code",
    "id": "-8HViW7W13AX",
    "outputId": "57716715-f946-41a6-d9a0-06aa29d31812"
   },
   "outputs": [
    {
     "data": {
      "text/plain": [
       "'ready set go'"
      ]
     },
     "execution_count": 42,
     "metadata": {
      "tags": []
     },
     "output_type": "execute_result"
    }
   ],
   "source": [
    "# String Splitting\n",
    "' '.join([x.strip() for x in s.split(',')])"
   ]
  },
  {
   "cell_type": "code",
   "execution_count": 0,
   "metadata": {
    "colab": {},
    "colab_type": "code",
    "id": "-b4l3HbY13Aa",
    "outputId": "8f14ea3e-1563-4a78-ea80-701ae850951d"
   },
   "outputs": [
    {
     "data": {
      "text/plain": [
       "['ready', 'set', 'go']"
      ]
     },
     "execution_count": 43,
     "metadata": {
      "tags": []
     },
     "output_type": "execute_result"
    }
   ],
   "source": [
    "# Trimming whitespace\n",
    "pieces = [x.strip() for x in s.split(',')]\n",
    "pieces\n",
    "# Also see rstrip, lstrip"
   ]
  },
  {
   "cell_type": "code",
   "execution_count": 0,
   "metadata": {
    "colab": {
     "base_uri": "https://localhost:8080/",
     "height": 34
    },
    "colab_type": "code",
    "executionInfo": {
     "elapsed": 986,
     "status": "ok",
     "timestamp": 1584274698633,
     "user": {
      "displayName": "nitin sharma",
      "photoUrl": "https://lh3.googleusercontent.com/a-/AOh14GipRPAC1mJTCRiZJ4x-tY1PlsClex3KCAbs6gvQ6Q=s64",
      "userId": "13417507190894542789"
     },
     "user_tz": -330
    },
    "id": "3gOz87tX13Ai",
    "outputId": "4b2dde66-3832-44ca-bfe4-94037c23c8fa"
   },
   "outputs": [
    {
     "data": {
      "text/plain": [
       "'a_#_b_#_c_#_d_#_e'"
      ]
     },
     "execution_count": 74,
     "metadata": {
      "tags": []
     },
     "output_type": "execute_result"
    }
   ],
   "source": [
    "'_#_'.join(list('abcde'))"
   ]
  },
  {
   "cell_type": "code",
   "execution_count": 0,
   "metadata": {
    "colab": {},
    "colab_type": "code",
    "id": "zlOxegNXIi8k"
   },
   "outputs": [],
   "source": []
  },
  {
   "cell_type": "markdown",
   "metadata": {
    "colab_type": "text",
    "id": "oI5creuH13Am"
   },
   "source": [
    "-----------------------------------------------------------------------------------------------------------------------------"
   ]
  },
  {
   "cell_type": "markdown",
   "metadata": {
    "colab_type": "text",
    "id": "LVesr5C213An"
   },
   "source": []
  },
  {
   "cell_type": "markdown",
   "metadata": {
    "colab_type": "text",
    "id": "rygNMXGH13An"
   },
   "source": [
    "-----------------------------------------------------------------------------------------------------------------------------"
   ]
  },
  {
   "cell_type": "markdown",
   "metadata": {
    "colab_type": "text",
    "id": "JTIUw-Xi13Ao"
   },
   "source": [
    "# _Group by_\n",
    "\n",
    "In Data Analysis workflows, operations like `loading, cleaning and merging` are usually following by `summarizations` using some grouping variable(s). This includes _summary statistics_ over variables or groups within variables, within-group _transformations_ (like variable standardization), computing _pivot-tables_ and group analyses.\n",
    "\n",
    "    \n"
   ]
  },
  {
   "cell_type": "code",
   "execution_count": 33,
   "metadata": {
    "colab": {
     "base_uri": "https://localhost:8080/",
     "height": 514
    },
    "colab_type": "code",
    "executionInfo": {
     "elapsed": 1331,
     "status": "ok",
     "timestamp": 1590341424175,
     "user": {
      "displayName": "nitin sharma",
      "photoUrl": "https://lh3.googleusercontent.com/a-/AOh14GipRPAC1mJTCRiZJ4x-tY1PlsClex3KCAbs6gvQ6Q=s64",
      "userId": "13417507190894542789"
     },
     "user_tz": -330
    },
    "id": "2EEM-Yuy13Ao",
    "outputId": "efc465fe-f94d-4957-f74b-f527f89324a4",
    "scrolled": true
   },
   "outputs": [
    {
     "data": {
      "text/html": [
       "<div>\n",
       "<style scoped>\n",
       "    .dataframe tbody tr th:only-of-type {\n",
       "        vertical-align: middle;\n",
       "    }\n",
       "\n",
       "    .dataframe tbody tr th {\n",
       "        vertical-align: top;\n",
       "    }\n",
       "\n",
       "    .dataframe thead th {\n",
       "        text-align: right;\n",
       "    }\n",
       "</style>\n",
       "<table border=\"1\" class=\"dataframe\">\n",
       "  <thead>\n",
       "    <tr style=\"text-align: right;\">\n",
       "      <th></th>\n",
       "      <th>k1</th>\n",
       "      <th>k2</th>\n",
       "      <th>v1</th>\n",
       "      <th>v2</th>\n",
       "    </tr>\n",
       "  </thead>\n",
       "  <tbody>\n",
       "    <tr>\n",
       "      <th>0</th>\n",
       "      <td>a</td>\n",
       "      <td>x</td>\n",
       "      <td>0.227208</td>\n",
       "      <td>0.491769</td>\n",
       "    </tr>\n",
       "    <tr>\n",
       "      <th>1</th>\n",
       "      <td>b</td>\n",
       "      <td>y</td>\n",
       "      <td>0.805138</td>\n",
       "      <td>0.049200</td>\n",
       "    </tr>\n",
       "    <tr>\n",
       "      <th>2</th>\n",
       "      <td>c</td>\n",
       "      <td>x</td>\n",
       "      <td>0.134505</td>\n",
       "      <td>0.470341</td>\n",
       "    </tr>\n",
       "    <tr>\n",
       "      <th>3</th>\n",
       "      <td>d</td>\n",
       "      <td>y</td>\n",
       "      <td>0.468649</td>\n",
       "      <td>0.706573</td>\n",
       "    </tr>\n",
       "    <tr>\n",
       "      <th>4</th>\n",
       "      <td>a</td>\n",
       "      <td>x</td>\n",
       "      <td>0.257227</td>\n",
       "      <td>0.418643</td>\n",
       "    </tr>\n",
       "    <tr>\n",
       "      <th>5</th>\n",
       "      <td>b</td>\n",
       "      <td>y</td>\n",
       "      <td>0.830337</td>\n",
       "      <td>0.036238</td>\n",
       "    </tr>\n",
       "    <tr>\n",
       "      <th>6</th>\n",
       "      <td>c</td>\n",
       "      <td>x</td>\n",
       "      <td>0.054900</td>\n",
       "      <td>0.288809</td>\n",
       "    </tr>\n",
       "    <tr>\n",
       "      <th>7</th>\n",
       "      <td>d</td>\n",
       "      <td>y</td>\n",
       "      <td>0.074522</td>\n",
       "      <td>0.332252</td>\n",
       "    </tr>\n",
       "    <tr>\n",
       "      <th>8</th>\n",
       "      <td>a</td>\n",
       "      <td>x</td>\n",
       "      <td>0.903169</td>\n",
       "      <td>0.670058</td>\n",
       "    </tr>\n",
       "    <tr>\n",
       "      <th>9</th>\n",
       "      <td>b</td>\n",
       "      <td>y</td>\n",
       "      <td>0.831595</td>\n",
       "      <td>0.155183</td>\n",
       "    </tr>\n",
       "    <tr>\n",
       "      <th>10</th>\n",
       "      <td>c</td>\n",
       "      <td>x</td>\n",
       "      <td>0.872969</td>\n",
       "      <td>0.410941</td>\n",
       "    </tr>\n",
       "    <tr>\n",
       "      <th>11</th>\n",
       "      <td>d</td>\n",
       "      <td>y</td>\n",
       "      <td>0.706484</td>\n",
       "      <td>0.948373</td>\n",
       "    </tr>\n",
       "    <tr>\n",
       "      <th>12</th>\n",
       "      <td>a</td>\n",
       "      <td>x</td>\n",
       "      <td>0.118703</td>\n",
       "      <td>0.904642</td>\n",
       "    </tr>\n",
       "    <tr>\n",
       "      <th>13</th>\n",
       "      <td>b</td>\n",
       "      <td>y</td>\n",
       "      <td>0.761079</td>\n",
       "      <td>0.193321</td>\n",
       "    </tr>\n",
       "    <tr>\n",
       "      <th>14</th>\n",
       "      <td>c</td>\n",
       "      <td>x</td>\n",
       "      <td>0.970489</td>\n",
       "      <td>0.418748</td>\n",
       "    </tr>\n",
       "  </tbody>\n",
       "</table>\n",
       "</div>"
      ],
      "text/plain": [
       "   k1 k2        v1        v2\n",
       "0   a  x  0.227208  0.491769\n",
       "1   b  y  0.805138  0.049200\n",
       "2   c  x  0.134505  0.470341\n",
       "3   d  y  0.468649  0.706573\n",
       "4   a  x  0.257227  0.418643\n",
       "5   b  y  0.830337  0.036238\n",
       "6   c  x  0.054900  0.288809\n",
       "7   d  y  0.074522  0.332252\n",
       "8   a  x  0.903169  0.670058\n",
       "9   b  y  0.831595  0.155183\n",
       "10  c  x  0.872969  0.410941\n",
       "11  d  y  0.706484  0.948373\n",
       "12  a  x  0.118703  0.904642\n",
       "13  b  y  0.761079  0.193321\n",
       "14  c  x  0.970489  0.418748"
      ]
     },
     "execution_count": 33,
     "metadata": {
      "tags": []
     },
     "output_type": "execute_result"
    }
   ],
   "source": [
    "df = DataFrame({'k1': list('abcd' * 25),\n",
    "               'k2': list('xy' * 25 + 'yx' * 25),\n",
    "               'v1': np.random.rand(100),\n",
    "               'v2': np.random.rand(100)}); df[:15]"
   ]
  },
  {
   "cell_type": "code",
   "execution_count": 31,
   "metadata": {
    "colab": {
     "base_uri": "https://localhost:8080/",
     "height": 452
    },
    "colab_type": "code",
    "executionInfo": {
     "elapsed": 1332,
     "status": "ok",
     "timestamp": 1590341314887,
     "user": {
      "displayName": "nitin sharma",
      "photoUrl": "https://lh3.googleusercontent.com/a-/AOh14GipRPAC1mJTCRiZJ4x-tY1PlsClex3KCAbs6gvQ6Q=s64",
      "userId": "13417507190894542789"
     },
     "user_tz": -330
    },
    "id": "L5cCsMFR-E_d",
    "outputId": "93e6a0d5-9a6f-45fa-af57-c1b7a6ab6e38"
   },
   "outputs": [
    {
     "data": {
      "text/html": [
       "<div>\n",
       "<style scoped>\n",
       "    .dataframe tbody tr th:only-of-type {\n",
       "        vertical-align: middle;\n",
       "    }\n",
       "\n",
       "    .dataframe tbody tr th {\n",
       "        vertical-align: top;\n",
       "    }\n",
       "\n",
       "    .dataframe thead th {\n",
       "        text-align: right;\n",
       "    }\n",
       "</style>\n",
       "<table border=\"1\" class=\"dataframe\">\n",
       "  <thead>\n",
       "    <tr style=\"text-align: right;\">\n",
       "      <th></th>\n",
       "      <th>k1</th>\n",
       "      <th>k2</th>\n",
       "      <th>v1</th>\n",
       "      <th>v2</th>\n",
       "    </tr>\n",
       "  </thead>\n",
       "  <tbody>\n",
       "    <tr>\n",
       "      <th>0</th>\n",
       "      <td>a</td>\n",
       "      <td>x</td>\n",
       "      <td>0.200359</td>\n",
       "      <td>0.397602</td>\n",
       "    </tr>\n",
       "    <tr>\n",
       "      <th>4</th>\n",
       "      <td>a</td>\n",
       "      <td>x</td>\n",
       "      <td>0.504060</td>\n",
       "      <td>0.615437</td>\n",
       "    </tr>\n",
       "    <tr>\n",
       "      <th>8</th>\n",
       "      <td>a</td>\n",
       "      <td>x</td>\n",
       "      <td>0.181356</td>\n",
       "      <td>0.389061</td>\n",
       "    </tr>\n",
       "    <tr>\n",
       "      <th>12</th>\n",
       "      <td>a</td>\n",
       "      <td>x</td>\n",
       "      <td>0.970906</td>\n",
       "      <td>0.620099</td>\n",
       "    </tr>\n",
       "    <tr>\n",
       "      <th>16</th>\n",
       "      <td>a</td>\n",
       "      <td>x</td>\n",
       "      <td>0.845216</td>\n",
       "      <td>0.531442</td>\n",
       "    </tr>\n",
       "    <tr>\n",
       "      <th>20</th>\n",
       "      <td>a</td>\n",
       "      <td>x</td>\n",
       "      <td>0.562667</td>\n",
       "      <td>0.454200</td>\n",
       "    </tr>\n",
       "    <tr>\n",
       "      <th>24</th>\n",
       "      <td>a</td>\n",
       "      <td>x</td>\n",
       "      <td>0.201467</td>\n",
       "      <td>0.459633</td>\n",
       "    </tr>\n",
       "    <tr>\n",
       "      <th>28</th>\n",
       "      <td>a</td>\n",
       "      <td>x</td>\n",
       "      <td>0.942993</td>\n",
       "      <td>0.987938</td>\n",
       "    </tr>\n",
       "    <tr>\n",
       "      <th>32</th>\n",
       "      <td>a</td>\n",
       "      <td>x</td>\n",
       "      <td>0.299497</td>\n",
       "      <td>0.459553</td>\n",
       "    </tr>\n",
       "    <tr>\n",
       "      <th>36</th>\n",
       "      <td>a</td>\n",
       "      <td>x</td>\n",
       "      <td>0.857518</td>\n",
       "      <td>0.219053</td>\n",
       "    </tr>\n",
       "    <tr>\n",
       "      <th>40</th>\n",
       "      <td>a</td>\n",
       "      <td>x</td>\n",
       "      <td>0.976103</td>\n",
       "      <td>0.083597</td>\n",
       "    </tr>\n",
       "    <tr>\n",
       "      <th>44</th>\n",
       "      <td>a</td>\n",
       "      <td>x</td>\n",
       "      <td>0.477859</td>\n",
       "      <td>0.767037</td>\n",
       "    </tr>\n",
       "    <tr>\n",
       "      <th>48</th>\n",
       "      <td>a</td>\n",
       "      <td>x</td>\n",
       "      <td>0.322882</td>\n",
       "      <td>0.832822</td>\n",
       "    </tr>\n",
       "  </tbody>\n",
       "</table>\n",
       "</div>"
      ],
      "text/plain": [
       "   k1 k2        v1        v2\n",
       "0   a  x  0.200359  0.397602\n",
       "4   a  x  0.504060  0.615437\n",
       "8   a  x  0.181356  0.389061\n",
       "12  a  x  0.970906  0.620099\n",
       "16  a  x  0.845216  0.531442\n",
       "20  a  x  0.562667  0.454200\n",
       "24  a  x  0.201467  0.459633\n",
       "28  a  x  0.942993  0.987938\n",
       "32  a  x  0.299497  0.459553\n",
       "36  a  x  0.857518  0.219053\n",
       "40  a  x  0.976103  0.083597\n",
       "44  a  x  0.477859  0.767037\n",
       "48  a  x  0.322882  0.832822"
      ]
     },
     "execution_count": 31,
     "metadata": {
      "tags": []
     },
     "output_type": "execute_result"
    }
   ],
   "source": [
    "df.loc[(df['k1']=='a') & (df['k2']=='x')]"
   ]
  },
  {
   "cell_type": "markdown",
   "metadata": {
    "colab_type": "text",
    "id": "7Zx-oiNj13Aq"
   },
   "source": [
    "#### Syntax\n",
    "\n",
    "`df.groupby('[<col-name(s)>]').apply(<udfs>) or <existing-function>`"
   ]
  },
  {
   "cell_type": "markdown",
   "metadata": {
    "colab_type": "text",
    "id": "t6sVOtj_13Aq"
   },
   "source": [
    "### Grouping by one key \n",
    "\n",
    "**Results in a summarized data frame indexed by levels of the key**"
   ]
  },
  {
   "cell_type": "code",
   "execution_count": 34,
   "metadata": {
    "colab": {
     "base_uri": "https://localhost:8080/",
     "height": 34
    },
    "colab_type": "code",
    "executionInfo": {
     "elapsed": 1359,
     "status": "ok",
     "timestamp": 1590341428731,
     "user": {
      "displayName": "nitin sharma",
      "photoUrl": "https://lh3.googleusercontent.com/a-/AOh14GipRPAC1mJTCRiZJ4x-tY1PlsClex3KCAbs6gvQ6Q=s64",
      "userId": "13417507190894542789"
     },
     "user_tz": -330
    },
    "id": "3EsUJDpHJpNU",
    "outputId": "97ae9886-a31b-4c45-b6c9-e408bcd72d49"
   },
   "outputs": [
    {
     "data": {
      "text/plain": [
       "0.5988439903307536"
      ]
     },
     "execution_count": 34,
     "metadata": {
      "tags": []
     },
     "output_type": "execute_result"
    }
   ],
   "source": [
    "df.loc[df['k1']=='a']['v1'].median()"
   ]
  },
  {
   "cell_type": "code",
   "execution_count": 35,
   "metadata": {
    "colab": {
     "base_uri": "https://localhost:8080/",
     "height": 119
    },
    "colab_type": "code",
    "executionInfo": {
     "elapsed": 1150,
     "status": "ok",
     "timestamp": 1590341430867,
     "user": {
      "displayName": "nitin sharma",
      "photoUrl": "https://lh3.googleusercontent.com/a-/AOh14GipRPAC1mJTCRiZJ4x-tY1PlsClex3KCAbs6gvQ6Q=s64",
      "userId": "13417507190894542789"
     },
     "user_tz": -330
    },
    "id": "svM5H_8k13At",
    "outputId": "eb3e9028-846e-4113-fa24-d1c316b8be3c"
   },
   "outputs": [
    {
     "data": {
      "text/plain": [
       "k1\n",
       "a    0.598844\n",
       "b    0.539865\n",
       "c    0.639257\n",
       "d    0.481637\n",
       "Name: v1, dtype: float64"
      ]
     },
     "execution_count": 35,
     "metadata": {
      "tags": []
     },
     "output_type": "execute_result"
    }
   ],
   "source": [
    "df.groupby('k1')['v1'].median()"
   ]
  },
  {
   "cell_type": "code",
   "execution_count": 36,
   "metadata": {
    "colab": {
     "base_uri": "https://localhost:8080/",
     "height": 142
    },
    "colab_type": "code",
    "executionInfo": {
     "elapsed": 1388,
     "status": "ok",
     "timestamp": 1590341476336,
     "user": {
      "displayName": "nitin sharma",
      "photoUrl": "https://lh3.googleusercontent.com/a-/AOh14GipRPAC1mJTCRiZJ4x-tY1PlsClex3KCAbs6gvQ6Q=s64",
      "userId": "13417507190894542789"
     },
     "user_tz": -330
    },
    "id": "v777x1wx13Az",
    "outputId": "53a442b4-ae86-4f76-86b1-1b12ba82b6da"
   },
   "outputs": [
    {
     "data": {
      "text/html": [
       "<div>\n",
       "<style scoped>\n",
       "    .dataframe tbody tr th:only-of-type {\n",
       "        vertical-align: middle;\n",
       "    }\n",
       "\n",
       "    .dataframe tbody tr th {\n",
       "        vertical-align: top;\n",
       "    }\n",
       "\n",
       "    .dataframe thead th {\n",
       "        text-align: right;\n",
       "    }\n",
       "</style>\n",
       "<table border=\"1\" class=\"dataframe\">\n",
       "  <thead>\n",
       "    <tr style=\"text-align: right;\">\n",
       "      <th></th>\n",
       "      <th>v1</th>\n",
       "      <th>v2</th>\n",
       "    </tr>\n",
       "    <tr>\n",
       "      <th>k2</th>\n",
       "      <th></th>\n",
       "      <th></th>\n",
       "    </tr>\n",
       "  </thead>\n",
       "  <tbody>\n",
       "    <tr>\n",
       "      <th>x</th>\n",
       "      <td>25.240679</td>\n",
       "      <td>26.317691</td>\n",
       "    </tr>\n",
       "    <tr>\n",
       "      <th>y</th>\n",
       "      <td>27.682929</td>\n",
       "      <td>22.605003</td>\n",
       "    </tr>\n",
       "  </tbody>\n",
       "</table>\n",
       "</div>"
      ],
      "text/plain": [
       "           v1         v2\n",
       "k2                      \n",
       "x   25.240679  26.317691\n",
       "y   27.682929  22.605003"
      ]
     },
     "execution_count": 36,
     "metadata": {
      "tags": []
     },
     "output_type": "execute_result"
    }
   ],
   "source": [
    "df.groupby('k2').sum()"
   ]
  },
  {
   "cell_type": "markdown",
   "metadata": {
    "colab_type": "text",
    "id": "i3x-R1nc13A3"
   },
   "source": [
    "### Grouping by two keys\n",
    "\n",
    "**Results in a summarized data frame with a hierarchical index**"
   ]
  },
  {
   "cell_type": "code",
   "execution_count": 0,
   "metadata": {
    "colab": {
     "base_uri": "https://localhost:8080/",
     "height": 328
    },
    "colab_type": "code",
    "executionInfo": {
     "elapsed": 1070,
     "status": "ok",
     "timestamp": 1585396232923,
     "user": {
      "displayName": "nitin sharma",
      "photoUrl": "https://lh3.googleusercontent.com/a-/AOh14GipRPAC1mJTCRiZJ4x-tY1PlsClex3KCAbs6gvQ6Q=s64",
      "userId": "13417507190894542789"
     },
     "user_tz": -330
    },
    "id": "XVR37oHD13A4",
    "outputId": "53270c48-b75a-4b19-d3ba-36425851fb2a",
    "scrolled": true
   },
   "outputs": [
    {
     "data": {
      "text/html": [
       "<div>\n",
       "<style scoped>\n",
       "    .dataframe tbody tr th:only-of-type {\n",
       "        vertical-align: middle;\n",
       "    }\n",
       "\n",
       "    .dataframe tbody tr th {\n",
       "        vertical-align: top;\n",
       "    }\n",
       "\n",
       "    .dataframe thead th {\n",
       "        text-align: right;\n",
       "    }\n",
       "</style>\n",
       "<table border=\"1\" class=\"dataframe\">\n",
       "  <thead>\n",
       "    <tr style=\"text-align: right;\">\n",
       "      <th></th>\n",
       "      <th></th>\n",
       "      <th>v1</th>\n",
       "      <th>v2</th>\n",
       "    </tr>\n",
       "    <tr>\n",
       "      <th>k1</th>\n",
       "      <th>k2</th>\n",
       "      <th></th>\n",
       "      <th></th>\n",
       "    </tr>\n",
       "  </thead>\n",
       "  <tbody>\n",
       "    <tr>\n",
       "      <th rowspan=\"2\" valign=\"top\">a</th>\n",
       "      <th>x</th>\n",
       "      <td>7.857289</td>\n",
       "      <td>8.037960</td>\n",
       "    </tr>\n",
       "    <tr>\n",
       "      <th>y</th>\n",
       "      <td>7.702608</td>\n",
       "      <td>7.887255</td>\n",
       "    </tr>\n",
       "    <tr>\n",
       "      <th rowspan=\"2\" valign=\"top\">b</th>\n",
       "      <th>x</th>\n",
       "      <td>4.231413</td>\n",
       "      <td>4.196574</td>\n",
       "    </tr>\n",
       "    <tr>\n",
       "      <th>y</th>\n",
       "      <td>5.306401</td>\n",
       "      <td>6.151168</td>\n",
       "    </tr>\n",
       "    <tr>\n",
       "      <th rowspan=\"2\" valign=\"top\">c</th>\n",
       "      <th>x</th>\n",
       "      <td>7.443135</td>\n",
       "      <td>6.766864</td>\n",
       "    </tr>\n",
       "    <tr>\n",
       "      <th>y</th>\n",
       "      <td>5.254970</td>\n",
       "      <td>7.262794</td>\n",
       "    </tr>\n",
       "    <tr>\n",
       "      <th rowspan=\"2\" valign=\"top\">d</th>\n",
       "      <th>x</th>\n",
       "      <td>7.174386</td>\n",
       "      <td>8.115971</td>\n",
       "    </tr>\n",
       "    <tr>\n",
       "      <th>y</th>\n",
       "      <td>5.802266</td>\n",
       "      <td>5.210970</td>\n",
       "    </tr>\n",
       "  </tbody>\n",
       "</table>\n",
       "</div>"
      ],
      "text/plain": [
       "             v1        v2\n",
       "k1 k2                    \n",
       "a  x   7.857289  8.037960\n",
       "   y   7.702608  7.887255\n",
       "b  x   4.231413  4.196574\n",
       "   y   5.306401  6.151168\n",
       "c  x   7.443135  6.766864\n",
       "   y   5.254970  7.262794\n",
       "d  x   7.174386  8.115971\n",
       "   y   5.802266  5.210970"
      ]
     },
     "execution_count": 9,
     "metadata": {
      "tags": []
     },
     "output_type": "execute_result"
    }
   ],
   "source": [
    "df.groupby(['k1', 'k2']).sum().reset"
   ]
  },
  {
   "cell_type": "markdown",
   "metadata": {
    "colab_type": "text",
    "id": "KGueSOsH13A6"
   },
   "source": [
    "### Groupby objects Methods"
   ]
  },
  {
   "cell_type": "markdown",
   "metadata": {
    "colab_type": "text",
    "id": "FquHXvQk13A6"
   },
   "source": [
    "---\n",
    "### Task 1: \n",
    "\n",
    "1. Create a 100x4 DataFrame filled with random numbers (from a normal distribution.)\n",
    "Ensure that there's 2 categorical columns with 5 and 3 categories each.\n",
    "\n",
    "2. Create the groupby object using both keys and find the mean, max, median for each group.\n",
    "\n",
    "---"
   ]
  },
  {
   "cell_type": "markdown",
   "metadata": {
    "colab_type": "text",
    "id": "-T2MV1Hr13A7"
   },
   "source": [
    "### Column-wise aggregations and UDFs\n",
    "\n",
    "**For simple aggregations (Series or all numeric columns of a DataFrame) we can call methods like `mean` and `sum`**"
   ]
  },
  {
   "cell_type": "code",
   "execution_count": 0,
   "metadata": {
    "colab": {},
    "colab_type": "code",
    "id": "DMgsl2Q713A7",
    "outputId": "1136cd08-2522-4509-d166-33a2547cd7f7"
   },
   "outputs": [
    {
     "data": {
      "text/plain": [
       "k1\n",
       "a    12.050103\n",
       "b    13.957522\n",
       "c    12.290902\n",
       "d    12.938198\n",
       "Name: v1, dtype: float64"
      ]
     },
     "execution_count": 50,
     "metadata": {
      "tags": []
     },
     "output_type": "execute_result"
    }
   ],
   "source": [
    "# Summing a Series\n",
    "# Syntax: Select a Series - GroupBy - Apply function\n",
    "df['v1'].groupby(df['k1']).sum()"
   ]
  },
  {
   "cell_type": "code",
   "execution_count": 0,
   "metadata": {
    "colab": {},
    "colab_type": "code",
    "id": "GLFdjl1n13A9",
    "outputId": "79405f15-5a1f-46e8-d8b3-e1b35966f94f"
   },
   "outputs": [
    {
     "data": {
      "text/html": [
       "<div>\n",
       "<style scoped>\n",
       "    .dataframe tbody tr th:only-of-type {\n",
       "        vertical-align: middle;\n",
       "    }\n",
       "\n",
       "    .dataframe tbody tr th {\n",
       "        vertical-align: top;\n",
       "    }\n",
       "\n",
       "    .dataframe thead th {\n",
       "        text-align: right;\n",
       "    }\n",
       "</style>\n",
       "<table border=\"1\" class=\"dataframe\">\n",
       "  <thead>\n",
       "    <tr style=\"text-align: right;\">\n",
       "      <th></th>\n",
       "      <th>v1</th>\n",
       "      <th>v2</th>\n",
       "    </tr>\n",
       "    <tr>\n",
       "      <th>k2</th>\n",
       "      <th></th>\n",
       "      <th></th>\n",
       "    </tr>\n",
       "  </thead>\n",
       "  <tbody>\n",
       "    <tr>\n",
       "      <th>x</th>\n",
       "      <td>0.483648</td>\n",
       "      <td>0.540127</td>\n",
       "    </tr>\n",
       "    <tr>\n",
       "      <th>y</th>\n",
       "      <td>0.541087</td>\n",
       "      <td>0.521590</td>\n",
       "    </tr>\n",
       "  </tbody>\n",
       "</table>\n",
       "</div>"
      ],
      "text/plain": [
       "          v1        v2\n",
       "k2                    \n",
       "x   0.483648  0.540127\n",
       "y   0.541087  0.521590"
      ]
     },
     "execution_count": 51,
     "metadata": {
      "tags": []
     },
     "output_type": "execute_result"
    }
   ],
   "source": [
    "# Summing all Series of a DataFrame\n",
    "# Syntax: Select DF - Groupby - Apply\n",
    "df.groupby('k2').mean()"
   ]
  },
  {
   "cell_type": "markdown",
   "metadata": {
    "colab_type": "text",
    "id": "26EcvaF613A_"
   },
   "source": [
    "**or you can pass the name of a function as a string with the `.agg()` method**"
   ]
  },
  {
   "cell_type": "code",
   "execution_count": 0,
   "metadata": {
    "colab": {
     "base_uri": "https://localhost:8080/",
     "height": 119
    },
    "colab_type": "code",
    "executionInfo": {
     "elapsed": 2176,
     "status": "ok",
     "timestamp": 1584275630102,
     "user": {
      "displayName": "nitin sharma",
      "photoUrl": "https://lh3.googleusercontent.com/a-/AOh14GipRPAC1mJTCRiZJ4x-tY1PlsClex3KCAbs6gvQ6Q=s64",
      "userId": "13417507190894542789"
     },
     "user_tz": -330
    },
    "id": "AuD3S-mQ13BA",
    "outputId": "2eaf6063-e04a-4aba-990d-642e717124a3"
   },
   "outputs": [
    {
     "data": {
      "text/plain": [
       "k1\n",
       "a    14.676931\n",
       "b    12.368777\n",
       "c    10.436070\n",
       "d    15.368085\n",
       "Name: v1, dtype: float64"
      ]
     },
     "execution_count": 86,
     "metadata": {
      "tags": []
     },
     "output_type": "execute_result"
    }
   ],
   "source": [
    "df['v1'].groupby(df['k1']).agg('sum')"
   ]
  },
  {
   "cell_type": "code",
   "execution_count": 0,
   "metadata": {
    "colab": {
     "base_uri": "https://localhost:8080/",
     "height": 204
    },
    "colab_type": "code",
    "executionInfo": {
     "elapsed": 2143,
     "status": "ok",
     "timestamp": 1584275636938,
     "user": {
      "displayName": "nitin sharma",
      "photoUrl": "https://lh3.googleusercontent.com/a-/AOh14GipRPAC1mJTCRiZJ4x-tY1PlsClex3KCAbs6gvQ6Q=s64",
      "userId": "13417507190894542789"
     },
     "user_tz": -330
    },
    "id": "6n6qvGu913BD",
    "outputId": "d77d7da8-4f8b-48d5-b131-098294353d34"
   },
   "outputs": [
    {
     "data": {
      "text/html": [
       "<div>\n",
       "<style scoped>\n",
       "    .dataframe tbody tr th:only-of-type {\n",
       "        vertical-align: middle;\n",
       "    }\n",
       "\n",
       "    .dataframe tbody tr th {\n",
       "        vertical-align: top;\n",
       "    }\n",
       "\n",
       "    .dataframe thead th {\n",
       "        text-align: right;\n",
       "    }\n",
       "</style>\n",
       "<table border=\"1\" class=\"dataframe\">\n",
       "  <thead>\n",
       "    <tr style=\"text-align: right;\">\n",
       "      <th></th>\n",
       "      <th>mu_v1</th>\n",
       "      <th>mu_v2</th>\n",
       "    </tr>\n",
       "    <tr>\n",
       "      <th>k1</th>\n",
       "      <th></th>\n",
       "      <th></th>\n",
       "    </tr>\n",
       "  </thead>\n",
       "  <tbody>\n",
       "    <tr>\n",
       "      <th>a</th>\n",
       "      <td>0.587077</td>\n",
       "      <td>0.415171</td>\n",
       "    </tr>\n",
       "    <tr>\n",
       "      <th>b</th>\n",
       "      <td>0.494751</td>\n",
       "      <td>0.356953</td>\n",
       "    </tr>\n",
       "    <tr>\n",
       "      <th>c</th>\n",
       "      <td>0.417443</td>\n",
       "      <td>0.476260</td>\n",
       "    </tr>\n",
       "    <tr>\n",
       "      <th>d</th>\n",
       "      <td>0.614723</td>\n",
       "      <td>0.482806</td>\n",
       "    </tr>\n",
       "  </tbody>\n",
       "</table>\n",
       "</div>"
      ],
      "text/plain": [
       "       mu_v1     mu_v2\n",
       "k1                    \n",
       "a   0.587077  0.415171\n",
       "b   0.494751  0.356953\n",
       "c   0.417443  0.476260\n",
       "d   0.614723  0.482806"
      ]
     },
     "execution_count": 87,
     "metadata": {
      "tags": []
     },
     "output_type": "execute_result"
    }
   ],
   "source": [
    "df.groupby(df.k1).agg('mean').add_prefix('mu_')"
   ]
  },
  {
   "cell_type": "code",
   "execution_count": 0,
   "metadata": {
    "colab": {
     "base_uri": "https://localhost:8080/",
     "height": 204
    },
    "colab_type": "code",
    "executionInfo": {
     "elapsed": 2161,
     "status": "ok",
     "timestamp": 1584275646687,
     "user": {
      "displayName": "nitin sharma",
      "photoUrl": "https://lh3.googleusercontent.com/a-/AOh14GipRPAC1mJTCRiZJ4x-tY1PlsClex3KCAbs6gvQ6Q=s64",
      "userId": "13417507190894542789"
     },
     "user_tz": -330
    },
    "id": "i1hy161Z13BH",
    "outputId": "963579a0-f9b9-4b42-95b4-5813eed18305"
   },
   "outputs": [
    {
     "data": {
      "text/html": [
       "<div>\n",
       "<style scoped>\n",
       "    .dataframe tbody tr th:only-of-type {\n",
       "        vertical-align: middle;\n",
       "    }\n",
       "\n",
       "    .dataframe tbody tr th {\n",
       "        vertical-align: top;\n",
       "    }\n",
       "\n",
       "    .dataframe thead th {\n",
       "        text-align: right;\n",
       "    }\n",
       "</style>\n",
       "<table border=\"1\" class=\"dataframe\">\n",
       "  <thead>\n",
       "    <tr style=\"text-align: right;\">\n",
       "      <th></th>\n",
       "      <th>mu_v1</th>\n",
       "      <th>mu_v2</th>\n",
       "      <th>sigma_v1</th>\n",
       "      <th>sigma_v2</th>\n",
       "    </tr>\n",
       "    <tr>\n",
       "      <th>k1</th>\n",
       "      <th></th>\n",
       "      <th></th>\n",
       "      <th></th>\n",
       "      <th></th>\n",
       "    </tr>\n",
       "  </thead>\n",
       "  <tbody>\n",
       "    <tr>\n",
       "      <th>a</th>\n",
       "      <td>0.587077</td>\n",
       "      <td>0.415171</td>\n",
       "      <td>0.281596</td>\n",
       "      <td>0.257141</td>\n",
       "    </tr>\n",
       "    <tr>\n",
       "      <th>b</th>\n",
       "      <td>0.494751</td>\n",
       "      <td>0.356953</td>\n",
       "      <td>0.282674</td>\n",
       "      <td>0.267841</td>\n",
       "    </tr>\n",
       "    <tr>\n",
       "      <th>c</th>\n",
       "      <td>0.417443</td>\n",
       "      <td>0.476260</td>\n",
       "      <td>0.341815</td>\n",
       "      <td>0.311841</td>\n",
       "    </tr>\n",
       "    <tr>\n",
       "      <th>d</th>\n",
       "      <td>0.614723</td>\n",
       "      <td>0.482806</td>\n",
       "      <td>0.282097</td>\n",
       "      <td>0.312640</td>\n",
       "    </tr>\n",
       "  </tbody>\n",
       "</table>\n",
       "</div>"
      ],
      "text/plain": [
       "       mu_v1     mu_v2  sigma_v1  sigma_v2\n",
       "k1                                        \n",
       "a   0.587077  0.415171  0.281596  0.257141\n",
       "b   0.494751  0.356953  0.282674  0.267841\n",
       "c   0.417443  0.476260  0.341815  0.311841\n",
       "d   0.614723  0.482806  0.282097  0.312640"
      ]
     },
     "execution_count": 88,
     "metadata": {
      "tags": []
     },
     "output_type": "execute_result"
    }
   ],
   "source": [
    "pd.concat([df.groupby(df.k1).agg('mean').add_prefix('mu_'),\n",
    "           df.groupby(df.k1).agg('std').add_prefix('sigma_')], axis=1)"
   ]
  },
  {
   "cell_type": "markdown",
   "metadata": {
    "colab_type": "text",
    "id": "LJoSHvFa13BL"
   },
   "source": [
    "---\n",
    "### The `.agg()` method\n",
    "\n",
    "takes as argument the following:\n",
    "* list of function names to be applied to all selected columns\n",
    "* tuples of (colname, function) to be applied to all selected columns\n",
    "* dict of (df.col, function) to be applied to each df.col\n",
    "\n",
    "**1. Apply >1 functions to selected column(s) by passing names of functions to `agg()`**"
   ]
  },
  {
   "cell_type": "code",
   "execution_count": 39,
   "metadata": {
    "colab": {
     "base_uri": "https://localhost:8080/",
     "height": 204
    },
    "colab_type": "code",
    "executionInfo": {
     "elapsed": 1174,
     "status": "ok",
     "timestamp": 1590341569653,
     "user": {
      "displayName": "nitin sharma",
      "photoUrl": "https://lh3.googleusercontent.com/a-/AOh14GipRPAC1mJTCRiZJ4x-tY1PlsClex3KCAbs6gvQ6Q=s64",
      "userId": "13417507190894542789"
     },
     "user_tz": -330
    },
    "id": "51S-L14P13BM",
    "outputId": "aed8c992-e42d-45ce-bdc6-d2abaf73946c"
   },
   "outputs": [
    {
     "data": {
      "text/html": [
       "<div>\n",
       "<style scoped>\n",
       "    .dataframe tbody tr th:only-of-type {\n",
       "        vertical-align: middle;\n",
       "    }\n",
       "\n",
       "    .dataframe tbody tr th {\n",
       "        vertical-align: top;\n",
       "    }\n",
       "\n",
       "    .dataframe thead th {\n",
       "        text-align: right;\n",
       "    }\n",
       "</style>\n",
       "<table border=\"1\" class=\"dataframe\">\n",
       "  <thead>\n",
       "    <tr style=\"text-align: right;\">\n",
       "      <th></th>\n",
       "      <th>v1</th>\n",
       "      <th>v2</th>\n",
       "    </tr>\n",
       "    <tr>\n",
       "      <th>k1</th>\n",
       "      <th></th>\n",
       "      <th></th>\n",
       "    </tr>\n",
       "  </thead>\n",
       "  <tbody>\n",
       "    <tr>\n",
       "      <th>a</th>\n",
       "      <td>13.534689</td>\n",
       "      <td>0.517117</td>\n",
       "    </tr>\n",
       "    <tr>\n",
       "      <th>b</th>\n",
       "      <td>11.672250</td>\n",
       "      <td>0.467137</td>\n",
       "    </tr>\n",
       "    <tr>\n",
       "      <th>c</th>\n",
       "      <td>14.760982</td>\n",
       "      <td>0.494601</td>\n",
       "    </tr>\n",
       "    <tr>\n",
       "      <th>d</th>\n",
       "      <td>12.955687</td>\n",
       "      <td>0.478052</td>\n",
       "    </tr>\n",
       "  </tbody>\n",
       "</table>\n",
       "</div>"
      ],
      "text/plain": [
       "           v1        v2\n",
       "k1                     \n",
       "a   13.534689  0.517117\n",
       "b   11.672250  0.467137\n",
       "c   14.760982  0.494601\n",
       "d   12.955687  0.478052"
      ]
     },
     "execution_count": 39,
     "metadata": {
      "tags": []
     },
     "output_type": "execute_result"
    }
   ],
   "source": [
    "# Apply min, mean, max and max to v1 grouped by k1\n",
    "df.groupby('k1').agg({'v1':'sum', 'v2':'max'})"
   ]
  },
  {
   "cell_type": "code",
   "execution_count": 0,
   "metadata": {
    "colab": {
     "base_uri": "https://localhost:8080/",
     "height": 235
    },
    "colab_type": "code",
    "executionInfo": {
     "elapsed": 1122,
     "status": "ok",
     "timestamp": 1584275904785,
     "user": {
      "displayName": "nitin sharma",
      "photoUrl": "https://lh3.googleusercontent.com/a-/AOh14GipRPAC1mJTCRiZJ4x-tY1PlsClex3KCAbs6gvQ6Q=s64",
      "userId": "13417507190894542789"
     },
     "user_tz": -330
    },
    "id": "0pSIBjaV13BS",
    "outputId": "c90c4ce8-666c-4e29-e9d6-6eff8946e68b"
   },
   "outputs": [
    {
     "data": {
      "text/html": [
       "<div>\n",
       "<style scoped>\n",
       "    .dataframe tbody tr th:only-of-type {\n",
       "        vertical-align: middle;\n",
       "    }\n",
       "\n",
       "    .dataframe tbody tr th {\n",
       "        vertical-align: top;\n",
       "    }\n",
       "\n",
       "    .dataframe thead tr th {\n",
       "        text-align: left;\n",
       "    }\n",
       "\n",
       "    .dataframe thead tr:last-of-type th {\n",
       "        text-align: right;\n",
       "    }\n",
       "</style>\n",
       "<table border=\"1\" class=\"dataframe\">\n",
       "  <thead>\n",
       "    <tr>\n",
       "      <th></th>\n",
       "      <th colspan=\"2\" halign=\"left\">v1</th>\n",
       "    </tr>\n",
       "    <tr>\n",
       "      <th></th>\n",
       "      <th>min</th>\n",
       "      <th>max</th>\n",
       "    </tr>\n",
       "    <tr>\n",
       "      <th>k1</th>\n",
       "      <th></th>\n",
       "      <th></th>\n",
       "    </tr>\n",
       "  </thead>\n",
       "  <tbody>\n",
       "    <tr>\n",
       "      <th>a</th>\n",
       "      <td>0.012435</td>\n",
       "      <td>0.991892</td>\n",
       "    </tr>\n",
       "    <tr>\n",
       "      <th>b</th>\n",
       "      <td>0.057325</td>\n",
       "      <td>0.928923</td>\n",
       "    </tr>\n",
       "    <tr>\n",
       "      <th>c</th>\n",
       "      <td>0.034324</td>\n",
       "      <td>0.966476</td>\n",
       "    </tr>\n",
       "    <tr>\n",
       "      <th>d</th>\n",
       "      <td>0.009129</td>\n",
       "      <td>0.998063</td>\n",
       "    </tr>\n",
       "  </tbody>\n",
       "</table>\n",
       "</div>"
      ],
      "text/plain": [
       "          v1          \n",
       "         min       max\n",
       "k1                    \n",
       "a   0.012435  0.991892\n",
       "b   0.057325  0.928923\n",
       "c   0.034324  0.966476\n",
       "d   0.009129  0.998063"
      ]
     },
     "execution_count": 89,
     "metadata": {
      "tags": []
     },
     "output_type": "execute_result"
    }
   ],
   "source": [
    "# Apply min and max to all numeric columns of df grouped by k2\n",
    "df.groupby('k1')[['v1']].agg(['min', 'max'])"
   ]
  },
  {
   "cell_type": "markdown",
   "metadata": {
    "colab_type": "text",
    "id": "rq0phFCg13BT"
   },
   "source": [
    "### 2. We can supply names for the columns in the aggregated df\n",
    "\n",
    "to the agg() method, in a list of tuples as `[(colname1, func1), (colname2, func2) ...] `"
   ]
  },
  {
   "cell_type": "code",
   "execution_count": 0,
   "metadata": {
    "colab": {
     "base_uri": "https://localhost:8080/",
     "height": 235
    },
    "colab_type": "code",
    "executionInfo": {
     "elapsed": 1165,
     "status": "ok",
     "timestamp": 1584275943011,
     "user": {
      "displayName": "nitin sharma",
      "photoUrl": "https://lh3.googleusercontent.com/a-/AOh14GipRPAC1mJTCRiZJ4x-tY1PlsClex3KCAbs6gvQ6Q=s64",
      "userId": "13417507190894542789"
     },
     "user_tz": -330
    },
    "id": "NcHQu4Yk13BU",
    "outputId": "ad2c3818-8bc7-4313-a055-640fff3d1c09"
   },
   "outputs": [
    {
     "data": {
      "text/html": [
       "<div>\n",
       "<style scoped>\n",
       "    .dataframe tbody tr th:only-of-type {\n",
       "        vertical-align: middle;\n",
       "    }\n",
       "\n",
       "    .dataframe tbody tr th {\n",
       "        vertical-align: top;\n",
       "    }\n",
       "\n",
       "    .dataframe thead tr th {\n",
       "        text-align: left;\n",
       "    }\n",
       "\n",
       "    .dataframe thead tr:last-of-type th {\n",
       "        text-align: right;\n",
       "    }\n",
       "</style>\n",
       "<table border=\"1\" class=\"dataframe\">\n",
       "  <thead>\n",
       "    <tr>\n",
       "      <th></th>\n",
       "      <th colspan=\"2\" halign=\"left\">v1</th>\n",
       "      <th colspan=\"2\" halign=\"left\">v2</th>\n",
       "    </tr>\n",
       "    <tr>\n",
       "      <th></th>\n",
       "      <th>tot_sales</th>\n",
       "      <th>largest</th>\n",
       "      <th>tot_sales</th>\n",
       "      <th>largest</th>\n",
       "    </tr>\n",
       "    <tr>\n",
       "      <th>k1</th>\n",
       "      <th></th>\n",
       "      <th></th>\n",
       "      <th></th>\n",
       "      <th></th>\n",
       "    </tr>\n",
       "  </thead>\n",
       "  <tbody>\n",
       "    <tr>\n",
       "      <th>a</th>\n",
       "      <td>14.676931</td>\n",
       "      <td>0.991892</td>\n",
       "      <td>10.379281</td>\n",
       "      <td>0.916597</td>\n",
       "    </tr>\n",
       "    <tr>\n",
       "      <th>b</th>\n",
       "      <td>12.368777</td>\n",
       "      <td>0.928923</td>\n",
       "      <td>8.923835</td>\n",
       "      <td>0.798822</td>\n",
       "    </tr>\n",
       "    <tr>\n",
       "      <th>c</th>\n",
       "      <td>10.436070</td>\n",
       "      <td>0.966476</td>\n",
       "      <td>11.906504</td>\n",
       "      <td>0.977651</td>\n",
       "    </tr>\n",
       "    <tr>\n",
       "      <th>d</th>\n",
       "      <td>15.368085</td>\n",
       "      <td>0.998063</td>\n",
       "      <td>12.070139</td>\n",
       "      <td>0.999728</td>\n",
       "    </tr>\n",
       "  </tbody>\n",
       "</table>\n",
       "</div>"
      ],
      "text/plain": [
       "           v1                   v2          \n",
       "    tot_sales   largest  tot_sales   largest\n",
       "k1                                          \n",
       "a   14.676931  0.991892  10.379281  0.916597\n",
       "b   12.368777  0.928923   8.923835  0.798822\n",
       "c   10.436070  0.966476  11.906504  0.977651\n",
       "d   15.368085  0.998063  12.070139  0.999728"
      ]
     },
     "execution_count": 91,
     "metadata": {
      "tags": []
     },
     "output_type": "execute_result"
    }
   ],
   "source": [
    "df.groupby('k1')[['v1', 'v2']].agg([('tot_sales', 'sum'), ('largest', 'max')])"
   ]
  },
  {
   "cell_type": "markdown",
   "metadata": {
    "colab_type": "text",
    "id": "0sbNKV2l13BV"
   },
   "source": [
    "### 3. We can supply df columns and which funcs to apply to each\n",
    "\n",
    "to the agg() method in a dictionary"
   ]
  },
  {
   "cell_type": "code",
   "execution_count": 0,
   "metadata": {
    "colab": {},
    "colab_type": "code",
    "id": "LN01XzaV13BW",
    "outputId": "4cab4081-72e6-4f0b-ca37-f133bd8e7c52"
   },
   "outputs": [
    {
     "data": {
      "text/html": [
       "<div>\n",
       "<style scoped>\n",
       "    .dataframe tbody tr th:only-of-type {\n",
       "        vertical-align: middle;\n",
       "    }\n",
       "\n",
       "    .dataframe tbody tr th {\n",
       "        vertical-align: top;\n",
       "    }\n",
       "\n",
       "    .dataframe thead tr th {\n",
       "        text-align: left;\n",
       "    }\n",
       "\n",
       "    .dataframe thead tr:last-of-type th {\n",
       "        text-align: right;\n",
       "    }\n",
       "</style>\n",
       "<table border=\"1\" class=\"dataframe\">\n",
       "  <thead>\n",
       "    <tr>\n",
       "      <th></th>\n",
       "      <th colspan=\"2\" halign=\"left\">v1</th>\n",
       "      <th colspan=\"2\" halign=\"left\">v2</th>\n",
       "    </tr>\n",
       "    <tr>\n",
       "      <th></th>\n",
       "      <th>max</th>\n",
       "      <th>min</th>\n",
       "      <th>mean</th>\n",
       "      <th>sum</th>\n",
       "    </tr>\n",
       "    <tr>\n",
       "      <th>k1</th>\n",
       "      <th></th>\n",
       "      <th></th>\n",
       "      <th></th>\n",
       "      <th></th>\n",
       "    </tr>\n",
       "  </thead>\n",
       "  <tbody>\n",
       "    <tr>\n",
       "      <th>a</th>\n",
       "      <td>0.963949</td>\n",
       "      <td>0.017882</td>\n",
       "      <td>0.566793</td>\n",
       "      <td>14.169827</td>\n",
       "    </tr>\n",
       "    <tr>\n",
       "      <th>b</th>\n",
       "      <td>0.997683</td>\n",
       "      <td>0.032424</td>\n",
       "      <td>0.487438</td>\n",
       "      <td>12.185947</td>\n",
       "    </tr>\n",
       "    <tr>\n",
       "      <th>c</th>\n",
       "      <td>0.906901</td>\n",
       "      <td>0.012879</td>\n",
       "      <td>0.535648</td>\n",
       "      <td>13.391210</td>\n",
       "    </tr>\n",
       "    <tr>\n",
       "      <th>d</th>\n",
       "      <td>0.961399</td>\n",
       "      <td>0.031368</td>\n",
       "      <td>0.533555</td>\n",
       "      <td>13.338887</td>\n",
       "    </tr>\n",
       "  </tbody>\n",
       "</table>\n",
       "</div>"
      ],
      "text/plain": [
       "          v1                  v2           \n",
       "         max       min      mean        sum\n",
       "k1                                         \n",
       "a   0.963949  0.017882  0.566793  14.169827\n",
       "b   0.997683  0.032424  0.487438  12.185947\n",
       "c   0.906901  0.012879  0.535648  13.391210\n",
       "d   0.961399  0.031368  0.533555  13.338887"
      ]
     },
     "execution_count": 58,
     "metadata": {
      "tags": []
     },
     "output_type": "execute_result"
    }
   ],
   "source": [
    "# Apply max and min to v1; and mean and sum to v2; all grouped by k1\n",
    "df[['v1', 'v2']].groupby(df['k1']).agg({'v1': ['max', 'min'], 'v2': ['mean', 'sum']})"
   ]
  }
 ],
 "metadata": {
  "anaconda-cloud": {},
  "colab": {
   "name": "4.Data wrangling and manipulation.ipynb",
   "provenance": []
  },
  "kernelspec": {
   "display_name": "Python 3",
   "language": "python",
   "name": "python3"
  },
  "language_info": {
   "codemirror_mode": {
    "name": "ipython",
    "version": 3
   },
   "file_extension": ".py",
   "mimetype": "text/x-python",
   "name": "python",
   "nbconvert_exporter": "python",
   "pygments_lexer": "ipython3",
   "version": "3.7.8"
  }
 },
 "nbformat": 4,
 "nbformat_minor": 1
}
